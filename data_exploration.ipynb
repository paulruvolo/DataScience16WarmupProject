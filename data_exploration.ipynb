{
 "cells": [
  {
   "cell_type": "markdown",
   "metadata": {},
   "source": [
    "Import Titanic training set as data"
   ]
  },
  {
   "cell_type": "code",
   "execution_count": 99,
   "metadata": {
    "collapsed": false
   },
   "outputs": [],
   "source": [
    "%matplotlib inline\n",
    "import sys\n",
    "sys.path.append('../DataScience16/ThinkStats2')\n",
    "import thinkstats2, thinkplot\n",
    "import pandas as pd\n",
    "import numpy as np\n",
    "import matplotlib.pyplot as plt\n",
    "data = pd.read_csv('./train.csv')"
   ]
  },
  {
   "cell_type": "markdown",
   "metadata": {},
   "source": [
    "Check for null data"
   ]
  },
  {
   "cell_type": "code",
   "execution_count": 93,
   "metadata": {
    "collapsed": false
   },
   "outputs": [
    {
     "data": {
      "text/plain": [
       "PassengerId      0\n",
       "Survived         0\n",
       "Pclass           0\n",
       "Name             0\n",
       "Sex              0\n",
       "Age            177\n",
       "SibSp            0\n",
       "Parch            0\n",
       "Ticket           0\n",
       "Fare             0\n",
       "Cabin          687\n",
       "Embarked         2\n",
       "dtype: int64"
      ]
     },
     "execution_count": 93,
     "metadata": {},
     "output_type": "execute_result"
    }
   ],
   "source": [
    "data.isnull().sum()"
   ]
  },
  {
   "cell_type": "code",
   "execution_count": 38,
   "metadata": {
    "collapsed": false
   },
   "outputs": [
    {
     "data": {
      "image/png": "[encoded data removed]",
      "text/plain": [
       "<matplotlib.figure.Figure at 0x7f589e0fbd10>"
      ]
     },
     "metadata": {},
     "output_type": "display_data"
    }
   ],
   "source": [
    "plt.hist(data.Age[data.Sex=='female'], bins=np.arange(0, 82, 2), alpha=.5)\n",
    "plt.hist(data.Age[data.Sex=='male'], bins=np.arange(0, 82, 2), alpha=.5)\n",
    "plt.legend(['female', 'male'])\n",
    "plt.show()"
   ]
  },
  {
   "cell_type": "markdown",
   "metadata": {},
   "source": [
    "Age distribution for men and women are fairly similar. If they were different, it could affect other investigations."
   ]
  },
  {
   "cell_type": "code",
   "execution_count": 96,
   "metadata": {
    "collapsed": false
   },
   "outputs": [
    {
     "data": {
      "image/png": "[encoded data removed]",
      "text/plain": [
       "<matplotlib.figure.Figure at 0x7f589d9443d0>"
      ]
     },
     "metadata": {},
     "output_type": "display_data"
    }
   ],
   "source": [
    "plt.hist(data[data.Survived==1].Age, bins=np.arange(0, 82, 2), alpha=.5)\n",
    "plt.hist(data[data.Survived==0].Age, bins=np.arange(0, 82, 2), alpha=.5)\n",
    "plt.hist(data[data.Survived==1].Age - data[data.Survived==0].Age, bins=np.arange(0, 82, 2))\n",
    "plt.legend(['survived', 'died'])\n",
    "plt.show()"
   ]
  },
  {
   "cell_type": "markdown",
   "metadata": {},
   "source": [
    "Investigate basic survival rates among males/females, and adults/children."
   ]
  },
  {
   "cell_type": "code",
   "execution_count": 73,
   "metadata": {
    "collapsed": false
   },
   "outputs": [
    {
     "name": "stdout",
     "output_type": "stream",
     "text": [
      "% of males who survived: 18.8908145581\n",
      "% of females who survived: 74.2038216561\n"
     ]
    }
   ],
   "source": [
    "female_surv, male_surv = data.groupby('Sex').Survived.mean()\n",
    "print '% of males who survived:', male_surv*100\n",
    "print '% of females who survived:', female_surv*100"
   ]
  },
  {
   "cell_type": "code",
   "execution_count": 95,
   "metadata": {
    "collapsed": false
   },
   "outputs": [
    {
     "name": "stdout",
     "output_type": "stream",
     "text": [
      "% of children under 16 who survived: 0.590361445783\n",
      "% of adults 16 and older who survived: 0.362623762376\n"
     ]
    }
   ],
   "source": [
    "over_16_surv, under_16_surv = data.groupby(data.Age<16).Survived.mean()\n",
    "print '% of children under 16 who survived:', under_16_surv\n",
    "print '% of adults 16 and older who survived:', over_16_surv"
   ]
  },
  {
   "cell_type": "markdown",
   "metadata": {},
   "source": [
    "Investigate how the intersection of age and sex affect survival chances."
   ]
  },
  {
   "cell_type": "code",
   "execution_count": 97,
   "metadata": {
    "collapsed": false
   },
   "outputs": [
    {
     "name": "stdout",
     "output_type": "stream",
     "text": [
      "A male child is 3.20369318182 more likely to surive the crash than a male adult.\n",
      "A female child, however, is only 0.860805445264 more likely to survive the crash than an adult female.\n",
      "An adult female is 4.61611036565 more likely to survive the crash than an adult male.\n"
     ]
    }
   ],
   "source": [
    "fem_adult, fem_child, male_adult, male_child = data.groupby(['Sex', data.Age<16]).mean().Survived\n",
    "\n",
    "print 'A male child is', male_child/male_adult, 'more likely to surive the crash than a male adult.' \n",
    "print 'A female child, however, is only', fem_child/fem_adult, 'more likely to survive the crash than an adult female.'\n",
    "print 'An adult female is', fem_adult/male_adult, 'more likely to survive the crash than an adult male.'"
   ]
  },
  {
   "cell_type": "markdown",
   "metadata": {},
   "source": [
    "Investigate whether males with families were more likely to survive."
   ]
  },
  {
   "cell_type": "code",
   "execution_count": 172,
   "metadata": {
    "collapsed": false
   },
   "outputs": [
    {
     "name": "stdout",
     "output_type": "stream",
     "text": [
      "Survival rate of males with / without families: 0.285714285714 / 0.451612903226\n",
      "Survival rate of females with / without families: 0.583333333333 / 0.769230769231\n"
     ]
    }
   ],
   "source": [
    "# fem_fam, male_fam \n",
    "fam = data[(data.SibSp != 0) & (data.Parch != 0)]\n",
    "lone = data[(data.SibSp == 1) & (data.Parch == 1)]\n",
    "fem_fam = fam[fam.Sex=='female'].Survived\n",
    "male_fam = fam[fam.Sex=='male'].Survived\n",
    "fem_lone = lone[fam.Sex=='female'].Survived\n",
    "male_lone = lone[fam.Sex=='male'].Survived\n",
    "\n",
    "print 'Survival rate of males with / without families:', male_fam.mean(), '/', male_lone.mean()\n",
    "print 'Survival rate of females with / without families:', fem_fam.mean(), '/', fem_lone.mean()"
   ]
  },
  {
   "cell_type": "markdown",
   "metadata": {},
   "source": [
    "Passengers traveling without families tended to survive more than those travelling with them."
   ]
  },
  {
   "cell_type": "code",
   "execution_count": null,
   "metadata": {
    "collapsed": true
   },
   "outputs": [],
   "source": []
  }
 ],
 "metadata": {
  "kernelspec": {
   "display_name": "Python 2",
   "language": "python",
   "name": "python2"
  },
  "language_info": {
   "codemirror_mode": {
    "name": "ipython",
    "version": 2
   },
   "file_extension": ".py",
   "mimetype": "text/x-python",
   "name": "python",
   "nbconvert_exporter": "python",
   "pygments_lexer": "ipython2",
   "version": "2.7.11"
  }
 },
 "nbformat": 4,
 "nbformat_minor": 0
}

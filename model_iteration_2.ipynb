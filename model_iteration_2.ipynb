{
 "cells": [
  {
   "cell_type": "markdown",
   "metadata": {},
   "source": [
    "## I drew inspiration from both the DataQuest about forests and the blog post on altervista"
   ]
  },
  {
   "cell_type": "code",
   "execution_count": 1,
   "metadata": {
    "collapsed": false
   },
   "outputs": [],
   "source": [
    "import pandas as pd\n",
    "import os\n",
    "import matplotlib.pyplot as plt\n",
    "import seaborn as sns\n",
    "import sklearn\n",
    "import numpy as np\n",
    "\n",
    "%matplotlib inline\n",
    "\n",
    "cur_dir = os.path.dirname('__file__')\n",
    "\n",
    "train = pd.read_csv(os.path.join(cur_dir, \"train.csv\"))\n",
    "test = pd.read_csv(os.path.join(cur_dir, \"test.csv\"))"
   ]
  },
  {
   "cell_type": "markdown",
   "metadata": {},
   "source": [
    "## This cell contains code to clean up the data for a submission. It creates a few features, such as `oneSibSp` and `hasParch`. Additionally, it fills NaNs and extracts title information from the people's names."
   ]
  },
  {
   "cell_type": "code",
   "execution_count": 2,
   "metadata": {
    "collapsed": false
   },
   "outputs": [],
   "source": [
    "import re, operator, string\n",
    "\n",
    "# A function to get the title from a name.\n",
    "def get_title(name):\n",
    "    # Use a regular expression to search for a title.  Titles always consist of capital and lowercase letters, and end with a period.\n",
    "    title_search = re.search(' ([A-Za-z]+)\\.', name)\n",
    "    # If the title exists, extract and return it.\n",
    "    if title_search:\n",
    "        return title_search.group(1)\n",
    "    return \"\"\n",
    "\n",
    "# A function to get the id given a row\n",
    "def get_family_id(row, family_id_mapping):\n",
    "    # Find the last name by splitting on a comma\n",
    "    last_name = row[\"Name\"].split(\",\")[0]\n",
    "    # Create the family id\n",
    "    family_id = \"{0}{1}\".format(last_name, row[\"FamilySize\"])\n",
    "    # Look up the id in the mapping\n",
    "    if family_id not in family_id_mapping:\n",
    "        if len(family_id_mapping) == 0:\n",
    "            current_id = 1\n",
    "        else:\n",
    "            # Get the maximum id from the mapping and add one to it if we don't have an id\n",
    "            current_id = (max(family_id_mapping.items(), key=operator.itemgetter(1))[1] + 1)\n",
    "        family_id_mapping[family_id] = current_id\n",
    "    return family_id_mapping[family_id]\n",
    "\n",
    "def preprocess(df):\n",
    "    \n",
    "    df = df.copy()\n",
    "\n",
    "    df.Sex = (df.Sex == \"male\").astype(int)\n",
    "    df.Age = df.Age.fillna(df.Age.median())\n",
    "    df.Embarked = df.Embarked.fillna(df.Embarked.mode())\n",
    "    df.Fare = df.Fare.fillna(df.Fare.median())\n",
    "    df[\"oneSibSp\"] = (df.SibSp == 1).astype(int)\n",
    "    df[\"hasParch\"] = (df.Parch > 0).astype(int)\n",
    "    df[\"maleAge\"] = df.Sex * df.Age\n",
    "    df[\"is20\"] = df.Age >= 20\n",
    "    # Generating a familysize column\n",
    "    df[\"FamilySize\"] = df[\"SibSp\"] + df[\"Parch\"]\n",
    "    \n",
    "    # Get all the titles and print how often each one occurs.\n",
    "    titles = df[\"Name\"].apply(get_title)\n",
    "\n",
    "    # Map each title to an integer.  Some titles are very rare, and are compressed into the same codes as other titles.\n",
    "    title_mapping = {\"Mr\": 1, \"Miss\": 2, \"Mrs\": 3, \"Master\": 4, \"Dr\": 5, \"Rev\": 6, \"Major\": 7, \"Col\": 7, \"Mlle\": 8, \"Mme\": 8, \"Don\": 9, \"Lady\": 10, \"Countess\": 10, \"Jonkheer\": 10, \"Sir\": 9, \"Capt\": 7, \"Ms\": 2}\n",
    "    for k,v in title_mapping.items():\n",
    "        titles[titles == k] = v\n",
    "    # Add in the title column.\n",
    "    df[\"Title\"] = titles\n",
    "\n",
    "    # The .apply method generates a new series\n",
    "    df[\"NameLength\"] = df[\"Name\"].apply(lambda x: len(x))\n",
    "    \n",
    "    # A dictionary mapping family name to id\n",
    "    family_id_mapping = {}\n",
    "    \n",
    "    # Get the family ids with the apply method\n",
    "    family_ids = df.apply(lambda x:get_family_id(x, family_id_mapping), axis=1)\n",
    "\n",
    "    # There are a lot of family ids, so we'll compress all of the families under 3 members into one code.\n",
    "    family_ids[df[\"FamilySize\"] < 3] = -1\n",
    "\n",
    "    df[\"FamilyId\"] = family_ids\n",
    "\n",
    "    dummy_class = pd.get_dummies(df['Pclass'], prefix='class')\n",
    "    dummy_emb = pd.get_dummies(df['Embarked'], prefix='emb')\n",
    "    df = pd.concat([df, dummy_class, dummy_emb], axis=1)\n",
    "        \n",
    "    return df\n",
    "\n",
    "processed = preprocess(train)"
   ]
  },
  {
   "cell_type": "markdown",
   "metadata": {},
   "source": [
    "## This cell is also pre-processing code, but it is strongly based on the altervista approach. NaNs are filled in smartly, attempting to guess `Age` based on `Title`, and `Fare` based on `Class`."
   ]
  },
  {
   "cell_type": "code",
   "execution_count": 3,
   "metadata": {
    "collapsed": false
   },
   "outputs": [],
   "source": [
    "from sklearn import preprocessing\n",
    "import string\n",
    "\n",
    "def substrings_in_string(big_string, substrings):\n",
    "    for substring in substrings:\n",
    "        if string.find(big_string, substring) != -1:\n",
    "            return substring\n",
    "    print big_string\n",
    "    return np.nan\n",
    "\n",
    "le = preprocessing.LabelEncoder()\n",
    "enc=preprocessing.OneHotEncoder()\n",
    "\n",
    "#replacing all titles with mr, mrs, miss, master\n",
    "def replace_titles(x):\n",
    "    title=x['Title']\n",
    "    if title in ['Mr','Don', 'Major', 'Capt', 'Jonkheer', 'Rev', 'Col']:\n",
    "        return 'Mr'\n",
    "    elif title in ['Master']:\n",
    "        return 'Master'\n",
    "    elif title in ['Countess', 'Mme','Mrs']:\n",
    "        return 'Mrs'\n",
    "    elif title in ['Mlle', 'Ms','Miss']:\n",
    "        return 'Miss'\n",
    "    elif title =='Dr':\n",
    "        if x['Sex']=='Male':\n",
    "            return 'Mr'\n",
    "        else:\n",
    "            return 'Mrs'\n",
    "    elif title =='':\n",
    "        if x['Sex']=='Male':\n",
    "            return 'Master'\n",
    "        else:\n",
    "            return 'Miss'\n",
    "    else:\n",
    "        return title\n",
    "\n",
    "\n",
    "# This is code from http://elenacuoco.altervista.org/blog/archives/1195\n",
    "def clean_and_munge_data(df):\n",
    "    \n",
    "    df = df.copy()\n",
    "    \n",
    "    #setting silly values to nan\n",
    "    df.Fare = df.Fare.map(lambda x: np.nan if x==0 else x)\n",
    "    #creating a title column from name\n",
    "    title_list=['Mrs', 'Mr', 'Master', 'Miss', 'Major', 'Rev',\n",
    "                'Dr', 'Ms', 'Mlle','Col', 'Capt', 'Mme', 'Countess',\n",
    "                'Don', 'Jonkheer']\n",
    "    df['Title']=df['Name'].map(lambda x: substrings_in_string(x, title_list))\n",
    "\n",
    "    df['Title']=df.apply(replace_titles, axis=1)\n",
    "    df['Title_Name'] = df['Title']\n",
    "\n",
    "    #Creating new family_size column\n",
    "    df['Family_Size']=df['SibSp']+df['Parch']\n",
    "\n",
    "\n",
    "    #imputing nan values\n",
    "    df.loc[ (df.Fare.isnull())&(df.Pclass==1),'Fare'] =np.median(df[df['Pclass'] == 1]['Fare'].dropna())\n",
    "    df.loc[ (df.Fare.isnull())&(df.Pclass==2),'Fare'] =np.median( df[df['Pclass'] == 2]['Fare'].dropna())\n",
    "    df.loc[ (df.Fare.isnull())&(df.Pclass==3),'Fare'] = np.median(df[df['Pclass'] == 3]['Fare'].dropna())\n",
    "\n",
    "    df['Gender'] = df['Sex'].apply( lambda x: {'female': 0, 'male': 1}[x] ).astype(int)\n",
    "\n",
    "    df['AgeFill']=df['Age']\n",
    "    mean_ages = np.zeros(4)\n",
    "    mean_ages[0]=np.average(df[df['Title'] == 'Miss']['Age'].dropna())\n",
    "    mean_ages[1]=np.average(df[df['Title'] == 'Mrs']['Age'].dropna())\n",
    "    mean_ages[2]=np.average(df[df['Title'] == 'Mr']['Age'].dropna())\n",
    "    mean_ages[3]=np.average(df[df['Title'] == 'Master']['Age'].dropna())\n",
    "    df.loc[ (df.Age.isnull()) & (df.Title == 'Miss') ,'AgeFill'] = mean_ages[0]\n",
    "    df.loc[ (df.Age.isnull()) & (df.Title == 'Mrs') ,'AgeFill'] = mean_ages[1]\n",
    "    df.loc[ (df.Age.isnull()) & (df.Title == 'Mr') ,'AgeFill'] = mean_ages[2]\n",
    "    df.loc[ (df.Age.isnull()) & (df.Title == 'Master') ,'AgeFill'] = mean_ages[3]\n",
    "\n",
    "    df['AgeCat']=df['AgeFill']\n",
    "    df.loc[ (df.AgeFill<=10) ,'AgeCat'] = 'child'\n",
    "    df.loc[ (df.AgeFill>60),'AgeCat'] = 'aged'\n",
    "    df.loc[ (df.AgeFill>10) & (df.AgeFill <=30) ,'AgeCat'] = 'adult'\n",
    "    df.loc[ (df.AgeFill>30) & (df.AgeFill <=60) ,'AgeCat'] = 'senior'\n",
    "\n",
    "    df.Embarked = df.Embarked.fillna('S')\n",
    "\n",
    "    df['Fare_Per_Person']=df['Fare']/(df['Family_Size']+1)\n",
    "    \n",
    "    le.fit(df['Sex'] )\n",
    "    x_sex=le.transform(df['Sex'])\n",
    "    df['Sex']=x_sex.astype(np.float)\n",
    "    \n",
    "    le.fit(df['Title'])\n",
    "    x_title=le.transform(df['Title'])\n",
    "    df['Title'] =x_title.astype(np.float)\n",
    "\n",
    "    le.fit(df['AgeCat'])\n",
    "    x_age=le.transform(df['AgeCat'])\n",
    "    df['AgeCat'] =x_age.astype(np.float)\n",
    "\n",
    "    df = df.drop(['PassengerId','Name','Cabin'], axis=1) #remove Name,Age and PassengerId\n",
    "\n",
    "    return df"
   ]
  },
  {
   "cell_type": "markdown",
   "metadata": {},
   "source": [
    "## There's some pretty neat code here to add a `Title` column. Let's see if it actually has any predictive value:"
   ]
  },
  {
   "cell_type": "code",
   "execution_count": 4,
   "metadata": {
    "collapsed": false
   },
   "outputs": [
    {
     "data": {
      "image/png": "[encoded data removed]",
      "text/plain": [
       "<matplotlib.figure.Figure at 0x7f7eb8867610>"
      ]
     },
     "metadata": {},
     "output_type": "display_data"
    }
   ],
   "source": [
    "df = clean_and_munge_data(train)\n",
    "ax = sns.barplot(x=\"Title_Name\", y=\"Survived\", data=df)"
   ]
  },
  {
   "cell_type": "markdown",
   "metadata": {},
   "source": [
    "## Cool. As we'll see below, this has a lot to do with the age and gender of the people with particular titles. Mr's are older men, who all died. Masters are young boys."
   ]
  },
  {
   "cell_type": "markdown",
   "metadata": {},
   "source": [
    "## Let's do some quick validation on our NaN filling:"
   ]
  },
  {
   "cell_type": "code",
   "execution_count": 5,
   "metadata": {
    "collapsed": false
   },
   "outputs": [
    {
     "data": {
      "image/png": "[encoded data removed]",
      "text/plain": [
       "<matplotlib.figure.Figure at 0x7f7eb82f0250>"
      ]
     },
     "metadata": {},
     "output_type": "display_data"
    }
   ],
   "source": [
    "df = clean_and_munge_data(train)\n",
    "bins = np.linspace(0, 300, 15)\n",
    "f, axtuple = plt.subplots(1, 3, sharey=True)\n",
    "\n",
    "for c in [1, 2, 3]:\n",
    "    \n",
    "    f = df[df.Pclass == c].Fare.reset_index(drop=True)\n",
    "    axtuple[c-1].hist(f, bins, label=\"%s class\" % {1: \"First\", 2: \"Second\", 3:\"Third\"}[c], normed=True)\n",
    "    axtuple[c-1].set_title(\"%s class\" % {1: \"First\", 2: \"Second\", 3:\"Third\"}[c])\n",
    "    \n",
    "plt.gcf().set_size_inches(16, 6, forward=True)"
   ]
  },
  {
   "cell_type": "markdown",
   "metadata": {},
   "source": [
    "## `Pclass` clearly was a good indicator of `Fare`, and using it to fill NaNs was smart. Let's do the same with `Title` and `Age`"
   ]
  },
  {
   "cell_type": "code",
   "execution_count": 6,
   "metadata": {
    "collapsed": false
   },
   "outputs": [
    {
     "data": {
      "image/png": "[encoded data removed]",
      "text/plain": [
       "<matplotlib.figure.Figure at 0x7f7eb7e36590>"
      ]
     },
     "metadata": {},
     "output_type": "display_data"
    }
   ],
   "source": [
    "df = clean_and_munge_data(train)\n",
    "bins = np.linspace(0, 80, 15)\n",
    "f, axtuple = plt.subplots(2, 2, sharey=True, sharex=True)\n",
    "\n",
    "for i, t in enumerate(['Miss', 'Mrs', 'Mr', 'Master']):\n",
    "    \n",
    "    f = df[df.Title_Name == t].Age.reset_index(drop=True)\n",
    "    axtuple[i / 2, i % 2].hist(f, bins, normed=True)\n",
    "    axtuple[i / 2, i % 2].set_title(t)\n",
    "    \n",
    "plt.gcf().set_size_inches(8, 8, forward=True)"
   ]
  },
  {
   "cell_type": "markdown",
   "metadata": {},
   "source": [
    "## Also some valuable info here. Masters are very young, Miss are younger than Mrs."
   ]
  },
  {
   "cell_type": "markdown",
   "metadata": {},
   "source": [
    "## Here's a machine learning algorithm using a RandomForest and featues that I engineered (using the `preprocess` function I wrote, as opposed to the `clean_and_munge_data` function)"
   ]
  },
  {
   "cell_type": "code",
   "execution_count": 7,
   "metadata": {
    "collapsed": false
   },
   "outputs": [
    {
     "name": "stdout",
     "output_type": "stream",
     "text": [
      "Algorithm score: 0.828\n"
     ]
    }
   ],
   "source": [
    "from sklearn import cross_validation\n",
    "from sklearn.ensemble import RandomForestClassifier\n",
    "\n",
    "titanic = preprocess(train)\n",
    "\n",
    "# predictors = [\"Pclass\", \"Sex\", \"Age\", \"SibSp\", \"Parch\", \"Fare\", \"Embarked\"]\n",
    "predictors = [\"Sex\", \"Age\", \"SibSp\", \"hasParch\", \"Fare\", \"class_2\", \"class_3\", \"emb_Q\", \"emb_S\"]\n",
    "\n",
    "# Initialize our algorithm with the default paramters\n",
    "# n_estimators is the number of trees we want to make\n",
    "# min_samples_split is the minimum number of rows we need to make a split\n",
    "# min_samples_leaf is the minimum number of samples we can have at the place where a tree branch ends (the bottom points of the tree)\n",
    "alg = RandomForestClassifier(random_state=1, n_estimators=150, min_samples_split=4, min_samples_leaf=2)\n",
    "\n",
    "scores = cross_validation.cross_val_score(alg, titanic[predictors], titanic[\"Survived\"], cv=3)\n",
    "\n",
    "print \"Algorithm score: %.3f\" % scores.mean()"
   ]
  },
  {
   "cell_type": "markdown",
   "metadata": {},
   "source": [
    "## Cool. Let's do some ensembling! First, a utility function to do easy ensemble prediction generation:"
   ]
  },
  {
   "cell_type": "code",
   "execution_count": 8,
   "metadata": {
    "collapsed": true
   },
   "outputs": [],
   "source": [
    "def get_ensemble_prediction(algorithms, weights, train_df, test_df):\n",
    "    \n",
    "    train_target = train_df[\"Survived\"]\n",
    "    full_test_predictions = []\n",
    "    for alg, formula in algorithms:\n",
    "        y_train, x_train = dmatrices(formula, data=train_df, return_type='dataframe')\n",
    "        y_train = np.asarray(y_train).ravel()\n",
    "        _, x_test = dmatrices(formula, data=test_df, return_type='dataframe')\n",
    "        alg.fit(x_train, y_train)\n",
    "        test_predictions = alg.predict_proba(x_test)[:,1]\n",
    "        full_test_predictions.append(test_predictions)\n",
    "    test_predictions.fill(0)\n",
    "    for i, w in enumerate(weights):\n",
    "        test_predictions += w * full_test_predictions[i]\n",
    "    \n",
    "    test_predictions[test_predictions <= .5] = 0\n",
    "    test_predictions[test_predictions > .5] = 1\n",
    "    return test_predictions"
   ]
  },
  {
   "cell_type": "code",
   "execution_count": 9,
   "metadata": {
    "collapsed": false
   },
   "outputs": [
    {
     "name": "stdout",
     "output_type": "stream",
     "text": [
      "Algorithm score: 0.809\n"
     ]
    }
   ],
   "source": [
    "from sklearn.ensemble import GradientBoostingClassifier\n",
    "from sklearn.cross_validation import KFold\n",
    "from sklearn.linear_model import LogisticRegression\n",
    "from patsy import dmatrices\n",
    "\n",
    "titanic = preprocess(train)\n",
    "\n",
    "# The algorithms we want to ensemble.\n",
    "# We're using the more linear predictors for the logistic regression, and everything with the gradient boosting classifier.\n",
    "algorithms = [\n",
    "    [GradientBoostingClassifier(random_state=1, n_estimators=25, max_depth=3),\n",
    "     'Survived~class_2+class_3+Sex+Age+Fare+emb_Q+emb_S+FamilySize'],\n",
    "    [LogisticRegression(random_state=1), 'Survived~class_2+class_3+Sex+Age+Fare+emb_Q+emb_S+FamilySize']\n",
    "]\n",
    "\n",
    "weights = [.5, .5]\n",
    "\n",
    "# Initialize the cross validation folds\n",
    "kf = KFold(titanic.shape[0], n_folds=3, random_state=1)\n",
    "\n",
    "predictions = []\n",
    "for train_set, test_set in kf:\n",
    "    test_predictions = get_ensemble_prediction(algorithms, weights, titanic.iloc[train_set, :], titanic.iloc[test_set, :])\n",
    "    predictions.append(test_predictions)\n",
    "   \n",
    "# Put all the predictions together into one array.\n",
    "predictions = np.concatenate(predictions, axis=0)\n",
    "\n",
    "# Compute accuracy by comparing to the training data.\n",
    "accuracy = (predictions == titanic[\"Survived\"]).mean()\n",
    "print \"Algorithm score: %.3f\" % accuracy"
   ]
  },
  {
   "cell_type": "markdown",
   "metadata": {},
   "source": [
    "## Not bad! Let's do a different model."
   ]
  },
  {
   "cell_type": "markdown",
   "metadata": {},
   "source": [
    "## This is a random forest I got inspiration from altervista"
   ]
  },
  {
   "cell_type": "code",
   "execution_count": 10,
   "metadata": {
    "collapsed": false
   },
   "outputs": [
    {
     "name": "stdout",
     "output_type": "stream",
     "text": [
      "Algorithm score: 0.824\n"
     ]
    }
   ],
   "source": [
    "from patsy import dmatrices\n",
    "from sklearn.ensemble import RandomForestClassifier\n",
    "from sklearn import cross_validation\n",
    "\n",
    "titanic = clean_and_munge_data(train)\n",
    "formula_ml = 'Survived~C(Pclass)+C(Title)+C(AgeCat)*Sex+Fare_Per_Person+Fare+Family_Size'\n",
    "y_train, x_train = dmatrices(formula_ml, data=titanic, return_type='dataframe')\n",
    "y_train = np.asarray(y_train).ravel()\n",
    "\n",
    "# X_train, X_test, Y_train, Y_test = train_test_split(x_train, y_train, test_size=0.2)\n",
    "\n",
    "alg=RandomForestClassifier(n_estimators=500, criterion='entropy', max_depth=5, min_samples_split=1,\n",
    "                           min_samples_leaf=1, bootstrap=False, oob_score=False)\n",
    "\n",
    "scores = cross_validation.cross_val_score(alg, x_train, y_train, cv=3)\n",
    "\n",
    "print \"Algorithm score: %.3f\" % scores.mean()"
   ]
  },
  {
   "cell_type": "markdown",
   "metadata": {},
   "source": [
    "## Let's now try doing a similar algorithm, but using a GradientBoostingClassifier and a Logistic Regression."
   ]
  },
  {
   "cell_type": "code",
   "execution_count": 11,
   "metadata": {
    "collapsed": false
   },
   "outputs": [
    {
     "name": "stdout",
     "output_type": "stream",
     "text": [
      "Algorithm score: 0.827\n"
     ]
    }
   ],
   "source": [
    "from sklearn.ensemble import GradientBoostingClassifier\n",
    "from sklearn.cross_validation import KFold\n",
    "from sklearn.linear_model import LogisticRegression\n",
    "from patsy import dmatrices\n",
    "\n",
    "titanic = clean_and_munge_data(train)\n",
    "\n",
    "# The algorithms we want to ensemble.\n",
    "# We're using the more linear predictors for the logistic regression, and everything with the gradient boosting classifier.\n",
    "algorithms = [\n",
    "    [GradientBoostingClassifier(random_state=1, n_estimators=25, max_depth=3), 'Survived~C(Pclass)+C(Title)+C(AgeCat)*Sex+Fare_Per_Person+Fare+Family_Size'],\n",
    "    [LogisticRegression(random_state=1), 'Survived~C(Pclass)+Fare+Family_Size+AgeFill*Sex']\n",
    "]\n",
    "\n",
    "# Initialize the cross validation folds\n",
    "kf = KFold(titanic.shape[0], n_folds=3, random_state=1)\n",
    "\n",
    "predictions = []\n",
    "for train_set, test_set in kf:\n",
    "    test_predictions = get_ensemble_prediction(algorithms, [0.7, 0.3], titanic.iloc[train_set, :], titanic.iloc[test_set, :])\n",
    "    predictions.append(test_predictions)\n",
    "   \n",
    "# Put all the predictions together into one array.\n",
    "predictions = np.concatenate(predictions, axis=0)\n",
    "\n",
    "# Compute accuracy by comparing to the training data.\n",
    "accuracy =(predictions == titanic[\"Survived\"]).mean()\n",
    "print \"Algorithm score: %.3f\" % accuracy"
   ]
  },
  {
   "cell_type": "markdown",
   "metadata": {},
   "source": [
    "## Generate the submission"
   ]
  },
  {
   "cell_type": "code",
   "execution_count": 12,
   "metadata": {
    "collapsed": false
   },
   "outputs": [],
   "source": [
    "algorithms = [\n",
    "    [GradientBoostingClassifier(random_state=1, n_estimators=25, max_depth=3), 'Survived~C(Pclass)+C(Title)+C(AgeCat)*Sex+Fare_Per_Person+Fare+Family_Size'],\n",
    "    [LogisticRegression(random_state=1), 'Survived~C(Pclass)+Fare+Family_Size+AgeFill*Sex']\n",
    "]\n",
    "\n",
    "to_train = clean_and_munge_data(train)\n",
    "to_test = clean_and_munge_data(test)\n",
    "to_test[\"Survived\"] = 0\n",
    "\n",
    "predictions = get_ensemble_prediction(algorithms, [0.7, 0.3], to_train, to_test)\n",
    "\n",
    "# Create a new dataframe with only the columns Kaggle wants from the dataset.\n",
    "submission = pd.DataFrame({\n",
    "        \"PassengerId\": test[\"PassengerId\"],\n",
    "        \"Survived\": predictions.astype(int)\n",
    "    })\n",
    "\n",
    "submission.to_csv(\"kaggle4.csv\", index=False)"
   ]
  },
  {
   "cell_type": "markdown",
   "metadata": {},
   "source": [
    "# Score: 0.789"
   ]
  },
  {
   "cell_type": "code",
   "execution_count": null,
   "metadata": {
    "collapsed": true
   },
   "outputs": [],
   "source": []
  }
 ],
 "metadata": {
  "kernelspec": {
   "display_name": "Python 2",
   "language": "python",
   "name": "python2"
  },
  "language_info": {
   "codemirror_mode": {
    "name": "ipython",
    "version": 2
   },
   "file_extension": ".py",
   "mimetype": "text/x-python",
   "name": "python",
   "nbconvert_exporter": "python",
   "pygments_lexer": "ipython2",
   "version": "2.7.6"
  }
 },
 "nbformat": 4,
 "nbformat_minor": 0
}

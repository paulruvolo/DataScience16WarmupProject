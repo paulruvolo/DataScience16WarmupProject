{
 "cells": [
  {
   "cell_type": "markdown",
   "metadata": {},
   "source": [
    "Shivali Chandra <br>\n",
    "1/30/16 <br>\n",
    "Warmup Project Iteration 2"
   ]
  },
  {
   "cell_type": "markdown",
   "metadata": {},
   "source": [
    "Inspiration 1: http://elenacuoco.altervista.org/blog/archives/1195?doing_wp_cron=1454278621.7234199047088623046875, provides a great overview of how the author figured out which values would be relevant <br>\n",
    "Inspiration 2: https://triangleinequality.wordpress.com/2013/09/05/a-complete-guide-to-getting-0-79903-in-kaggles-titanic-competition-with-python/, good overview as to how to structure the code and model as decision trees. This was a really interesting approach, because it basically weighted different factors as deciding factors or questions leading to more factors (for example, starting with a male, checking the passenger class and moving to different factors based on the result). I did not implement this entirely, but read through it and the links it pointed to in order to get a better sense of how to modify my model and understand how the random classifier model actually works.  "
   ]
  },
  {
   "cell_type": "code",
   "execution_count": 1,
   "metadata": {
    "collapsed": false
   },
   "outputs": [
    {
     "name": "stderr",
     "output_type": "stream",
     "text": [
      "/home/kiki/anaconda/lib/python2.7/site-packages/matplotlib/font_manager.py:273: UserWarning: Matplotlib is building the font cache using fc-list. This may take a moment.\n",
      "  warnings.warn('Matplotlib is building the font cache using fc-list. This may take a moment.')\n"
     ]
    }
   ],
   "source": [
    "%matplotlib inline\n",
    "import pandas as pd\n",
    "from sklearn.linear_model import LinearRegression, LogisticRegression\n",
    "from sklearn.ensemble import RandomForestClassifier\n",
    "from sklearn import cross_validation\n",
    "from sklearn.cross_validation import train_test_split,StratifiedShuffleSplit,StratifiedKFold, KFold\n",
    "from sklearn.pipeline import Pipeline\n",
    "from sklearn.grid_search import GridSearchCV\n",
    "from sklearn.feature_selection import SelectKBest, f_classif\n",
    "import numpy as np\n",
    "import matplotlib.pyplot as plt \n",
    "import thinkplot\n",
    "import thinkstats2\n",
    "import string\n",
    "from patsy import dmatrices,dmatrix\n",
    "from sklearn.ensemble import GradientBoostingClassifier"
   ]
  },
  {
   "cell_type": "markdown",
   "metadata": {},
   "source": [
    "I incorporated my own ideas by going through and seeing how the ideas in the two articles could be combined, especially with respect to different variables. Some of the variables I used were different, because I am interested in seeing the difference that they make, not necessarily just in achieving a higher score each time. "
   ]
  },
  {
   "cell_type": "code",
   "execution_count": 2,
   "metadata": {
    "collapsed": false
   },
   "outputs": [
    {
     "data": {
      "text/html": [
       "<div>\n",
       "<table border=\"1\" class=\"dataframe\">\n",
       "  <thead>\n",
       "    <tr style=\"text-align: right;\">\n",
       "      <th></th>\n",
       "      <th>PassengerId</th>\n",
       "      <th>Survived</th>\n",
       "      <th>Pclass</th>\n",
       "      <th>Age</th>\n",
       "      <th>SibSp</th>\n",
       "      <th>Parch</th>\n",
       "      <th>Fare</th>\n",
       "    </tr>\n",
       "  </thead>\n",
       "  <tbody>\n",
       "    <tr>\n",
       "      <th>count</th>\n",
       "      <td>891.000000</td>\n",
       "      <td>891.000000</td>\n",
       "      <td>891.000000</td>\n",
       "      <td>714.000000</td>\n",
       "      <td>891.000000</td>\n",
       "      <td>891.000000</td>\n",
       "      <td>891.000000</td>\n",
       "    </tr>\n",
       "    <tr>\n",
       "      <th>mean</th>\n",
       "      <td>446.000000</td>\n",
       "      <td>0.383838</td>\n",
       "      <td>2.308642</td>\n",
       "      <td>29.699118</td>\n",
       "      <td>0.523008</td>\n",
       "      <td>0.381594</td>\n",
       "      <td>32.204208</td>\n",
       "    </tr>\n",
       "    <tr>\n",
       "      <th>std</th>\n",
       "      <td>257.353842</td>\n",
       "      <td>0.486592</td>\n",
       "      <td>0.836071</td>\n",
       "      <td>14.526497</td>\n",
       "      <td>1.102743</td>\n",
       "      <td>0.806057</td>\n",
       "      <td>49.693429</td>\n",
       "    </tr>\n",
       "    <tr>\n",
       "      <th>min</th>\n",
       "      <td>1.000000</td>\n",
       "      <td>0.000000</td>\n",
       "      <td>1.000000</td>\n",
       "      <td>0.420000</td>\n",
       "      <td>0.000000</td>\n",
       "      <td>0.000000</td>\n",
       "      <td>0.000000</td>\n",
       "    </tr>\n",
       "    <tr>\n",
       "      <th>25%</th>\n",
       "      <td>223.500000</td>\n",
       "      <td>0.000000</td>\n",
       "      <td>2.000000</td>\n",
       "      <td>20.125000</td>\n",
       "      <td>0.000000</td>\n",
       "      <td>0.000000</td>\n",
       "      <td>7.910400</td>\n",
       "    </tr>\n",
       "    <tr>\n",
       "      <th>50%</th>\n",
       "      <td>446.000000</td>\n",
       "      <td>0.000000</td>\n",
       "      <td>3.000000</td>\n",
       "      <td>28.000000</td>\n",
       "      <td>0.000000</td>\n",
       "      <td>0.000000</td>\n",
       "      <td>14.454200</td>\n",
       "    </tr>\n",
       "    <tr>\n",
       "      <th>75%</th>\n",
       "      <td>668.500000</td>\n",
       "      <td>1.000000</td>\n",
       "      <td>3.000000</td>\n",
       "      <td>38.000000</td>\n",
       "      <td>1.000000</td>\n",
       "      <td>0.000000</td>\n",
       "      <td>31.000000</td>\n",
       "    </tr>\n",
       "    <tr>\n",
       "      <th>max</th>\n",
       "      <td>891.000000</td>\n",
       "      <td>1.000000</td>\n",
       "      <td>3.000000</td>\n",
       "      <td>80.000000</td>\n",
       "      <td>8.000000</td>\n",
       "      <td>6.000000</td>\n",
       "      <td>512.329200</td>\n",
       "    </tr>\n",
       "  </tbody>\n",
       "</table>\n",
       "</div>"
      ],
      "text/plain": [
       "       PassengerId    Survived      Pclass         Age       SibSp  \\\n",
       "count   891.000000  891.000000  891.000000  714.000000  891.000000   \n",
       "mean    446.000000    0.383838    2.308642   29.699118    0.523008   \n",
       "std     257.353842    0.486592    0.836071   14.526497    1.102743   \n",
       "min       1.000000    0.000000    1.000000    0.420000    0.000000   \n",
       "25%     223.500000    0.000000    2.000000   20.125000    0.000000   \n",
       "50%     446.000000    0.000000    3.000000   28.000000    0.000000   \n",
       "75%     668.500000    1.000000    3.000000   38.000000    1.000000   \n",
       "max     891.000000    1.000000    3.000000   80.000000    8.000000   \n",
       "\n",
       "            Parch        Fare  \n",
       "count  891.000000  891.000000  \n",
       "mean     0.381594   32.204208  \n",
       "std      0.806057   49.693429  \n",
       "min      0.000000    0.000000  \n",
       "25%      0.000000    7.910400  \n",
       "50%      0.000000   14.454200  \n",
       "75%      0.000000   31.000000  \n",
       "max      6.000000  512.329200  "
      ]
     },
     "execution_count": 2,
     "metadata": {},
     "output_type": "execute_result"
    }
   ],
   "source": [
    "train = pd.read_csv('train.csv')\n",
    "test = pd.read_csv('test.csv')\n",
    "\n",
    "train.describe()"
   ]
  },
  {
   "cell_type": "markdown",
   "metadata": {},
   "source": [
    "The biggest impact that this blog had on my model was the fact that it parsed for title and used that to assign age, rather than using the same mean. This actually seems pretty significant because there are over 200 ages missing, and with about 900 total people that is a large portion, so trying to get the age in a closer range is important. "
   ]
  },
  {
   "cell_type": "code",
   "execution_count": 3,
   "metadata": {
    "collapsed": false
   },
   "outputs": [],
   "source": [
    "#code from link to first blog; finds title in each name if exists and places it in a new column, called title. The titles are normalized. \n",
    "def substrings_in_string(big_string, substrings):\n",
    "    for substring in substrings:\n",
    "        if string.find(big_string, substring) != -1:\n",
    "            return substring\n",
    "    print big_string\n",
    "    return np.nan\n",
    "\n",
    "title_list=['Mrs', 'Mr', 'Master', 'Miss', 'Major', 'Rev',\n",
    "                'Dr', 'Ms', 'Mlle','Col', 'Capt', 'Mme', 'Countess',\n",
    "                'Don', 'Jonkheer']\n",
    "train['Title']=train['Name'].map(lambda x: substrings_in_string(x, title_list))\n",
    "test['Title']=test['Name'].map(lambda x: substrings_in_string(x, title_list))\n",
    "\n",
    "#replacing all titles with mr, mrs, miss, master\n",
    "def replace_titles(x):\n",
    "    title=x['Title']\n",
    "    if title in ['Mr','Don', 'Major', 'Capt', 'Jonkheer', 'Rev', 'Col']:\n",
    "        return 'Mr'\n",
    "    elif title in ['Master']:\n",
    "        return 'Master'\n",
    "    elif title in ['Countess', 'Mme','Mrs']:\n",
    "        return 'Mrs'\n",
    "    elif title in ['Mlle', 'Ms','Miss']:\n",
    "        return 'Miss'\n",
    "    elif title =='Dr':\n",
    "        if x['Sex']=='Male':\n",
    "            return 'Mr'\n",
    "        else:\n",
    "            return 'Mrs'\n",
    "    elif title =='':\n",
    "        if x['Sex']=='Male':\n",
    "            return 'Master'\n",
    "        else:\n",
    "            return 'Miss'\n",
    "    else:\n",
    "        return title\n",
    "\n",
    "train['Title']=train.apply(replace_titles, axis=1)\n",
    "test['Title']=test.apply(replace_titles, axis=1)\n",
    "\n",
    "train['AgeFill']=train['Age']\n",
    "test['AgeFill']=test['Age']\n",
    "mean_ages = np.zeros(4)\n",
    "mean_ages[0]=np.average(train[train['Title'] == 'Miss']['Age'].dropna())\n",
    "mean_ages[1]=np.average(train[train['Title'] == 'Mrs']['Age'].dropna())\n",
    "mean_ages[2]=np.average(train[train['Title'] == 'Mr']['Age'].dropna())\n",
    "mean_ages[3]=np.average(train[train['Title'] == 'Master']['Age'].dropna())\n",
    "train.loc[ (train.Age.isnull()) & (train.Title == 'Miss') ,'AgeFill'] = mean_ages[0]\n",
    "train.loc[ (train.Age.isnull()) & (train.Title == 'Mrs') ,'AgeFill'] = mean_ages[1]\n",
    "train.loc[ (train.Age.isnull()) & (train.Title == 'Mr') ,'AgeFill'] = mean_ages[2]\n",
    "train.loc[ (train.Age.isnull()) & (train.Title == 'Master') ,'AgeFill'] = mean_ages[3]\n",
    "test.loc[ (test.Age.isnull()) & (test.Title == 'Miss') ,'AgeFill'] = mean_ages[0]\n",
    "test.loc[ (test.Age.isnull()) & (test.Title == 'Mrs') ,'AgeFill'] = mean_ages[1]\n",
    "test.loc[ (test.Age.isnull()) & (test.Title == 'Mr') ,'AgeFill'] = mean_ages[2]\n",
    "test.loc[ (test.Age.isnull()) & (test.Title == 'Master') ,'AgeFill'] = mean_ages[3]"
   ]
  },
  {
   "cell_type": "markdown",
   "metadata": {},
   "source": [
    "The effort that the blog put into trying to ensure the age was accurate led me to see if I should implement a more complex way of filling in missing Embarked values. However, when I run: "
   ]
  },
  {
   "cell_type": "code",
   "execution_count": 4,
   "metadata": {
    "collapsed": false
   },
   "outputs": [
    {
     "data": {
      "text/plain": [
       "PassengerId      0\n",
       "Survived         0\n",
       "Pclass           0\n",
       "Name             0\n",
       "Sex              0\n",
       "Age            177\n",
       "SibSp            0\n",
       "Parch            0\n",
       "Ticket           0\n",
       "Fare             0\n",
       "Cabin          687\n",
       "Embarked         2\n",
       "Title            0\n",
       "AgeFill          0\n",
       "dtype: int64"
      ]
     },
     "execution_count": 4,
     "metadata": {},
     "output_type": "execute_result"
    }
   ],
   "source": [
    "train.isnull().sum()"
   ]
  },
  {
   "cell_type": "markdown",
   "metadata": {},
   "source": [
    "I see that there are actually only 2 passengers for whom the starting point is unknown. Thus, it seems safe to simply fill in those values with 'S', the most common location.\n",
    "I will continue cleaning the data as I did earlier, dropping the columns which no longer matter and replacing the Embarked and Sex values with integers. I will also combine the SibSp and Parch columns into one Family column. \n",
    "Unlike the blogpost, I also converted the title column into integer values, to see if that makes any impact on the final survival predictions. "
   ]
  },
  {
   "cell_type": "code",
   "execution_count": 5,
   "metadata": {
    "collapsed": false
   },
   "outputs": [],
   "source": [
    "train['FamilySize'] = train['SibSp'] + train['Parch']\n",
    "train['NameLength'] = train['Name'].apply(lambda x: len(x))\n",
    "train['Embarked'] = train['Embarked'].fillna('S')\n",
    "train.loc[train['Embarked'] == 'S', 'Embarked'] = 0\n",
    "train.loc[train['Embarked'] == 'C', 'Embarked'] = 1\n",
    "train.loc[train['Embarked'] == 'Q', 'Embarked'] = 2\n",
    "train.loc[train['Sex'] == 'male', 'Sex'] = 1\n",
    "train.loc[train['Sex'] == 'female', 'Sex'] = 0\n",
    "test['FamilySize'] = test['SibSp'] + test['Parch']\n",
    "test['NameLength'] = test['Name'].apply(lambda x: len(x))\n",
    "test['Embarked'] = test['Embarked'].fillna('S')\n",
    "test.loc[test['Embarked'] == 'S', 'Embarked'] = 0\n",
    "test.loc[test['Embarked'] == 'C', 'Embarked'] = 1\n",
    "test.loc[test['Embarked'] == 'Q', 'Embarked'] = 2\n",
    "test.loc[test['Sex'] == 'male', 'Sex'] = 1\n",
    "test.loc[test['Sex'] == 'female', 'Sex'] = 0\n",
    "\n",
    "test.loc[ test.Title == 'Miss','Title'] = 4\n",
    "test.loc[ test.Title == 'Mrs','Title'] = 3\n",
    "test.loc[ test.Title == 'Mr','Title'] = 1\n",
    "test.loc[ test.Title == 'Master','Title'] = 2\n",
    "train.loc[ train.Title == 'Miss','Title'] = 4\n",
    "train.loc[ train.Title == 'Mrs','Title'] = 3\n",
    "train.loc[ train.Title == 'Mr','Title'] = 1\n",
    "train.loc[ train.Title == 'Master','Title'] = 2\n",
    "\n",
    "train = train.drop(['Name','Age','Cabin','Ticket','SibSp','Parch'], axis=1)\n",
    "test = test.drop(['Name','Age','Cabin','Ticket','SibSp','Parch'], axis=1)"
   ]
  },
  {
   "cell_type": "code",
   "execution_count": 6,
   "metadata": {
    "collapsed": false
   },
   "outputs": [
    {
     "data": {
      "text/html": [
       "<div>\n",
       "<table border=\"1\" class=\"dataframe\">\n",
       "  <thead>\n",
       "    <tr style=\"text-align: right;\">\n",
       "      <th></th>\n",
       "      <th>PassengerId</th>\n",
       "      <th>Survived</th>\n",
       "      <th>Pclass</th>\n",
       "      <th>Fare</th>\n",
       "      <th>AgeFill</th>\n",
       "      <th>FamilySize</th>\n",
       "      <th>NameLength</th>\n",
       "    </tr>\n",
       "  </thead>\n",
       "  <tbody>\n",
       "    <tr>\n",
       "      <th>count</th>\n",
       "      <td>891.000000</td>\n",
       "      <td>891.000000</td>\n",
       "      <td>891.000000</td>\n",
       "      <td>891.000000</td>\n",
       "      <td>891.000000</td>\n",
       "      <td>891.000000</td>\n",
       "      <td>891.000000</td>\n",
       "    </tr>\n",
       "    <tr>\n",
       "      <th>mean</th>\n",
       "      <td>446.000000</td>\n",
       "      <td>0.383838</td>\n",
       "      <td>2.308642</td>\n",
       "      <td>32.204208</td>\n",
       "      <td>29.819131</td>\n",
       "      <td>0.904602</td>\n",
       "      <td>26.965208</td>\n",
       "    </tr>\n",
       "    <tr>\n",
       "      <th>std</th>\n",
       "      <td>257.353842</td>\n",
       "      <td>0.486592</td>\n",
       "      <td>0.836071</td>\n",
       "      <td>49.693429</td>\n",
       "      <td>13.285423</td>\n",
       "      <td>1.613459</td>\n",
       "      <td>9.281607</td>\n",
       "    </tr>\n",
       "    <tr>\n",
       "      <th>min</th>\n",
       "      <td>1.000000</td>\n",
       "      <td>0.000000</td>\n",
       "      <td>1.000000</td>\n",
       "      <td>0.000000</td>\n",
       "      <td>0.420000</td>\n",
       "      <td>0.000000</td>\n",
       "      <td>12.000000</td>\n",
       "    </tr>\n",
       "    <tr>\n",
       "      <th>25%</th>\n",
       "      <td>223.500000</td>\n",
       "      <td>0.000000</td>\n",
       "      <td>2.000000</td>\n",
       "      <td>7.910400</td>\n",
       "      <td>21.835616</td>\n",
       "      <td>0.000000</td>\n",
       "      <td>20.000000</td>\n",
       "    </tr>\n",
       "    <tr>\n",
       "      <th>50%</th>\n",
       "      <td>446.000000</td>\n",
       "      <td>0.000000</td>\n",
       "      <td>3.000000</td>\n",
       "      <td>14.454200</td>\n",
       "      <td>30.000000</td>\n",
       "      <td>0.000000</td>\n",
       "      <td>25.000000</td>\n",
       "    </tr>\n",
       "    <tr>\n",
       "      <th>75%</th>\n",
       "      <td>668.500000</td>\n",
       "      <td>1.000000</td>\n",
       "      <td>3.000000</td>\n",
       "      <td>31.000000</td>\n",
       "      <td>35.841667</td>\n",
       "      <td>1.000000</td>\n",
       "      <td>30.000000</td>\n",
       "    </tr>\n",
       "    <tr>\n",
       "      <th>max</th>\n",
       "      <td>891.000000</td>\n",
       "      <td>1.000000</td>\n",
       "      <td>3.000000</td>\n",
       "      <td>512.329200</td>\n",
       "      <td>80.000000</td>\n",
       "      <td>10.000000</td>\n",
       "      <td>82.000000</td>\n",
       "    </tr>\n",
       "  </tbody>\n",
       "</table>\n",
       "</div>"
      ],
      "text/plain": [
       "       PassengerId    Survived      Pclass        Fare     AgeFill  \\\n",
       "count   891.000000  891.000000  891.000000  891.000000  891.000000   \n",
       "mean    446.000000    0.383838    2.308642   32.204208   29.819131   \n",
       "std     257.353842    0.486592    0.836071   49.693429   13.285423   \n",
       "min       1.000000    0.000000    1.000000    0.000000    0.420000   \n",
       "25%     223.500000    0.000000    2.000000    7.910400   21.835616   \n",
       "50%     446.000000    0.000000    3.000000   14.454200   30.000000   \n",
       "75%     668.500000    1.000000    3.000000   31.000000   35.841667   \n",
       "max     891.000000    1.000000    3.000000  512.329200   80.000000   \n",
       "\n",
       "       FamilySize  NameLength  \n",
       "count  891.000000  891.000000  \n",
       "mean     0.904602   26.965208  \n",
       "std      1.613459    9.281607  \n",
       "min      0.000000   12.000000  \n",
       "25%      0.000000   20.000000  \n",
       "50%      0.000000   25.000000  \n",
       "75%      1.000000   30.000000  \n",
       "max     10.000000   82.000000  "
      ]
     },
     "execution_count": 6,
     "metadata": {},
     "output_type": "execute_result"
    }
   ],
   "source": [
    "train.describe()"
   ]
  },
  {
   "cell_type": "markdown",
   "metadata": {},
   "source": [
    "While all the values of the train data are filled in, I realize that it is possible that the fare may be unknown for a passenger. Thus, I will use the Pclass to predict a more accurate value for fare. "
   ]
  },
  {
   "cell_type": "code",
   "execution_count": 7,
   "metadata": {
    "collapsed": false
   },
   "outputs": [],
   "source": [
    "p1 = train[train.Pclass == 1]\n",
    "p2 = train[train.Pclass == 2]\n",
    "p3 = train[train.Pclass == 3]\n",
    "train.loc[train.Fare.isnull() & (train.Pclass == 1), 'Fare'] = p1.Fare.mean()\n",
    "train.loc[train.Fare.isnull() & (train.Pclass == 2), 'Fare'] = p2.Fare.mean()\n",
    "train.loc[train.Fare.isnull() & (train.Pclass == 3), 'Fare'] = p3.Fare.mean()\n",
    "test.loc[test.Fare.isnull() & (test.Pclass == 1), 'Fare'] = p1.Fare.mean()\n",
    "test.loc[test.Fare.isnull() & (test.Pclass == 2), 'Fare'] = p2.Fare.mean()\n",
    "test.loc[test.Fare.isnull() & (test.Pclass == 3), 'Fare'] = p3.Fare.mean()"
   ]
  },
  {
   "cell_type": "markdown",
   "metadata": {},
   "source": [
    "Now that we have cleaner data, of the first suggestions of the first blog was to make plots of age and other characteristics to see if there was any correlation: "
   ]
  },
  {
   "cell_type": "code",
   "execution_count": 8,
   "metadata": {
    "collapsed": false
   },
   "outputs": [
    {
     "data": {
      "image/png": "[encoded data removed]",
      "text/plain": [
       "<matplotlib.figure.Figure at 0x7f92682d2ad0>"
      ]
     },
     "metadata": {},
     "output_type": "display_data"
    }
   ],
   "source": [
    "female = train[train.Sex == 0]\n",
    "male = train[train.Sex == 1]\n",
    "fig = plt.figure(figsize=(20,6))\n",
    " \n",
    "plt.subplots_adjust(bottom=0.1, right=0.8, top=2)    \n",
    "\n",
    "##gender and age\n",
    "#female\n",
    "ax1 = fig.add_subplot(5,4,12)\n",
    "female_aged = female.Survived[female.AgeFill >= 60].value_counts()\n",
    "female_aged.plot(kind='bar', color='green', label='female, aged')\n",
    "plt.legend(loc='best')\n",
    "\n",
    "ax2 = fig.add_subplot(5,4,9)\n",
    "female_child = female.Survived[female.AgeFill <= 10].value_counts()\n",
    "female_child.plot(kind='bar', color='green', label='female, children')\n",
    "plt.legend(loc='best')\n",
    "\n",
    "ax3 = fig.add_subplot(5,4,10)\n",
    "female_midage = female.Survived[female.AgeFill>10][female.AgeFill<=30].value_counts()\n",
    "female_midage.plot(kind='bar', color='green', label='female, 10-30')\n",
    "plt.legend(loc='best')\n",
    "\n",
    "ax4 = fig.add_subplot(5,4,11)\n",
    "female_middleage = female.Survived[female.AgeFill>30][female.AgeFill<60].value_counts()\n",
    "female_middleage.plot(kind='bar', color='green', label='female, 30-60')\n",
    "plt.legend(loc='best')\n",
    " \n",
    "#male\n",
    " \n",
    "ax5 = fig.add_subplot(5,4,16)\n",
    "male_aged = male.Survived[male.AgeFill >= 60].value_counts()\n",
    "male_aged.plot(kind='bar', label='male, aged')\n",
    "plt.legend(loc='best')\n",
    "\n",
    "ax6 = fig.add_subplot(5,4,13)\n",
    "male_child = male.Survived[male.AgeFill <= 10].value_counts()\n",
    "male_child.plot(kind='bar', label='male, children')\n",
    "plt.legend(loc='best')\n",
    "\n",
    "ax7 = fig.add_subplot(5,4,14)\n",
    "male_midage = male.Survived[male.AgeFill>10][male.AgeFill<=30].value_counts()\n",
    "male_midage.plot(kind='bar', label='male, 10-30')\n",
    "plt.legend(loc='best') \n",
    "\n",
    "ax8 = fig.add_subplot(5,4,15)\n",
    "male_middleage = male.Survived[male.AgeFill>30][male.AgeFill<60].value_counts()\n",
    "male_middleage.plot(kind='bar', label='male, 30-60') \n",
    "plt.legend(loc='best')\n",
    "\n",
    "plt.show()"
   ]
  },
  {
   "cell_type": "markdown",
   "metadata": {},
   "source": [
    "From this we gain some very interesting and potentially useful information: \n",
    "- the four aged females all survived\n",
    "- female children had slightly under 2/3 chance of survival, not as high as I would have suspected. On the other hand, females between 10-30 had around a 3/4 chance, while females between 30-60 had about a 4/5 chance of survival\n",
    "- male children had the best chance of surviving, with men between 30-60 next (about a 1/5 chance)"
   ]
  },
  {
   "cell_type": "markdown",
   "metadata": {},
   "source": [
    "Next, checking once again the passenger class and gender correlation: "
   ]
  },
  {
   "cell_type": "code",
   "execution_count": 9,
   "metadata": {
    "collapsed": false
   },
   "outputs": [
    {
     "name": "stderr",
     "output_type": "stream",
     "text": [
      "/home/kiki/anaconda/lib/python2.7/site-packages/pandas/core/frame.py:1997: UserWarning: Boolean Series key will be reindexed to match DataFrame index.\n",
      "  \"DataFrame index.\", UserWarning)\n"
     ]
    },
    {
     "data": {
      "image/png": "[encoded data removed]",
      "text/plain": [
       "<matplotlib.figure.Figure at 0x7f92366aa450>"
      ]
     },
     "metadata": {},
     "output_type": "display_data"
    },
    {
     "data": {
      "text/plain": [
       "<matplotlib.figure.Figure at 0x7f923669a410>"
      ]
     },
     "metadata": {},
     "output_type": "display_data"
    }
   ],
   "source": [
    "hist = thinkstats2.Hist(female[train.Pclass == 1].Survived)\n",
    "hist1 = thinkstats2.Hist(female[train.Pclass == 2].Survived)\n",
    "hist2 = thinkstats2.Hist(female[train.Pclass == 3].Survived)\n",
    "thinkplot.PrePlot(3)\n",
    "thinkplot.Hist(hist, align='left', width=0.3, label='1')\n",
    "thinkplot.Hist(hist1, align='center', width=0.3, label='2')\n",
    "thinkplot.Hist(hist2, align='right', width=0.3, label='3')\n",
    "thinkplot.Show(xlabel='survived', ylabel='amount of women in class')"
   ]
  },
  {
   "cell_type": "code",
   "execution_count": 10,
   "metadata": {
    "collapsed": false
   },
   "outputs": [
    {
     "data": {
      "image/png": "[encoded data removed]",
      "text/plain": [
       "<matplotlib.figure.Figure at 0x7f92682f0410>"
      ]
     },
     "metadata": {},
     "output_type": "display_data"
    },
    {
     "data": {
      "text/plain": [
       "<matplotlib.figure.Figure at 0x7f92682f0290>"
      ]
     },
     "metadata": {},
     "output_type": "display_data"
    }
   ],
   "source": [
    "hist = thinkstats2.Hist(male[train.Pclass == 1].Survived)\n",
    "hist1 = thinkstats2.Hist(male[train.Pclass == 2].Survived)\n",
    "hist2 = thinkstats2.Hist(male[train.Pclass == 3].Survived)\n",
    "thinkplot.PrePlot(3)\n",
    "thinkplot.Hist(hist, align='left', width=0.3, label='class 1')\n",
    "thinkplot.Hist(hist1, align='center', width=0.3, label='class 2')\n",
    "thinkplot.Hist(hist2, align='right', width=0.3, label='class 3')\n",
    "thinkplot.Show(xlabel='survived', ylabel='amount of men in class')"
   ]
  },
  {
   "cell_type": "markdown",
   "metadata": {},
   "source": [
    "For the females, it appears there is a stronger correlation between class and survival; nearly all high class and middle class females survived, while there was about a 50-50 split between the third class, which was given lower priority during the sinking. <br>\n",
    "For the males there is certainly a higher ratio of high class and middle class males who survived, but it is not as significant. <br>\n",
    "Because of this correlation between age, gender, and class I will try to incorporate that into my model. "
   ]
  },
  {
   "cell_type": "code",
   "execution_count": 11,
   "metadata": {
    "collapsed": false
   },
   "outputs": [
    {
     "name": "stdout",
     "output_type": "stream",
     "text": [
      "0.82379349046\n"
     ]
    }
   ],
   "source": [
    "predictors = [\"Pclass\", \"Sex\", \"AgeFill\", \"Fare\", \"Embarked\", \"NameLength\", \"FamilySize\", \"Title\"]\n",
    "\n",
    "# Initialize our algorithm with the default paramters\n",
    "# n_estimators is the number of trees we want to make\n",
    "# min_samples_split is the minimum number of rows we need to make a split\n",
    "# min_samples_leaf is the minimum number of samples we can have at the place where a tree branch ends (the bottom points of the tree)\n",
    "alg = RandomForestClassifier(random_state=1, n_estimators=10, min_samples_split=10, min_samples_leaf=5)\n",
    "# Compute the accuracy score for all the cross validation folds.  (much simpler than what we did before!)\n",
    "scores = cross_validation.cross_val_score(alg, train[predictors], train[\"Survived\"], cv=3)\n",
    "\n",
    "# Take the mean of the scores (because we have one for each fold)\n",
    "print(scores.mean())"
   ]
  },
  {
   "cell_type": "markdown",
   "metadata": {},
   "source": [
    "Before adding the new title column the mean was around 0.81, so it looks like my decision to add the column in was a good choice. Next, I will try adding columns to differentiate sex, age, and class, to see if that makes a difference. The weightings are based off of the probability of each section surviving based on the train results."
   ]
  },
  {
   "cell_type": "code",
   "execution_count": 12,
   "metadata": {
    "collapsed": false
   },
   "outputs": [],
   "source": [
    "train['SexClass'] = train['Sex']\n",
    "\"\"\"train.loc[ (train.Sex == 0) & (train.Pclass == 1) & (train.AgeFill>30) & (train.AgeFill<60),'SexClass'] = 100\n",
    "train.loc[ (train.Sex == 0) & (train.Pclass == 1) & ((train.AgeFill>10) & (train.AgeFill<30) | (train.AgeFill>60)),'SexClass'] = 25\n",
    "train.loc[ (train.Sex == 0) & (train.Pclass == 1) & (train.AgeFill<10),'SexClass'] = 40\n",
    "\n",
    "train.loc[ (train.Sex == 0) & (train.Pclass == 2) & (train.AgeFill>30) & (train.AgeFill<60),'SexClass'] = 9\n",
    "train.loc[ (train.Sex == 0) & (train.Pclass == 2) & (train.AgeFill>10) & (train.AgeFill<30),'SexClass'] = 8\n",
    "train.loc[ (train.Sex == 0) & (train.Pclass == 2) & (train.AgeFill<10),'SexClass'] = 7\n",
    "train.loc[ (train.Sex == 0) & (train.Pclass == 2) & (train.AgeFill>60),'SexClass'] = 6\n",
    "\n",
    "train.loc[ (train.Sex == 0) & (train.Pclass == 3) ,'SexClass'] = 5\n",
    "\n",
    "train.loc[ (train.Sex == 1) & (train.Pclass == 1) & (train.AgeFill>30) & (train.AgeFill<60),'SexClass'] = 4\n",
    "train.loc[ (train.Sex == 1) & (train.Pclass == 1) & ((train.AgeFill>10) & (train.AgeFill<30) | (train.AgeFill>60)),'SexClass'] = 3\n",
    "train.loc[ (train.Sex == 1) & (train.Pclass == 1) & (train.AgeFill<10),'SexClass'] = 20\"\"\"\n",
    "\n",
    "train.loc[ (train.Sex == 0) & (train.Pclass == 1) ,'SexClass'] = 5\n",
    "train.loc[ (train.Sex == 0) & (train.Pclass == 2) ,'SexClass'] = 4\n",
    "train.loc[ (train.Sex == 0) & (train.Pclass == 3) ,'SexClass'] = 3\n",
    "train.loc[ (train.Sex == 1) & (train.Pclass == 1) ,'SexClass'] = 2\n",
    "train.loc[ (train.Sex == 1) & (train.Pclass == 2) ,'SexClass'] = 1\n",
    "train.loc[ (train.Sex == 1) & (train.Pclass == 3) ,'SexClass'] = 0\n",
    "\n",
    "test['SexClass'] = test['Sex']\n",
    "\"\"\"test.loc[ (test.Sex == 0) & (test.Pclass == 1) & (test.AgeFill>30) & (test.AgeFill<60),'SexClass'] = 100\n",
    "test.loc[ (test.Sex == 0) & (test.Pclass == 1) & ((test.AgeFill>10) & (test.AgeFill<30) | (test.AgeFill>60)),'SexClass'] = 25\n",
    "test.loc[ (test.Sex == 0) & (test.Pclass == 1) & (test.AgeFill<10),'SexClass'] = 40\n",
    "\n",
    "test.loc[ (test.Sex == 0) & (test.Pclass == 2) & (test.AgeFill>30) & (test.AgeFill<60),'SexClass'] = 9\n",
    "test.loc[ (test.Sex == 0) & (test.Pclass == 2) & (test.AgeFill>10) & (test.AgeFill<30),'SexClass'] = 8\n",
    "test.loc[ (test.Sex == 0) & (test.Pclass == 2) & (test.AgeFill<10),'SexClass'] = 7\n",
    "test.loc[ (test.Sex == 0) & (test.Pclass == 2) & (test.AgeFill>60),'SexClass'] = 6\n",
    "\n",
    "test.loc[ (test.Sex == 0) & (test.Pclass == 3) ,'SexClass'] = 5\n",
    "\n",
    "test.loc[ (test.Sex == 1) & (test.Pclass == 1) & (test.AgeFill>30) & (test.AgeFill<60),'SexClass'] = 4\n",
    "test.loc[ (test.Sex == 1) & (test.Pclass == 1) & ((test.AgeFill>10) & (test.AgeFill<30) | (test.AgeFill>60)),'SexClass'] = 3\n",
    "test.loc[ (test.Sex == 1) & (test.Pclass == 1) & (test.AgeFill<10),'SexClass'] = 20\"\"\"\n",
    "\n",
    "test.loc[ (test.Sex == 0) & (test.Pclass == 1) ,'SexClass'] = 5\n",
    "test.loc[ (test.Sex == 0) & (test.Pclass == 2) ,'SexClass'] = 4\n",
    "test.loc[ (test.Sex == 0) & (test.Pclass == 3) ,'SexClass'] = 3\n",
    "test.loc[ (test.Sex == 1) & (test.Pclass == 1) ,'SexClass'] = 2\n",
    "test.loc[ (test.Sex == 1) & (test.Pclass == 2) ,'SexClass'] = 1\n",
    "test.loc[ (test.Sex == 1) & (test.Pclass == 3) ,'SexClass'] = 0"
   ]
  },
  {
   "cell_type": "markdown",
   "metadata": {
    "collapsed": true
   },
   "source": [
    "I played around a bit to see how to achieve the best means of weighting the values in this column - one thing I did not have a chance to try was weighting by percentages of survival in the training data. "
   ]
  },
  {
   "cell_type": "code",
   "execution_count": 13,
   "metadata": {
    "collapsed": false
   },
   "outputs": [
    {
     "name": "stdout",
     "output_type": "stream",
     "text": [
      "0.835137254902\n"
     ]
    }
   ],
   "source": [
    "predictors = [\"Pclass\", \"Sex\", \"AgeFill\", \"Fare\", \"Embarked\", \"NameLength\", \"FamilySize\", \"Title\", \"SexClass\"]\n",
    "\n",
    "# Initialize our algorithm with the default paramters\n",
    "# n_estimators is the number of trees we want to make\n",
    "# min_samples_split is the minimum number of rows we need to make a split\n",
    "# min_samples_leaf is the minimum number of samples we can have at the place where a tree branch ends (the bottom points of the tree)\n",
    "alg = RandomForestClassifier(random_state=1, n_estimators=10, min_samples_split=2, min_samples_leaf=5)\n",
    "# Compute the accuracy score for all the cross validation folds.  (much simpler than what we did before!)\n",
    "scores = cross_validation.cross_val_score(alg, train[predictors], train[\"Survived\"], cv=25)\n",
    "\n",
    "# Take the mean of the scores (because we have one for each fold)\n",
    "print(scores.mean())"
   ]
  },
  {
   "cell_type": "markdown",
   "metadata": {},
   "source": [
    "Overall, I saw values for the mean range from around 0.819 to 0.837, so there was a definite improvement. However, when actually testing this in Kaggle, I actually went down in accuracy, from 0.7799 to around 0.75120 and 0.7713. Thus, I think I will also try changing the model variables to see if that helps."
   ]
  },
  {
   "cell_type": "code",
   "execution_count": 14,
   "metadata": {
    "collapsed": false
   },
   "outputs": [
    {
     "name": "stdout",
     "output_type": "stream",
     "text": [
      "0.836311858077\n"
     ]
    }
   ],
   "source": [
    "alg = RandomForestClassifier(random_state=1, n_estimators=150, min_samples_split=4, min_samples_leaf=5)\n",
    "# Compute the accuracy score for all the cross validation folds.  (much simpler than what we did before!)\n",
    "scores = cross_validation.cross_val_score(alg, train[predictors], train[\"Survived\"], cv=25)\n",
    "\n",
    "# Take the mean of the scores (because we have one for each fold)\n",
    "print(scores.mean())"
   ]
  },
  {
   "cell_type": "markdown",
   "metadata": {},
   "source": [
    "In changing model variables, the mean improved at most by 0.02. However, the Kaggle score did not improve, so that suggests that I need to change my model to make it more accurate. "
   ]
  },
  {
   "cell_type": "code",
   "execution_count": 26,
   "metadata": {
    "collapsed": false
   },
   "outputs": [
    {
     "data": {
      "image/png": "[encoded data removed]",
      "text/plain": [
       "<matplotlib.figure.Figure at 0x7f92322692d0>"
      ]
     },
     "metadata": {},
     "output_type": "display_data"
    },
    {
     "name": "stdout",
     "output_type": "stream",
     "text": [
      "0.840855275444\n"
     ]
    }
   ],
   "source": [
    "# Perform feature selection\n",
    "selector = SelectKBest(f_classif, k='all')\n",
    "selector.fit(train[predictors], train[\"Survived\"])\n",
    "\n",
    "# Get the raw p-values for each feature, and transform from p-values into scores\n",
    "scores = -np.log10(selector.pvalues_)\n",
    "\n",
    "# Plot the scores.  See how \"Pclass\", \"Sex\", \"Title\", and \"Fare\" are the best?\n",
    "plt.bar(range(len(predictors)), scores)\n",
    "plt.xticks(range(len(predictors)), predictors, rotation='vertical')\n",
    "plt.show()\n",
    "\n",
    "# Pick only the best features.\n",
    "#predictors = [\"Pclass\", \"Sex\", \"Fare\", \"Title\"]\n",
    "predictors = [\"SexClass\", \"Title\", \"Sex\", \"Pclass\", \"Fare\"]\n",
    "\n",
    "alg = RandomForestClassifier(random_state=1, n_estimators=150, min_samples_split=8, min_samples_leaf=5)\n",
    "# Compute the accuracy score for all the cross validation folds.  (much simpler than what we did before!)\n",
    "scores = cross_validation.cross_val_score(alg, train[predictors], train[\"Survived\"], cv=25)\n",
    "\n",
    "# Take the mean of the scores (because we have one for each fold)\n",
    "print(scores.mean())"
   ]
  },
  {
   "cell_type": "markdown",
   "metadata": {},
   "source": [
    "By seeing which factors had the largest effect, I was able to select only those to use and get a pretty high result with my train data (0.841). However, in Kaggle my score actually remained the same when I submitted it. So, the last thing I tried was to change the type of model by using three algorithms, gradient boosting and logistic regression along with random forest, and taking the average of the three. "
   ]
  },
  {
   "cell_type": "code",
   "execution_count": 35,
   "metadata": {
    "collapsed": false
   },
   "outputs": [
    {
     "name": "stdout",
     "output_type": "stream",
     "text": [
      "0.813692480359\n"
     ]
    },
    {
     "name": "stderr",
     "output_type": "stream",
     "text": [
      "/home/kiki/anaconda/lib/python2.7/site-packages/IPython/kernel/__main__.py:35: FutureWarning: in the future, boolean array-likes will be handled as a boolean array index\n"
     ]
    }
   ],
   "source": [
    "# The algorithms we want to ensemble.\n",
    "# We're using the more linear predictors for the logistic regression, and everything with the gradient boosting classifier.\n",
    "algorithms = [\n",
    "    [GradientBoostingClassifier(random_state=1, n_estimators=25, max_depth=3), [\"Sex\", \"NameLength\", \"SexClass\", \"Pclass\", \"Fare\", \"Embarked\", \"Title\", \"FamilySize\"]],\n",
    "    [RandomForestClassifier(random_state=1, n_estimators=150, min_samples_split=8, min_samples_leaf=5), [\"Sex\", \"NameLength\", \"SexClass\", \"Pclass\", \"Fare\", \"Embarked\", \"Title\", \"FamilySize\"]],\n",
    "    [LogisticRegression(random_state=1), [\"Sex\", \"NameLength\", \"SexClass\", \"Pclass\", \"Fare\", \"Embarked\", \"Title\", \"FamilySize\"]]\n",
    "]\n",
    "\n",
    "# Initialize the cross validation folds\n",
    "kf = KFold(train.shape[0], n_folds=3, random_state=1)\n",
    "\n",
    "predictions = []\n",
    "for train1, test1 in kf:\n",
    "    train_target = train[\"Survived\"].iloc[train1]\n",
    "    full_test_predictions = []\n",
    "    # Make predictions for each algorithm on each fold\n",
    "    for alg, predictors in algorithms:\n",
    "        # Fit the algorithm on the training data.\n",
    "        alg.fit(train[predictors].iloc[train1,:], train_target)\n",
    "        # Select and predict on the test fold.  \n",
    "        # The .astype(float) is necessary to convert the dataframe to all floats and avoid an sklearn error.\n",
    "        test_predictions = alg.predict_proba(train[predictors].iloc[test1,:].astype(float))[:,1]\n",
    "        full_test_predictions.append(test_predictions)\n",
    "    # Use a simple ensembling scheme -- just average the predictions to get the final classification.\n",
    "    test_predictions = (full_test_predictions[0] + full_test_predictions[1] + full_test_predictions[2]) / 3\n",
    "    # Any value over .5 is assumed to be a 1 prediction, and below .5 is a 0 prediction.\n",
    "    test_predictions[test_predictions <= .5] = 0\n",
    "    test_predictions[test_predictions > .5] = 1\n",
    "    predictions.append(test_predictions)\n",
    "\n",
    "# Put all the predictions together into one array.\n",
    "predictions = np.concatenate(predictions, axis=0)\n",
    "\n",
    "# Compute accuracy by comparing to the training data.\n",
    "accuracy = sum(predictions[predictions == train[\"Survived\"]]) / len(predictions)\n",
    "print(accuracy)"
   ]
  },
  {
   "cell_type": "code",
   "execution_count": 30,
   "metadata": {
    "collapsed": true
   },
   "outputs": [],
   "source": [
    "full_predictions = []\n",
    "for alg, predictors in algorithms:\n",
    "    # Fit the algorithm using the full training data.\n",
    "    alg.fit(train[predictors], train[\"Survived\"])\n",
    "    # Predict using the test dataset.  We have to convert all the columns to floats to avoid an error.\n",
    "    predictions = alg.predict_proba(test[predictors].astype(float))[:,1]\n",
    "    full_predictions.append(predictions)\n",
    "\n",
    "# The gradient boosting classifier generates better predictions, so we weight it higher.\n",
    "predictions = (full_predictions[0] * 5 + full_predictions[1]) / 4\n",
    "predictions[predictions <= .5] = 0\n",
    "predictions[predictions > .5] = 1\n",
    "predictions = predictions.astype(int)\n",
    "submission = pd.DataFrame({\n",
    "        \"PassengerId\": test[\"PassengerId\"],\n",
    "        \"Survived\": predictions\n",
    "    })"
   ]
  },
  {
   "cell_type": "code",
   "execution_count": 28,
   "metadata": {
    "collapsed": true
   },
   "outputs": [],
   "source": [
    "submission.to_csv('kaggle.csv', index=False)"
   ]
  },
  {
   "cell_type": "markdown",
   "metadata": {
    "collapsed": true
   },
   "source": [
    "In the end, this also did not improve my score, but I learned much more about how the models actually work. I think that implementing my own column, 'SexClass', helped my model significantly, but I need to figure out a better method of weighting. Overall, I think that my score on Kaggle did not improve because right now the weighting is very tailored to the train data, and is not necessarily very adaptable. In order to increase my scores with this model from 0.77033 to beat my highest score of 0.7799 and improve it in general, the weighting of different factors and variables is definitely where I would start. "
   ]
  },
  {
   "cell_type": "code",
   "execution_count": null,
   "metadata": {
    "collapsed": true
   },
   "outputs": [],
   "source": []
  }
 ],
 "metadata": {
  "kernelspec": {
   "display_name": "Python 2",
   "language": "python",
   "name": "python2"
  },
  "language_info": {
   "codemirror_mode": {
    "name": "ipython",
    "version": 2
   },
   "file_extension": ".py",
   "mimetype": "text/x-python",
   "name": "python",
   "nbconvert_exporter": "python",
   "pygments_lexer": "ipython2",
   "version": "2.7.11"
  }
 },
 "nbformat": 4,
 "nbformat_minor": 0
}

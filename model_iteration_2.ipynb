{
 "cells": [
  {
   "cell_type": "markdown",
   "metadata": {},
   "source": [
    "Shivali Chandra <br>\n",
    "1/30/16 <br>\n",
    "Warmup Project Iteration 2"
   ]
  },
  {
   "cell_type": "markdown",
   "metadata": {},
   "source": [
    "Inspiration 1: http://elenacuoco.altervista.org/blog/archives/1195?doing_wp_cron=1454278621.7234199047088623046875, provides a great overview of how the author figured out which values would be relevant <br>\n",
    "Inspiration 2: https://triangleinequality.wordpress.com/2013/09/05/a-complete-guide-to-getting-0-79903-in-kaggles-titanic-competition-with-python/, good overview as to how to structure the code and model as decision trees. This was a really interesting approach, because it basically weighted different factors as deciding factors or questions leading to more factors (for example, starting with a male, checking the passenger class and moving to different factors based on the result). I did not implement this entirely, but read through it and the links it pointed to in order to get a better sense of how to modify my model. "
   ]
  },
  {
   "cell_type": "code",
   "execution_count": 51,
   "metadata": {
    "collapsed": false
   },
   "outputs": [],
   "source": [
    "%matplotlib inline\n",
    "import pandas as pd\n",
    "from sklearn.linear_model import LinearRegression, LogisticRegression\n",
    "from sklearn.cross_validation import KFold\n",
    "from sklearn import cross_validation\n",
    "import numpy as np\n",
    "import matplotlib.pyplot as plt \n",
    "import thinkplot\n",
    "import thinkstats2\n",
    "import string"
   ]
  },
  {
   "cell_type": "markdown",
   "metadata": {},
   "source": [
    "I incorporated my own ideas by going through and seeing how the ideas in the two articles could be combined, especially with respect to different variables. Some of the variables I used were different, because I am interested in seeing the difference that they make, not necessarily just in achieving a higher score each time. "
   ]
  },
  {
   "cell_type": "code",
   "execution_count": 60,
   "metadata": {
    "collapsed": false
   },
   "outputs": [
    {
     "data": {
      "text/html": [
       "<div>\n",
       "<table border=\"1\" class=\"dataframe\">\n",
       "  <thead>\n",
       "    <tr style=\"text-align: right;\">\n",
       "      <th></th>\n",
       "      <th>PassengerId</th>\n",
       "      <th>Survived</th>\n",
       "      <th>Pclass</th>\n",
       "      <th>Age</th>\n",
       "      <th>SibSp</th>\n",
       "      <th>Parch</th>\n",
       "      <th>Fare</th>\n",
       "    </tr>\n",
       "  </thead>\n",
       "  <tbody>\n",
       "    <tr>\n",
       "      <th>count</th>\n",
       "      <td>891.000000</td>\n",
       "      <td>891.000000</td>\n",
       "      <td>891.000000</td>\n",
       "      <td>714.000000</td>\n",
       "      <td>891.000000</td>\n",
       "      <td>891.000000</td>\n",
       "      <td>891.000000</td>\n",
       "    </tr>\n",
       "    <tr>\n",
       "      <th>mean</th>\n",
       "      <td>446.000000</td>\n",
       "      <td>0.383838</td>\n",
       "      <td>2.308642</td>\n",
       "      <td>29.699118</td>\n",
       "      <td>0.523008</td>\n",
       "      <td>0.381594</td>\n",
       "      <td>32.204208</td>\n",
       "    </tr>\n",
       "    <tr>\n",
       "      <th>std</th>\n",
       "      <td>257.353842</td>\n",
       "      <td>0.486592</td>\n",
       "      <td>0.836071</td>\n",
       "      <td>14.526497</td>\n",
       "      <td>1.102743</td>\n",
       "      <td>0.806057</td>\n",
       "      <td>49.693429</td>\n",
       "    </tr>\n",
       "    <tr>\n",
       "      <th>min</th>\n",
       "      <td>1.000000</td>\n",
       "      <td>0.000000</td>\n",
       "      <td>1.000000</td>\n",
       "      <td>0.420000</td>\n",
       "      <td>0.000000</td>\n",
       "      <td>0.000000</td>\n",
       "      <td>0.000000</td>\n",
       "    </tr>\n",
       "    <tr>\n",
       "      <th>25%</th>\n",
       "      <td>223.500000</td>\n",
       "      <td>0.000000</td>\n",
       "      <td>2.000000</td>\n",
       "      <td>20.125000</td>\n",
       "      <td>0.000000</td>\n",
       "      <td>0.000000</td>\n",
       "      <td>7.910400</td>\n",
       "    </tr>\n",
       "    <tr>\n",
       "      <th>50%</th>\n",
       "      <td>446.000000</td>\n",
       "      <td>0.000000</td>\n",
       "      <td>3.000000</td>\n",
       "      <td>28.000000</td>\n",
       "      <td>0.000000</td>\n",
       "      <td>0.000000</td>\n",
       "      <td>14.454200</td>\n",
       "    </tr>\n",
       "    <tr>\n",
       "      <th>75%</th>\n",
       "      <td>668.500000</td>\n",
       "      <td>1.000000</td>\n",
       "      <td>3.000000</td>\n",
       "      <td>38.000000</td>\n",
       "      <td>1.000000</td>\n",
       "      <td>0.000000</td>\n",
       "      <td>31.000000</td>\n",
       "    </tr>\n",
       "    <tr>\n",
       "      <th>max</th>\n",
       "      <td>891.000000</td>\n",
       "      <td>1.000000</td>\n",
       "      <td>3.000000</td>\n",
       "      <td>80.000000</td>\n",
       "      <td>8.000000</td>\n",
       "      <td>6.000000</td>\n",
       "      <td>512.329200</td>\n",
       "    </tr>\n",
       "  </tbody>\n",
       "</table>\n",
       "</div>"
      ],
      "text/plain": [
       "       PassengerId    Survived      Pclass         Age       SibSp  \\\n",
       "count   891.000000  891.000000  891.000000  714.000000  891.000000   \n",
       "mean    446.000000    0.383838    2.308642   29.699118    0.523008   \n",
       "std     257.353842    0.486592    0.836071   14.526497    1.102743   \n",
       "min       1.000000    0.000000    1.000000    0.420000    0.000000   \n",
       "25%     223.500000    0.000000    2.000000   20.125000    0.000000   \n",
       "50%     446.000000    0.000000    3.000000   28.000000    0.000000   \n",
       "75%     668.500000    1.000000    3.000000   38.000000    1.000000   \n",
       "max     891.000000    1.000000    3.000000   80.000000    8.000000   \n",
       "\n",
       "            Parch        Fare  \n",
       "count  891.000000  891.000000  \n",
       "mean     0.381594   32.204208  \n",
       "std      0.806057   49.693429  \n",
       "min      0.000000    0.000000  \n",
       "25%      0.000000    7.910400  \n",
       "50%      0.000000   14.454200  \n",
       "75%      0.000000   31.000000  \n",
       "max      6.000000  512.329200  "
      ]
     },
     "execution_count": 60,
     "metadata": {},
     "output_type": "execute_result"
    }
   ],
   "source": [
    "train = pd.read_csv('train.csv')\n",
    "\n",
    "train.describe()"
   ]
  },
  {
   "cell_type": "markdown",
   "metadata": {},
   "source": [
    "The biggest impact that this blog had on my model was the fact that it parsed for title and used that to assign age, rather than using the same mean. This actually seems pretty significant because there are over 200 ages missing, and with about 900 total people that is a large portion, so trying to get the age in a closer range is important. "
   ]
  },
  {
   "cell_type": "code",
   "execution_count": 61,
   "metadata": {
    "collapsed": false
   },
   "outputs": [],
   "source": [
    "def substrings_in_string(big_string, substrings):\n",
    "    for substring in substrings:\n",
    "        if string.find(big_string, substring) != -1:\n",
    "            return substring\n",
    "    print big_string\n",
    "    return np.nan\n",
    "\n",
    "title_list=['Mrs', 'Mr', 'Master', 'Miss', 'Major', 'Rev',\n",
    "                'Dr', 'Ms', 'Mlle','Col', 'Capt', 'Mme', 'Countess',\n",
    "                'Don', 'Jonkheer']\n",
    "train['Title']=train['Name'].map(lambda x: substrings_in_string(x, title_list))\n",
    "\n",
    "#replacing all titles with mr, mrs, miss, master\n",
    "def replace_titles(x):\n",
    "    title=x['Title']\n",
    "    if title in ['Mr','Don', 'Major', 'Capt', 'Jonkheer', 'Rev', 'Col']:\n",
    "        return 'Mr'\n",
    "    elif title in ['Master']:\n",
    "        return 'Master'\n",
    "    elif title in ['Countess', 'Mme','Mrs']:\n",
    "        return 'Mrs'\n",
    "    elif title in ['Mlle', 'Ms','Miss']:\n",
    "        return 'Miss'\n",
    "    elif title =='Dr':\n",
    "        if x['Sex']=='Male':\n",
    "            return 'Mr'\n",
    "        else:\n",
    "            return 'Mrs'\n",
    "    elif title =='':\n",
    "        if x['Sex']=='Male':\n",
    "            return 'Master'\n",
    "        else:\n",
    "            return 'Miss'\n",
    "    else:\n",
    "        return title\n",
    "\n",
    "train['Title']=train.apply(replace_titles, axis=1)\n",
    "\n",
    "train['AgeFill']=train['Age']\n",
    "mean_ages = np.zeros(4)\n",
    "mean_ages[0]=np.average(train[train['Title'] == 'Miss']['Age'].dropna())\n",
    "mean_ages[1]=np.average(train[train['Title'] == 'Mrs']['Age'].dropna())\n",
    "mean_ages[2]=np.average(train[train['Title'] == 'Mr']['Age'].dropna())\n",
    "mean_ages[3]=np.average(train[train['Title'] == 'Master']['Age'].dropna())\n",
    "train.loc[ (train.Age.isnull()) & (train.Title == 'Miss') ,'AgeFill'] = mean_ages[0]\n",
    "train.loc[ (train.Age.isnull()) & (train.Title == 'Mrs') ,'AgeFill'] = mean_ages[1]\n",
    "train.loc[ (train.Age.isnull()) & (train.Title == 'Mr') ,'AgeFill'] = mean_ages[2]\n",
    "train.loc[ (train.Age.isnull()) & (train.Title == 'Master') ,'AgeFill'] = mean_ages[3]"
   ]
  },
  {
   "cell_type": "code",
   "execution_count": 63,
   "metadata": {
    "collapsed": false
   },
   "outputs": [
    {
     "data": {
      "text/html": [
       "<div>\n",
       "<table border=\"1\" class=\"dataframe\">\n",
       "  <thead>\n",
       "    <tr style=\"text-align: right;\">\n",
       "      <th></th>\n",
       "      <th>PassengerId</th>\n",
       "      <th>Survived</th>\n",
       "      <th>Pclass</th>\n",
       "      <th>Age</th>\n",
       "      <th>SibSp</th>\n",
       "      <th>Parch</th>\n",
       "      <th>Fare</th>\n",
       "      <th>AgeFill</th>\n",
       "    </tr>\n",
       "  </thead>\n",
       "  <tbody>\n",
       "    <tr>\n",
       "      <th>count</th>\n",
       "      <td>891.000000</td>\n",
       "      <td>891.000000</td>\n",
       "      <td>891.000000</td>\n",
       "      <td>714.000000</td>\n",
       "      <td>891.000000</td>\n",
       "      <td>891.000000</td>\n",
       "      <td>891.000000</td>\n",
       "      <td>891.000000</td>\n",
       "    </tr>\n",
       "    <tr>\n",
       "      <th>mean</th>\n",
       "      <td>446.000000</td>\n",
       "      <td>0.383838</td>\n",
       "      <td>2.308642</td>\n",
       "      <td>29.699118</td>\n",
       "      <td>0.523008</td>\n",
       "      <td>0.381594</td>\n",
       "      <td>32.204208</td>\n",
       "      <td>29.819131</td>\n",
       "    </tr>\n",
       "    <tr>\n",
       "      <th>std</th>\n",
       "      <td>257.353842</td>\n",
       "      <td>0.486592</td>\n",
       "      <td>0.836071</td>\n",
       "      <td>14.526497</td>\n",
       "      <td>1.102743</td>\n",
       "      <td>0.806057</td>\n",
       "      <td>49.693429</td>\n",
       "      <td>13.285423</td>\n",
       "    </tr>\n",
       "    <tr>\n",
       "      <th>min</th>\n",
       "      <td>1.000000</td>\n",
       "      <td>0.000000</td>\n",
       "      <td>1.000000</td>\n",
       "      <td>0.420000</td>\n",
       "      <td>0.000000</td>\n",
       "      <td>0.000000</td>\n",
       "      <td>0.000000</td>\n",
       "      <td>0.420000</td>\n",
       "    </tr>\n",
       "    <tr>\n",
       "      <th>25%</th>\n",
       "      <td>223.500000</td>\n",
       "      <td>0.000000</td>\n",
       "      <td>2.000000</td>\n",
       "      <td>20.125000</td>\n",
       "      <td>0.000000</td>\n",
       "      <td>0.000000</td>\n",
       "      <td>7.910400</td>\n",
       "      <td>21.835616</td>\n",
       "    </tr>\n",
       "    <tr>\n",
       "      <th>50%</th>\n",
       "      <td>446.000000</td>\n",
       "      <td>0.000000</td>\n",
       "      <td>3.000000</td>\n",
       "      <td>28.000000</td>\n",
       "      <td>0.000000</td>\n",
       "      <td>0.000000</td>\n",
       "      <td>14.454200</td>\n",
       "      <td>30.000000</td>\n",
       "    </tr>\n",
       "    <tr>\n",
       "      <th>75%</th>\n",
       "      <td>668.500000</td>\n",
       "      <td>1.000000</td>\n",
       "      <td>3.000000</td>\n",
       "      <td>38.000000</td>\n",
       "      <td>1.000000</td>\n",
       "      <td>0.000000</td>\n",
       "      <td>31.000000</td>\n",
       "      <td>35.841667</td>\n",
       "    </tr>\n",
       "    <tr>\n",
       "      <th>max</th>\n",
       "      <td>891.000000</td>\n",
       "      <td>1.000000</td>\n",
       "      <td>3.000000</td>\n",
       "      <td>80.000000</td>\n",
       "      <td>8.000000</td>\n",
       "      <td>6.000000</td>\n",
       "      <td>512.329200</td>\n",
       "      <td>80.000000</td>\n",
       "    </tr>\n",
       "  </tbody>\n",
       "</table>\n",
       "</div>"
      ],
      "text/plain": [
       "       PassengerId    Survived      Pclass         Age       SibSp  \\\n",
       "count   891.000000  891.000000  891.000000  714.000000  891.000000   \n",
       "mean    446.000000    0.383838    2.308642   29.699118    0.523008   \n",
       "std     257.353842    0.486592    0.836071   14.526497    1.102743   \n",
       "min       1.000000    0.000000    1.000000    0.420000    0.000000   \n",
       "25%     223.500000    0.000000    2.000000   20.125000    0.000000   \n",
       "50%     446.000000    0.000000    3.000000   28.000000    0.000000   \n",
       "75%     668.500000    1.000000    3.000000   38.000000    1.000000   \n",
       "max     891.000000    1.000000    3.000000   80.000000    8.000000   \n",
       "\n",
       "            Parch        Fare     AgeFill  \n",
       "count  891.000000  891.000000  891.000000  \n",
       "mean     0.381594   32.204208   29.819131  \n",
       "std      0.806057   49.693429   13.285423  \n",
       "min      0.000000    0.000000    0.420000  \n",
       "25%      0.000000    7.910400   21.835616  \n",
       "50%      0.000000   14.454200   30.000000  \n",
       "75%      0.000000   31.000000   35.841667  \n",
       "max      6.000000  512.329200   80.000000  "
      ]
     },
     "execution_count": 63,
     "metadata": {},
     "output_type": "execute_result"
    }
   ],
   "source": [
    "train.describe()"
   ]
  },
  {
   "cell_type": "markdown",
   "metadata": {},
   "source": [
    "Now that we have cleaner data, of the first suggestions of the first blog was to make plots of age and other characteristics to see if there was any correlation: "
   ]
  },
  {
   "cell_type": "code",
   "execution_count": 62,
   "metadata": {
    "collapsed": false
   },
   "outputs": [
    {
     "data": {
      "image/png": "[encoded data removed]",
      "text/plain": [
       "<matplotlib.figure.Figure at 0x7fc2bede7f10>"
      ]
     },
     "metadata": {},
     "output_type": "display_data"
    }
   ],
   "source": [
    "fig = plt.figure(figsize=(20,6), dpi=1600 )\n",
    "a=0.8 \n",
    " \n",
    "plt.subplots_adjust(bottom=0.1, right=0.8, top=2)    \n",
    "\n",
    "##gender and age\n",
    "#female\n",
    "ax7 = fig.add_subplot(5,4,12)\n",
    "female_aged = train.Survived[train.Sex == 'female'][train.AgeFill >= 60].value_counts()\n",
    "female_aged.plot(kind='bar', label='female, aged', color='pink', alpha=a)\n",
    " \n",
    "ax7.set_xlim(-1, len(female_aged))\n",
    "plt.legend(loc='best')\n",
    "ax8 = fig.add_subplot(5,4,9)\n",
    "female_child = train.Survived[train.Sex == 'female'][train.AgeFill <= 10].value_counts()\n",
    "female_child.plot(kind='bar', label='female, children', color='pink', alpha=a)\n",
    " \n",
    "ax8.set_xlim(-1, len(female_child))\n",
    "plt.legend(loc='best')\n",
    "ax9 = fig.add_subplot(5,4,10)\n",
    "female_middleage = train.Survived[train.Sex == 'female'][train.AgeFill>10][train.AgeFill<=30].value_counts()\n",
    "female_middleage.plot(kind='bar', label='female, middle age(10-30)', color='pink', alpha=a)\n",
    " \n",
    "ax9.set_xlim(-1, len(female_middleage))\n",
    "plt.legend(loc='best')\n",
    "ax9 = fig.add_subplot(5,4,11)\n",
    "female_middleage = train.Survived[train.Sex == 'female'][train.AgeFill>30][train.AgeFill<60].value_counts()\n",
    "female_middleage.plot(kind='bar', label='female, middle age (30-60)', color='pink', alpha=a)\n",
    " \n",
    "ax9.set_xlim(-1, len(female_middleage))\n",
    "plt.legend(loc='best')\n",
    " \n",
    "#male\n",
    " \n",
    "ax10 = fig.add_subplot(5,4,16)\n",
    "male_aged = train.Survived[train.Sex == 'male'][train.AgeFill >= 60].value_counts()\n",
    "male_aged.plot(kind='bar', label='male, aged', color='blue', alpha=a)\n",
    " \n",
    "ax10.set_xlim(-1, len(male_aged))\n",
    "plt.legend(loc='best')\n",
    "ax11 = fig.add_subplot(5,4,13)\n",
    "male_child = train.Survived[train.Sex == 'male'][train.AgeFill <= 10].value_counts()\n",
    "male_child.plot(kind='bar', label='male, children', color='blue', alpha=a)\n",
    " \n",
    "ax11.set_xlim(-1, len(male_child))\n",
    "plt.legend(loc='best')\n",
    "ax12 = fig.add_subplot(5,4,14)\n",
    "male_middleage = train.Survived[train.Sex == 'male'][train.AgeFill>10][train.AgeFill<=30].value_counts()\n",
    "male_middleage.plot(kind='bar', label='male, middle age (10-30)', color='blue', alpha=a)\n",
    " \n",
    "ax12.set_xlim(-1, len(male_middleage))\n",
    "plt.legend(loc='best') \n",
    "ax12 = fig.add_subplot(5,4,15)\n",
    "male_middleage = train.Survived[train.Sex == 'male'][train.AgeFill>30][train.AgeFill<60].value_counts()\n",
    "male_middleage.plot(kind='bar', label='male, middle age (30-60)', color='blue', alpha=a)\n",
    " \n",
    "ax12.set_xlim(-1, len(male_middleage))\n",
    "plt.legend(loc='best')\n",
    "plt.show()"
   ]
  },
  {
   "cell_type": "markdown",
   "metadata": {},
   "source": [
    "From this we gain some very interesting and potentially useful information: \n",
    "- the four aged females all survived\n",
    "- female children had slightly under 2/3 chance of survival, not as high as I would have suspected. On the other hand, females between 10-30 had around a 3/4 chance, while females between 30-60 had about a 4/5 chance of survival\n",
    "- male children had the best chance of surviving, with men between 30-60 next (about a 1/5 chance)"
   ]
  },
  {
   "cell_type": "markdown",
   "metadata": {},
   "source": [
    "Next, checking once again the passenger class and gender correlation: "
   ]
  },
  {
   "cell_type": "code",
   "execution_count": 58,
   "metadata": {
    "collapsed": false
   },
   "outputs": [
    {
     "data": {
      "image/png": "[encoded data removed]",
      "text/plain": [
       "<matplotlib.figure.Figure at 0x7fc2bf30a810>"
      ]
     },
     "metadata": {},
     "output_type": "display_data"
    },
    {
     "data": {
      "text/plain": [
       "<matplotlib.figure.Figure at 0x7fc2bfbb7210>"
      ]
     },
     "metadata": {},
     "output_type": "display_data"
    }
   ],
   "source": [
    "female = train[train.Sex == 'female']\n",
    "hist = thinkstats2.Hist(female[train.Pclass == 1].Survived)\n",
    "hist1 = thinkstats2.Hist(female[train.Pclass == 2].Survived)\n",
    "hist2 = thinkstats2.Hist(female[train.Pclass == 3].Survived)\n",
    "thinkplot.PrePlot(3)\n",
    "thinkplot.Hist(hist, align='left', width=0.3, label='1')\n",
    "thinkplot.Hist(hist1, align='center', width=0.3, label='2')\n",
    "thinkplot.Hist(hist2, align='right', width=0.3, label='3')\n",
    "thinkplot.Show(xlabel='survived', ylabel='amount of women in class')"
   ]
  },
  {
   "cell_type": "code",
   "execution_count": 59,
   "metadata": {
    "collapsed": false
   },
   "outputs": [
    {
     "data": {
      "image/png": "[encoded data removed]",
      "text/plain": [
       "<matplotlib.figure.Figure at 0x7fc2bf6aa0d0>"
      ]
     },
     "metadata": {},
     "output_type": "display_data"
    },
    {
     "data": {
      "text/plain": [
       "<matplotlib.figure.Figure at 0x7fc2be04ea90>"
      ]
     },
     "metadata": {},
     "output_type": "display_data"
    }
   ],
   "source": [
    "male = train[train.Sex == 'male']\n",
    "hist = thinkstats2.Hist(male[train.Pclass == 1].Survived)\n",
    "hist1 = thinkstats2.Hist(male[train.Pclass == 2].Survived)\n",
    "hist2 = thinkstats2.Hist(male[train.Pclass == 3].Survived)\n",
    "thinkplot.PrePlot(3)\n",
    "thinkplot.Hist(hist, align='left', width=0.3, label='class 1')\n",
    "thinkplot.Hist(hist1, align='center', width=0.3, label='class 2')\n",
    "thinkplot.Hist(hist2, align='right', width=0.3, label='class 3')\n",
    "thinkplot.Show(xlabel='survived', ylabel='amount of men in class')"
   ]
  },
  {
   "cell_type": "markdown",
   "metadata": {},
   "source": [
    "For the females, it appears there is a stronger correlation between class and survival; nearly all high class and middle class females survived, while there was about a 50-50 split between the third class, which was given lower priority during the sinking. <br>\n",
    "For the males there is certainly a higher ratio of high class and middle class males who survived, but it is not as significant. <br>\n",
    "Because of this correlation between age, gender, and class I will try to incorporate that into my model. "
   ]
  },
  {
   "cell_type": "code",
   "execution_count": null,
   "metadata": {
    "collapsed": true
   },
   "outputs": [],
   "source": []
  }
 ],
 "metadata": {
  "kernelspec": {
   "display_name": "Python 2",
   "language": "python",
   "name": "python2"
  },
  "language_info": {
   "codemirror_mode": {
    "name": "ipython",
    "version": 2
   },
   "file_extension": ".py",
   "mimetype": "text/x-python",
   "name": "python",
   "nbconvert_exporter": "python",
   "pygments_lexer": "ipython2",
   "version": "2.7.11"
  }
 },
 "nbformat": 4,
 "nbformat_minor": 0
}

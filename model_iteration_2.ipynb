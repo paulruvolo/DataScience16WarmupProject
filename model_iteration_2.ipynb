{
 "cells": [
  {
   "cell_type": "markdown",
   "metadata": {},
   "source": [
    "# Source of Inspiration\n",
    "In this notebook, I'm going to try to take inspiration from someone else's model implementation. I've been curious about random forests for quite a while, so I looked for scripts that implemented them with this dataset specifically.\n",
    "\n",
    "I'm going to be using this [Random Forest Script](https://www.kaggle.com/amoyakd/titanic/randomforest-method-v1-0) that I found when I was looking through the scripts section of the Kaggle competition. \n",
    "\n",
    "\n",
    "In this script, the author implements a random forest model in R, but I'm going to try to replicate this work in python. \n",
    "\n",
    "Additionally, I found that they did some really interesting things in terms of filling in missing data and creating new features, so I wanted to try that too. "
   ]
  },
  {
   "cell_type": "code",
   "execution_count": 154,
   "metadata": {
    "collapsed": true
   },
   "outputs": [],
   "source": [
    "import pandas as pd\n",
    "import re\n",
    "from sklearn.linear_model import LinearRegression\n",
    "from sklearn.cross_validation import train_test_split\n",
    "from sklearn.ensemble import RandomForestRegressor"
   ]
  },
  {
   "cell_type": "markdown",
   "metadata": {},
   "source": [
    "First, they read in the data."
   ]
  },
  {
   "cell_type": "code",
   "execution_count": 131,
   "metadata": {
    "collapsed": false
   },
   "outputs": [],
   "source": [
    "train = pd.read_csv('./Data/train.csv')\n",
    "test = pd.read_csv('./Data/test.csv')"
   ]
  },
  {
   "cell_type": "markdown",
   "metadata": {},
   "source": [
    "Next is cleaning the data. In this particular script, the author mostly does something very similar to what we did in the previous tutorial for the sex and embarked and fare columns."
   ]
  },
  {
   "cell_type": "code",
   "execution_count": 132,
   "metadata": {
    "collapsed": false
   },
   "outputs": [],
   "source": [
    "# Recode Sex data\n",
    "test.loc[test[\"Sex\"] == \"male\", \"Sex\"] = 0\n",
    "test.loc[test[\"Sex\"] == \"female\", \"Sex\"] = 1\n",
    "train.loc[train[\"Sex\"] == \"male\", \"Sex\"] = 0\n",
    "train.loc[train[\"Sex\"] == \"female\", \"Sex\"] = 1\n",
    "\n",
    "# Recode Embarked Data\n",
    "test[\"Embarked\"] = test[\"Embarked\"].fillna(\"S\")\n",
    "test.loc[test[\"Embarked\"] == \"S\", \"Embarked\"] = 0\n",
    "test.loc[test[\"Embarked\"] == \"C\", \"Embarked\"] = 1\n",
    "test.loc[test[\"Embarked\"] == \"Q\", \"Embarked\"] = 2\n",
    "\n",
    "train[\"Embarked\"] = train[\"Embarked\"].fillna(\"S\")\n",
    "train.loc[train[\"Embarked\"] == \"S\", \"Embarked\"] = 0\n",
    "train.loc[train[\"Embarked\"] == \"C\", \"Embarked\"] = 1\n",
    "train.loc[train[\"Embarked\"] == \"Q\", \"Embarked\"] = 2\n",
    "\n",
    "#Replace one missing fare data\n",
    "test[\"Fare\"] = test[\"Fare\"].fillna(train[\"Fare\"].median())\n"
   ]
  },
  {
   "cell_type": "markdown",
   "metadata": {},
   "source": [
    "Now, in this script, we also extract the title from the name of the person. "
   ]
  },
  {
   "cell_type": "code",
   "execution_count": 133,
   "metadata": {
    "collapsed": true
   },
   "outputs": [],
   "source": [
    "def extractTitle (name):\n",
    "    title = re.findall(r', \\w+\\s?\\w*\\.', name)[0][2:-1]\n",
    "    if (title in ['Don','Lady','the Countess', 'Jonkheer']):\n",
    "        return 'Lady'\n",
    "    elif (title in ['Capt', 'Don', 'Major', 'Sir']):\n",
    "        return 'Sir'\n",
    "    \n",
    "    return title "
   ]
  },
  {
   "cell_type": "code",
   "execution_count": 134,
   "metadata": {
    "collapsed": false
   },
   "outputs": [],
   "source": [
    "train[\"Title\"] = train['Name'].apply(lambda x: extractTitle(x))\n",
    "test[\"Title\"] = test['Name'].apply(lambda x: extractTitle(x))\n",
    "\n",
    "titles = train[\"Title\"].unique()\n",
    "\n",
    "titleColumns = []\n",
    "for title in titles:\n",
    "    train[\"Title\" + title] = train[\"Title\"].apply(lambda x: int(x == title))\n",
    "    test[\"Title\" + title] = test[\"Title\"].apply(lambda x: int(x == title))\n",
    "    titleColumns.append(\"Title\" + title)"
   ]
  },
  {
   "cell_type": "markdown",
   "metadata": {},
   "source": [
    "Now, using the title, class, sex, sibsp, parch, and fare data, we run a regression to predict the age. "
   ]
  },
  {
   "cell_type": "code",
   "execution_count": 135,
   "metadata": {
    "collapsed": false
   },
   "outputs": [
    {
     "name": "stderr",
     "output_type": "stream",
     "text": [
      "/Users/Sophia/anaconda/lib/python2.7/site-packages/ipykernel/__main__.py:15: SettingWithCopyWarning: \n",
      "A value is trying to be set on a copy of a slice from a DataFrame.\n",
      "Try using .loc[row_indexer,col_indexer] = value instead\n",
      "\n",
      "See the caveats in the documentation: http://pandas.pydata.org/pandas-docs/stable/indexing.html#indexing-view-versus-copy\n",
      "/Users/Sophia/anaconda/lib/python2.7/site-packages/ipykernel/__main__.py:17: SettingWithCopyWarning: \n",
      "A value is trying to be set on a copy of a slice from a DataFrame.\n",
      "Try using .loc[row_indexer,col_indexer] = value instead\n",
      "\n",
      "See the caveats in the documentation: http://pandas.pydata.org/pandas-docs/stable/indexing.html#indexing-view-versus-copy\n"
     ]
    }
   ],
   "source": [
    "#First, we want to select all of the non-null training values so that we can run our regression\n",
    "ageFilledTrain = train.dropna(subset = titleColumns + ['Age', 'Pclass', 'Sex', 'SibSp', 'Parch', 'Fare'])\n",
    "ageXTrain = ageFilledTrain[titleColumns + ['Pclass', 'Sex', 'SibSp', 'Parch', 'Fare']]\n",
    "ageYTrain = ageFilledTrain['Age']\n",
    "\n",
    "#Also extract the filled test data (we'll use this for later)\n",
    "ageFilledTest = test.dropna(subset = titleColumns + ['Age', 'Pclass', 'Sex', 'SibSp', 'Parch', 'Fare'])\n",
    "\n",
    "#Now, we fit a linear regression\n",
    "regr = LinearRegression()\n",
    "regr.fit(ageX, ageY)\n",
    "\n",
    "#Now, we want to predict the missing ages\n",
    "nullAgesTrain = train[train['Age'].isnull()]\n",
    "nullAgesTrain['Age'] = regr.predict(nullAgesTrain[titleColumns + ['Pclass', 'Sex', 'SibSp', 'Parch', 'Fare']])\n",
    "nullAgesTest = test[test['Age'].isnull()]\n",
    "nullAgesTest['Age'] = regr.predict(nullAgesTest[titleColumns + ['Pclass', 'Sex', 'SibSp', 'Parch', 'Fare']])\n",
    "\n",
    "\n",
    "#Now, we want to add these back in to the dataframe. (I'm sure that there is a better way to do this!)\n",
    "#I am not proud of concatening these back together... How do I do this better?\n",
    "train = pd.concat([ageFilledTrain, nullAgesTrain])\n",
    "test = pd.concat([ageFilledTest, nullAgesTest])"
   ]
  },
  {
   "cell_type": "markdown",
   "metadata": {},
   "source": [
    "Now, to continue cleaning the data and recoding fields, we also add a family size and a mother/child  field."
   ]
  },
  {
   "cell_type": "code",
   "execution_count": 147,
   "metadata": {
    "collapsed": false
   },
   "outputs": [],
   "source": [
    "#Family size\n",
    "train['FamilySize'] = train['SibSp'] + train['Parch'] + 1\n",
    "test['FamilySize'] = test['SibSp'] + test['Parch'] + 1\n",
    "\n",
    "#Adding a mother flag\n",
    "train['Mother'] = ((train['Sex'] == 1) \n",
    "                   & (train['Parch'] > 0) \n",
    "                   & (train['Age'] > 18)\n",
    "                   & (train['Title'] != 'Miss'))\n",
    "test['Mother'] = ((test['Sex'] == 1) \n",
    "                   & (test['Parch'] > 0) \n",
    "                   & (test['Age'] > 18)\n",
    "                   & (test['Title'] != 'Miss'))\n",
    "\n",
    "#Adding a child flag\n",
    "train['Child'] = ((train['Parch'] > 0) \n",
    "                   & (train['Age'] < 18))\n",
    "\n",
    "test['Child'] = ((test['Parch'] > 0) \n",
    "                   & (test['Age'] < 18))"
   ]
  },
  {
   "cell_type": "markdown",
   "metadata": {},
   "source": [
    "This model also created a family ID field. Add that here, later!"
   ]
  },
  {
   "cell_type": "markdown",
   "metadata": {},
   "source": [
    "Also, do deck from cabin number"
   ]
  },
  {
   "cell_type": "markdown",
   "metadata": {},
   "source": [
    "Also, do the cabin position from the cabin number"
   ]
  },
  {
   "cell_type": "markdown",
   "metadata": {},
   "source": [
    "Now, we need to split our train data into a testing/training set. "
   ]
  },
  {
   "cell_type": "code",
   "execution_count": 159,
   "metadata": {
    "collapsed": false
   },
   "outputs": [],
   "source": [
    "useColumns = ['Pclass', 'Sex', 'Age', 'SibSp', 'Parch', 'Fare'] + titleColumns\n",
    "X_train, X_test, y_train, y_test = train_test_split(train[useColumns], train['Survived'], test_size = 0.5)"
   ]
  },
  {
   "cell_type": "markdown",
   "metadata": {},
   "source": [
    "Now, we want to create our random forest model. "
   ]
  },
  {
   "cell_type": "code",
   "execution_count": 189,
   "metadata": {
    "collapsed": false
   },
   "outputs": [
    {
     "name": "stdout",
     "output_type": "stream",
     "text": [
      "0.822869955157\n"
     ]
    }
   ],
   "source": [
    "forestModel = RandomForestRegressor()\n",
    "forestModel.fit(X_train, y_train)\n",
    "\n",
    "y_predict = forestModel.predict(X_test)\n",
    "y_predict[y_predict > .5] = 1\n",
    "y_predict[y_predict <=.5] = 0\n",
    "\n",
    "accuracy = sum([y_predict[i] == y_test.tolist()[i] for i in range(len(y_predict))])/float(len(y_predict))\n",
    "print accuracy"
   ]
  },
  {
   "cell_type": "code",
   "execution_count": 184,
   "metadata": {
    "collapsed": false
   },
   "outputs": [
    {
     "data": {
      "text/plain": [
       "array([ 0.,  1.,  0.,  1.,  0.,  1.,  1.,  0.,  0.,  1.,  1.,  0.,  0.,\n",
       "        0.,  1.,  0.,  0.,  0.,  1.,  0.,  0.,  0.,  1.,  1.,  0.,  0.,\n",
       "        0.,  1.,  1.,  0.,  1.,  0.,  0.,  0.,  1.,  0.,  1.,  1.,  0.,\n",
       "        0.,  0.,  0.,  0.,  0.,  0.,  0.,  0.,  1.,  0.,  1.,  0.,  0.,\n",
       "        0.,  0.,  0.,  0.,  0.,  1.,  1.,  0.,  1.,  1.,  1.,  0.,  1.,\n",
       "        0.,  0.,  0.,  0.,  1.,  0.,  1.,  1.,  0.,  0.,  0.,  1.,  0.,\n",
       "        0.,  0.,  0.,  0.,  0.,  0.,  1.,  1.,  0.,  0.,  0.,  1.,  0.,\n",
       "        0.,  0.,  0.,  0.,  0.,  1.,  1.,  0.,  1.,  0.,  0.,  0.,  0.,\n",
       "        0.,  1.,  1.,  1.,  0.,  0.,  0.,  0.,  0.,  1.,  1.,  0.,  0.,\n",
       "        0.,  0.,  0.,  1.,  0.,  1.,  1.,  0.,  1.,  0.,  0.,  0.,  0.,\n",
       "        0.,  0.,  0.,  1.,  1.,  0.,  0.,  0.,  0.,  1.,  0.,  1.,  1.,\n",
       "        1.,  1.,  1.,  0.,  1.,  0.,  1.,  0.,  0.,  1.,  0.,  0.,  0.,\n",
       "        1.,  1.,  0.,  0.,  0.,  0.,  1.,  0.,  0.,  0.,  1.,  0.,  0.,\n",
       "        0.,  0.,  0.,  0.,  1.,  0.,  0.,  0.,  1.,  0.,  0.,  0.,  1.,\n",
       "        0.,  0.,  0.,  1.,  1.,  0.,  0.,  0.,  0.,  0.,  1.,  0.,  0.,\n",
       "        1.,  0.,  0.,  0.,  1.,  0.,  0.,  0.,  0.,  0.,  1.,  1.,  0.,\n",
       "        1.,  1.,  0.,  0.,  0.,  1.,  0.,  1.,  1.,  0.,  0.,  0.,  0.,\n",
       "        0.,  0.,  0.,  1.,  0.,  0.,  0.,  0.,  0.,  1.,  1.,  0.,  0.,\n",
       "        0.,  1.,  1.,  1.,  0.,  0.,  1.,  1.,  0.,  0.,  0.,  0.,  0.,\n",
       "        1.,  1.,  0.,  1.,  0.,  1.,  1.,  0.,  1.,  1.,  1.,  0.,  1.,\n",
       "        0.,  1.,  0.,  0.,  1.,  0.,  1.,  1.,  0.,  1.,  0.,  1.,  1.,\n",
       "        1.,  1.,  0.,  0.,  1.,  0.,  0.,  0.,  0.,  0.,  1.,  0.,  0.,\n",
       "        0.,  0.,  0.,  1.,  0.,  0.,  1.,  0.,  1.,  1.,  1.,  1.,  0.,\n",
       "        0.,  1.,  0.,  0.,  1.,  0.,  1.,  1.,  1.,  0.,  0.,  1.,  0.,\n",
       "        0.,  1.,  0.,  0.,  1.,  0.,  0.,  1.,  0.,  1.,  0.,  0.,  1.,\n",
       "        0.,  0.,  0.,  0.,  0.,  1.,  0.,  1.,  0.,  0.,  0.,  1.,  1.,\n",
       "        1.,  0.,  1.,  0.,  0.,  0.,  1.,  1.,  0.,  0.,  1.,  0.,  1.,\n",
       "        0.,  1.,  1.,  0.,  1.,  0.,  1.,  0.,  0.,  1.,  1.,  0.,  0.,\n",
       "        1.,  1.,  0.,  0.,  0.,  1.,  0.,  0.,  0.,  1.,  0.,  1.,  0.,\n",
       "        0.,  0.,  0.,  0.,  1.,  1.,  0.,  0.,  1.,  1.,  0.,  0.,  0.,\n",
       "        1.,  0.,  1.,  0.,  1.,  1.,  0.,  0.,  0.,  0.,  1.,  0.,  0.,\n",
       "        0.,  0.,  0.,  1.,  0.,  0.,  0.,  0.,  0.,  0.,  1.,  1.,  1.,\n",
       "        0.,  0.,  0.,  1.,  0.,  0.,  0.,  1.,  0.,  0.,  1.,  1.,  1.,\n",
       "        1.,  0.,  1.,  0.,  0.,  1.,  0.,  1.,  1.,  0.,  0.,  0.,  0.,\n",
       "        0.,  0.,  0.,  0.])"
      ]
     },
     "execution_count": 184,
     "metadata": {},
     "output_type": "execute_result"
    }
   ],
   "source": [
    "y_predict"
   ]
  },
  {
   "cell_type": "markdown",
   "metadata": {},
   "source": [
    "Hey, that's not so bad! I'm going to use this to generate another submission to Kaggle"
   ]
  },
  {
   "cell_type": "code",
   "execution_count": 205,
   "metadata": {
    "collapsed": true
   },
   "outputs": [],
   "source": [
    "submissionModel = RandomForestRegressor()\n",
    "submissionModel.fit(train[useColumns], train['Survived'])\n",
    "\n",
    "predictions = submissionModel.predict(test[useColumns])\n",
    "\n",
    "predictions[predictions > .5] = 1\n",
    "predictions[predictions <=.5] = 0\n",
    "\n",
    "# Create a new dataframe with only the columns Kaggle wants from the dataset.\n",
    "submission = pd.DataFrame({\n",
    "        \"PassengerId\": test[\"PassengerId\"],\n",
    "        \"Survived\": predictions.astype(int)\n",
    "    })\n",
    "\n",
    "submission.to_csv(\"kaggle_it2_0.csv\", index=False)"
   ]
  },
  {
   "cell_type": "markdown",
   "metadata": {},
   "source": [
    "With this model, I scored a 0.75120, which is exactly the same as my best score previously."
   ]
  },
  {
   "cell_type": "code",
   "execution_count": null,
   "metadata": {
    "collapsed": true
   },
   "outputs": [],
   "source": []
  },
  {
   "cell_type": "code",
   "execution_count": null,
   "metadata": {
    "collapsed": true
   },
   "outputs": [],
   "source": []
  }
 ],
 "metadata": {
  "kernelspec": {
   "display_name": "Python 2",
   "language": "python",
   "name": "python2"
  },
  "language_info": {
   "codemirror_mode": {
    "name": "ipython",
    "version": 2
   },
   "file_extension": ".py",
   "mimetype": "text/x-python",
   "name": "python",
   "nbconvert_exporter": "python",
   "pygments_lexer": "ipython2",
   "version": "2.7.11"
  }
 },
 "nbformat": 4,
 "nbformat_minor": 0
}

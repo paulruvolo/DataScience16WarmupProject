{
 "cells": [
  {
   "cell_type": "markdown",
   "metadata": {},
   "source": [
    "# Model Iteration 2\n",
    "In this notebook I explore several model types as inspired by resources which will be cited throughout."
   ]
  },
  {
   "cell_type": "markdown",
   "metadata": {},
   "source": [
    "In my first iteration, I was able to achieve a score of just over 78%. In this first run of trying different model types, I complete the DataQuest tutorial on random forests. "
   ]
  },
  {
   "cell_type": "code",
   "execution_count": 342,
   "metadata": {
    "collapsed": false
   },
   "outputs": [],
   "source": [
    "#First, let's upload everything, get the data sets to \n",
    "#some level of functionality\n",
    "\n",
    "import pandas as pd\n",
    "from pandas import Series,DataFrame\n",
    "import numpy as np\n",
    "import matplotlib.pyplot as plt\n",
    "from sklearn import cross_validation\n",
    "from sklearn.ensemble import RandomForestClassifier\n",
    "from sklearn.feature_selection import SelectKBest, f_classif\n",
    "from sklearn.ensemble import GradientBoostingClassifier\n",
    "from sklearn.linear_model import LogisticRegression\n",
    "import re\n",
    "import operator\n",
    "%matplotlib inline\n",
    "\n",
    "titanic_master = pd.read_csv('data/train.csv', dtype={'Age':np.float64})\n",
    "test_data = pd.read_csv('data/test.csv', dtype={'Age':np.float64})\n",
    "\n",
    "#now for filling in the missing data in the two datasets\n",
    "titanic_master['Age'] = titanic_master['Age'].fillna(titanic_master['Age'].median())\n",
    "titanic_master['Fare'] = titanic_master['Fare'].fillna(titanic_master['Fare'].median())\n",
    "titanic_master.loc[titanic_master['Sex'] == 'male', 'Sex'] = 0\n",
    "titanic_master.loc[titanic_master['Sex'] == 'female', 'Sex'] = 1\n",
    "titanic_master['Embarked'] = titanic_master['Embarked'].fillna('S')\n",
    "titanic_master.loc[titanic_master['Embarked'] == 'S', 'Embarked'] = 0\n",
    "titanic_master.loc[titanic_master['Embarked'] == 'C', 'Embarked'] = 1\n",
    "titanic_master.loc[titanic_master['Embarked'] == 'Q', 'Embarked'] = 2\n",
    "\n",
    "test_data['Age'] = test_data['Age'].fillna(titanic_master['Age'].median())\n",
    "test_data['Fare'] = test_data['Fare'].fillna(titanic_master['Fare'].median())\n",
    "test_data.loc[test_data['Sex'] == 'male', 'Sex'] = 0\n",
    "test_data.loc[test_data['Sex'] == 'female', 'Sex'] = 1\n",
    "test_data['Embarked'] = test_data['Embarked'].fillna('S')\n",
    "test_data.loc[test_data['Embarked'] == 'S', 'Embarked'] = 0\n",
    "test_data.loc[test_data['Embarked'] == 'C', 'Embarked'] = 1\n",
    "test_data.loc[test_data['Embarked'] == 'Q', 'Embarked'] = 2"
   ]
  },
  {
   "cell_type": "code",
   "execution_count": 343,
   "metadata": {
    "collapsed": false
   },
   "outputs": [
    {
     "name": "stdout",
     "output_type": "stream",
     "text": [
      "0.820426487093\n"
     ]
    }
   ],
   "source": [
    "#now, to get into the suggestions from Dataquest...\n",
    "predictors = ['Pclass','Sex', 'Age', 'SibSp', 'Parch', 'Fare', 'Embarked']\n",
    "alg = RandomForestClassifier(random_state=1, n_estimators=150, min_samples_split=4, min_samples_leaf=2)\n",
    "kf = cross_validation.KFold(titanic_master.shape[0], n_folds=3, random_state=1)\n",
    "scores = cross_validation.cross_val_score(alg,titanic_master[predictors],titanic_master['Survived'],cv=3)\n",
    "print scores.mean()          "
   ]
  },
  {
   "cell_type": "code",
   "execution_count": 344,
   "metadata": {
    "collapsed": false
   },
   "outputs": [],
   "source": [
    "#I'm going to pause here and actually just apply this to the test data and submit this.\n",
    "alg.fit(titanic_master[predictors], titanic_master['Survived'])\n",
    "predictions = alg.predict_proba(test_data[predictors].astype(float))[:,1]\n",
    "\n",
    "predictions[predictions <= 0.5] = 0\n",
    "predictions[predictions > 0.5] = 1\n",
    "\n",
    "final_pred = []\n",
    "for element in predictions:\n",
    "    final_pred.append(int(element))\n",
    "\n",
    "submission = pd.DataFrame({'PassengerId': test_data['PassengerId'], 'Survived':final_pred})\n",
    "submission.to_csv('kaggle_v2_randforest.csv', index=False)"
   ]
  },
  {
   "cell_type": "markdown",
   "metadata": {},
   "source": [
    "This random forest implementation achieves a score of 0.76077, which is not as compelling as I was able to achieve in my first model iteration. Thinking further ahead (and as suggested by the Dataquest tutorial as well as [this blog](http://elenacuoco.altervista.org/blog/archives/1195) I create different data types to explore."
   ]
  },
  {
   "cell_type": "code",
   "execution_count": 345,
   "metadata": {
    "collapsed": false
   },
   "outputs": [],
   "source": [
    "#family size\n",
    "titanic_master['Famsize'] = titanic_master['SibSp'] + titanic_master['Parch']\n",
    "test_data['Famsize'] = test_data['SibSp'] + test_data['Parch']\n",
    "\n",
    "#family size, including the individual\n",
    "titanic_master['Count_Individ'] = titanic_master['Famsize'] + 1\n",
    "test_data['Count_Individ'] = test_data['Famsize'] + 1\n",
    "\n",
    "#name length \n",
    "titanic_master['Namelen'] = titanic_master['Name'].apply(lambda x: len(x))\n",
    "test_data['Namelen'] = test_data['Name'].apply(lambda x: len(x))\n",
    "\n",
    "#age groups\n",
    "titanic_master['Agecat']= titanic_master['Age']\n",
    "titanic_master.loc[(titanic_master.Age <= 10), 'Agecat'] = 1 #child\n",
    "titanic_master.loc[(titanic_master.Age > 60), 'Agecat'] = 4 #senior\n",
    "titanic_master.loc[(titanic_master.Age > 10) & (titanic_master.Age <= 30), 'Agecat'] = 2 #young adult\n",
    "titanic_master.loc[(titanic_master.Age > 30) & (titanic_master.Age <= 60), 'Agecat'] = 3 #adult\n",
    "test_data['Agecat']= test_data['Age']\n",
    "test_data.loc[(test_data.Age <= 10), 'Agecat'] = 1\n",
    "test_data.loc[(test_data.Age > 60), 'Agecat'] = 4\n",
    "test_data.loc[(test_data.Age > 10) & (test_data.Age <= 30), 'Agecat'] = 2\n",
    "test_data.loc[(test_data.Age > 30) & (test_data.Age <= 60), 'Agecat'] = 3\n",
    "\n",
    "#cabin indicator (as seen in blog post)\n",
    "titanic_master.loc[titanic_master.Cabin.isnull()==True,'Cabin'] = 0.5\n",
    "titanic_master.loc[titanic_master.Cabin.isnull()==False,'Cabin'] = 1.\n",
    "test_data.loc[test_data.Cabin.isnull()==True,'Cabin'] = 0.5\n",
    "test_data.loc[test_data.Cabin.isnull()==False,'Cabin'] = 1.\n",
    "\n",
    "#wealth and sex\n",
    "titanic_master['ClassSex'] = titanic_master['Sex'] * titanic_master['Pclass']\n",
    "test_data['ClassSex'] = test_data['Sex'] * titanic_master['Pclass']\n",
    "\n",
    "#age and sex\n",
    "titanic_master['AgeSex'] = titanic_master['Age'] * titanic_master['Sex']\n",
    "test_data['AgeSex'] = test_data['Age'] * test_data['Sex']"
   ]
  },
  {
   "cell_type": "code",
   "execution_count": 346,
   "metadata": {
    "collapsed": false
   },
   "outputs": [],
   "source": [
    "#title\n",
    "def get_title(name):\n",
    "    title_search = re.search('([A-Za-z]+)\\.', name)\n",
    "    if title_search:\n",
    "        return title_search.group(1)\n",
    "    return \"\"\n",
    "\n",
    "def replace_titles(x):\n",
    "    title = x['Title']\n",
    "    if title in ['Mr', 'don', 'Major', 'Capt', 'Jonkheer', 'Rev', 'Col']:\n",
    "        return 'Mr'\n",
    "    elif title in ['Master']:\n",
    "        return 'Master'\n",
    "    elif title in ['Mlle', 'Ms', 'Miss', 'Lady']:\n",
    "        return 'Miss'\n",
    "    elif title in ['Countess', 'Mme', 'Mrs', 'Dona']:\n",
    "        return 'Mrs'\n",
    "    elif title == 'Dr':\n",
    "        if x['Sex'] == 0:\n",
    "            return 'Mr'\n",
    "        else:\n",
    "            return 'Mrs'\n",
    "    elif title == '':\n",
    "        if x['Sex'] == 0:\n",
    "            return 'Master'\n",
    "        else:\n",
    "            return 'Miss'\n",
    "    else:\n",
    "        return title\n",
    "\n",
    "\n",
    "titles = titanic_master['Name'].apply(get_title)\n",
    "title_mapping = {'Mr': 1, 'Miss': 2, 'Mrs': 3, 'Master': 4, 'Dr': 5, 'Rev': 6, 'Major': 7, 'Col': 7, 'Mlle': 8, 'Mme': 8, 'Don': 9, 'Lady': 10, 'Countess': 10, 'Jonkheer': 10, 'Sir': 9, 'Capt': 7, 'Ms': 2, 'Dona':10}\n",
    "for k,v in title_mapping.items():\n",
    "    titles[titles == k] = v\n",
    "titanic_master['Title'] = titles    \n",
    "titanic_master['Title'] = titanic_master.apply(replace_titles, axis=1)\n",
    "\n",
    "test_titles = test_data['Name'].apply(get_title)\n",
    "title_mapping = {'Mr': 1, 'Miss': 2, 'Mrs': 3, 'Master': 4, 'Dr': 5, 'Rev': 6, 'Major': 7, 'Col': 7, 'Mlle': 8, 'Mme': 8, 'Don': 9, 'Lady': 10, 'Countess': 10, 'Jonkheer': 10, 'Sir': 9, 'Capt': 7, 'Ms': 2, 'Dona':10}\n",
    "for k,v in title_mapping.items():\n",
    "    test_titles[test_titles == k] = v\n",
    "test_data['Title'] = test_titles\n",
    "test_data['Title'] = test_data.apply(replace_titles, axis=1)"
   ]
  },
  {
   "cell_type": "code",
   "execution_count": 347,
   "metadata": {
    "collapsed": false,
    "scrolled": true
   },
   "outputs": [],
   "source": [
    "#family id\n",
    "family_id_mapping = {}\n",
    "def get_family_id(row):\n",
    "    last_name = row['Name'].split(',')[0]\n",
    "    family_id = '{0}{1}'.format(last_name, row['Famsize'])\n",
    "    if family_id not in family_id_mapping:\n",
    "        if len(family_id_mapping) == 0:\n",
    "            current_id = 1\n",
    "        else:\n",
    "            current_id = (max(family_id_mapping.items(), key=operator.itemgetter(1))[1] + 1)\n",
    "        family_id_mapping[family_id]=current_id\n",
    "    return family_id_mapping[family_id]\n",
    "\n",
    "family_ids = titanic_master.apply(get_family_id, axis=1)\n",
    "family_ids[titanic_master['Famsize'] < 3] = -1\n",
    "titanic_master['Familyid'] = family_ids\n",
    "\n",
    "family_ids = test_data.apply(get_family_id, axis=1)\n",
    "family_ids[test_data['Famsize'] < 3] = -1\n",
    "test_data['Familyid'] = family_ids"
   ]
  },
  {
   "cell_type": "markdown",
   "metadata": {},
   "source": [
    "Now that a bunch of indicators have been added, I want to look over the signal coming from these indicators, and start thinking about the relationships between the strong indicators. I use the approach described in the Dataquest tutorial in order to achieve this. I then apply the model to the testing data in order to see whether there was improvement using this method."
   ]
  },
  {
   "cell_type": "code",
   "execution_count": 348,
   "metadata": {
    "collapsed": false
   },
   "outputs": [
    {
     "data": {
      "image/png": "[encoded data removed]",
      "text/plain": [
       "<matplotlib.figure.Figure at 0x7fbb54a10c10>"
      ]
     },
     "metadata": {},
     "output_type": "display_data"
    },
    {
     "name": "stdout",
     "output_type": "stream",
     "text": [
      "0.81593714927\n"
     ]
    }
   ],
   "source": [
    "predictors = ['Pclass','Sex', 'Age', 'SibSp', 'Parch', 'Fare', 'Embarked','Famsize', 'Title', 'Familyid', 'Count_Individ', 'AgeSex', 'ClassSex', 'Agecat', 'Cabin']\n",
    "selector = SelectKBest(f_classif, k=5)\n",
    "selector.fit(titanic_master[predictors], titanic_master['Survived'])\n",
    "scores = -np.log10(selector.pvalues_)\n",
    "\n",
    "plt.bar(range(len(predictors)), scores)\n",
    "plt.xticks(range(len(predictors)), predictors, rotation='vertical')\n",
    "plt.show()\n",
    "\n",
    "best_predictors = ['Pclass', 'Sex', 'Fare', 'Title', 'AgeSex', 'ClassSex']\n",
    "alg = RandomForestClassifier(random_state=1, n_estimators=150, min_samples_split=8, min_samples_leaf=4)\n",
    "kf = cross_validation.KFold(titanic_master.shape[0], n_folds=3, random_state=1)\n",
    "scores = cross_validation.cross_val_score(alg,titanic_master[best_predictors],titanic_master['Survived'],cv=3)\n",
    "print scores.mean() \n",
    "\n",
    "#apply to testing data, use best_predictors\n",
    "alg.fit(titanic_master[best_predictors], titanic_master['Survived'])\n",
    "predictions = alg.predict_proba(test_data[best_predictors].astype(float))[:,1]\n",
    "\n",
    "predictions[predictions <= 0.5] = 0\n",
    "predictions[predictions > 0.5] = 1\n",
    "\n",
    "final_pred = []\n",
    "for element in predictions:\n",
    "    final_pred.append(int(element))\n",
    "\n",
    "submission = pd.DataFrame({'PassengerId': test_data['PassengerId'], 'Survived':final_pred})\n",
    "submission.to_csv('kaggle_v2_randforestimproved.csv', index=False)"
   ]
  },
  {
   "cell_type": "markdown",
   "metadata": {},
   "source": [
    "Even with this improved random forest, my score still sits at 0.76077. This implies to me that I've distilled some of the fundamental signal using this method, but there is a chance that this method has overfit the data by some amount. Taking a cue from the Dataquest model, I next explore ensembling and gradient boosting in order to pull together different methodologies in order to get a stronger correlation."
   ]
  },
  {
   "cell_type": "code",
   "execution_count": 349,
   "metadata": {
    "collapsed": false
   },
   "outputs": [
    {
     "name": "stdout",
     "output_type": "stream",
     "text": [
      "0.817059483726\n"
     ]
    },
    {
     "name": "stderr",
     "output_type": "stream",
     "text": [
      "/home/vpreston/anaconda2/lib/python2.7/site-packages/ipykernel/__main__.py:19: FutureWarning: in the future, boolean array-likes will be handled as a boolean array index\n"
     ]
    }
   ],
   "source": [
    "#I'll try gradient boosting and a logistic regression in this first pass, with all of the predictors\n",
    "algos = [[GradientBoostingClassifier(random_state=1, n_estimators=25, max_depth=3), predictors],[LogisticRegression(random_state=1), predictors]]\n",
    "kf = cross_validation.KFold(titanic_master.shape[0], n_folds=3, random_state=1)\n",
    "\n",
    "preds = []\n",
    "for train, test in kf:\n",
    "    train_tar = titanic_master['Survived'].iloc[train]\n",
    "    full_test_pred = []\n",
    "    for alg, predictors in algos:\n",
    "        alg.fit(titanic_master[predictors].iloc[train,:], train_tar)\n",
    "        test_preds = alg.predict_proba(titanic_master[predictors].iloc[test,:].astype(float))[:,1]\n",
    "        full_test_pred.append(test_preds)\n",
    "    test_preds = (full_test_pred[0]*2 + full_test_pred[1])/3 #this weighs gradient heavily equally\n",
    "    test_preds[test_preds <= 0.5] = 0\n",
    "    test_preds[test_preds >0.5] = 1\n",
    "    preds.append(test_preds)\n",
    "\n",
    "predictions = np.concatenate(preds, axis=0)\n",
    "accuracy = sum(predictions[predictions == titanic_master['Survived']])/len(predictions)\n",
    "print accuracy"
   ]
  },
  {
   "cell_type": "code",
   "execution_count": 350,
   "metadata": {
    "collapsed": false
   },
   "outputs": [],
   "source": [
    "#for a final submission\n",
    "final_predictions = []\n",
    "for alg, predictors in algos:\n",
    "    alg.fit(titanic_master[predictors], titanic_master['Survived'])\n",
    "    predictions = alg.predict_proba(test_data[predictors].astype(float))[:,1]\n",
    "    final_predictions.append(predictions)\n",
    "\n",
    "predictions = (final_predictions[0] * 2 + final_predictions[1]) / 3\n",
    "predictions[predictions <= 0.5] = 0\n",
    "predictions[predictions > 0.5] = 1\n",
    "\n",
    "final_pred = []\n",
    "for element in predictions:\n",
    "    final_pred.append(int(element))\n",
    "\n",
    "submission = pd.DataFrame({'PassengerId': test_data['PassengerId'], 'Survived':final_pred})\n",
    "submission.to_csv('kaggle_v2_ensemble1.csv', index=False)"
   ]
  },
  {
   "cell_type": "markdown",
   "metadata": {},
   "source": [
    "This ensemble brought my score up to 0.78947, which is only a small amount better than my first iteration model score using a simple formula. I now explore improvements to this model, starting with the predictors (namely, narrowing them down to known quantities with signal)."
   ]
  },
  {
   "cell_type": "code",
   "execution_count": 351,
   "metadata": {
    "collapsed": false
   },
   "outputs": [
    {
     "name": "stdout",
     "output_type": "stream",
     "text": [
      "0.822671156004\n"
     ]
    },
    {
     "name": "stderr",
     "output_type": "stream",
     "text": [
      "/home/vpreston/anaconda2/lib/python2.7/site-packages/ipykernel/__main__.py:21: FutureWarning: in the future, boolean array-likes will be handled as a boolean array index\n"
     ]
    }
   ],
   "source": [
    "grad_pred = ['Pclass','Sex', 'Age', 'Fare', 'Embarked', 'Title', 'Familyid', 'Famsize', 'ClassSex', 'AgeSex']\n",
    "log_pred = ['Pclass', 'Sex', 'Fare', 'Title', 'Famsize', 'Age', 'Embarked', 'ClassSex', 'AgeSex']\n",
    "\n",
    "algos = [[GradientBoostingClassifier(random_state=1, n_estimators=25, max_depth=3), grad_pred],[LogisticRegression(random_state=1), log_pred]]\n",
    "kf = cross_validation.KFold(titanic_master.shape[0], n_folds=3, random_state=1)\n",
    "\n",
    "preds = []\n",
    "for train, test in kf:\n",
    "    train_tar = titanic_master['Survived'].iloc[train]\n",
    "    full_test_pred = []\n",
    "    for alg, predictors in algos:\n",
    "        alg.fit(titanic_master[predictors].iloc[train,:], train_tar)\n",
    "        test_preds = alg.predict_proba(titanic_master[predictors].iloc[test,:].astype(float))[:,1]\n",
    "        full_test_pred.append(test_preds)\n",
    "    test_preds = (full_test_pred[0] * 3 + full_test_pred[1]) / 4\n",
    "    test_preds[test_preds <= 0.5] = 0\n",
    "    test_preds[test_preds >0.5] = 1\n",
    "    preds.append(test_preds)\n",
    "\n",
    "predictions = np.concatenate(preds, axis=0)\n",
    "accuracy = sum(predictions[predictions == titanic_master['Survived']])/len(predictions)\n",
    "print accuracy\n",
    "\n",
    "#for test data\n",
    "final_predictions = []\n",
    "for alg, predictors in algos:\n",
    "    alg.fit(titanic_master[predictors], titanic_master['Survived'])\n",
    "    predictions = alg.predict_proba(test_data[predictors].astype(float))[:,1]\n",
    "    final_predictions.append(predictions)\n",
    "\n",
    "predictions = (final_predictions[0] * 3 + final_predictions[1]) / 4\n",
    "predictions[predictions <= 0.5] = 0\n",
    "predictions[predictions > 0.5] = 1\n",
    "\n",
    "final_pred = []\n",
    "for element in predictions:\n",
    "    final_pred.append(int(element))\n",
    "\n",
    "submission = pd.DataFrame({'PassengerId': test_data['PassengerId'], 'Survived':final_pred})\n",
    "submission.to_csv('kaggle_v2_ensembleimproved.csv', index=False)"
   ]
  },
  {
   "cell_type": "markdown",
   "metadata": {},
   "source": [
    "This indicator adjustment actually got me to the \"advertised\" accuracy of 0.79904 from the Dataquest experience. Now, I want to explore the relationships I had begun to explore in my first exploration, but now with more advanced categories of data. I draw upon inspiration from the blog post mentioned earlier, however the formula is my own and is based upon the data mining technique covered in ThinkStats."
   ]
  },
  {
   "cell_type": "code",
   "execution_count": 352,
   "metadata": {
    "collapsed": false
   },
   "outputs": [
    {
     "name": "stdout",
     "output_type": "stream",
     "text": [
      "Optimization terminated successfully.\n",
      "         Current function value: 0.409502\n",
      "         Iterations 8\n",
      "0.83164983165\n"
     ]
    },
    {
     "name": "stderr",
     "output_type": "stream",
     "text": [
      "/home/vpreston/anaconda2/lib/python2.7/site-packages/ipykernel/__main__.py:11: FutureWarning: in the future, boolean array-likes will be handled as a boolean array index\n"
     ]
    }
   ],
   "source": [
    "import statsmodels.formula.api as smf\n",
    "\n",
    "formula = 'Survived~ClassSex*Age+Fare+Title+Famsize*Pclass+Embarked*Agecat'\n",
    "model = smf.logit(formula, data=titanic_master)\n",
    "results = model.fit()\n",
    "\n",
    "#assess our training\n",
    "pred = results.predict()\n",
    "pred[pred >= 0.5] = 1\n",
    "pred[pred < 0.5] = 0\n",
    "accuracy = sum(pred[pred == titanic_master['Survived']] / len(pred))\n",
    "print accuracy\n",
    "\n",
    "new = test_data\n",
    "predicts = results.predict(new)\n",
    "\n",
    "predicts[predicts > 0.5] = int(1)\n",
    "predicts[predicts <= 0.5] = int(0)\n",
    "\n",
    "final_pred = []\n",
    "for element in predicts:\n",
    "    final_pred.append(int(element))\n",
    "\n",
    "#now make a submission dataframe for Kaggle\n",
    "submission = pd.DataFrame({'PassengerId': test_data['PassengerId'], 'Survived':final_pred})\n",
    "# print submission\n",
    "submission.to_csv('kaggle_v2_formula.csv', index=False)"
   ]
  },
  {
   "cell_type": "markdown",
   "metadata": {},
   "source": [
    "This self-defined model achieved me a score just slightly less than that of the dataquest version, 0.79900. I'm excited that I've seemed to hone in on some of the most powerful relationships using intuition and the \"goodness\" of the predictors score as achieved earlier. I'm going to define new categories based on some of these powerful relationships and then apply them to an ensembled approach which has given me my best scores yet. I'm also going to make some fare and family relationship joint indicators, as inspired by the blog I've mentioned, as well as try out some decision tree work inspired by [this](https://www.kaggle.com/c/titanic/forums/t/6821/titanic-getting-started-with-r-full-guide-to-0-81340) resource Paul cited in the class."
   ]
  },
  {
   "cell_type": "code",
   "execution_count": 353,
   "metadata": {
    "collapsed": false
   },
   "outputs": [
    {
     "name": "stdout",
     "output_type": "stream",
     "text": [
      "0.811447811448\n"
     ]
    },
    {
     "name": "stderr",
     "output_type": "stream",
     "text": [
      "/home/vpreston/anaconda2/lib/python2.7/site-packages/ipykernel/__main__.py:18: FutureWarning: in the future, boolean array-likes will be handled as a boolean array index\n"
     ]
    }
   ],
   "source": [
    "from sklearn.tree import DecisionTreeRegressor\n",
    "\n",
    "predictors = best_predictors\n",
    "\n",
    "regr = DecisionTreeRegressor(max_depth=len(predictors))\n",
    "kf = cross_validation.KFold(titanic_master.shape[0], n_folds=3, random_state=1)\n",
    "\n",
    "preds = []\n",
    "for train, test in kf:\n",
    "    train_tar = titanic_master['Survived'].iloc[train]\n",
    "    regr.fit(titanic_master[predictors].iloc[train,:], train_tar)\n",
    "    test_preds = regr.predict(titanic_master[predictors].iloc[test,:].astype(float))\n",
    "    test_preds[test_preds >= 0.5] = 1\n",
    "    test_preds[test_preds < 0.5] = 0\n",
    "    preds.append(test_preds[0:])\n",
    "\n",
    "predictions = np.concatenate(preds,axis=0)\n",
    "accuracy = sum(predictions[predictions == titanic_master['Survived']])/len(predictions)\n",
    "print accuracy\n",
    "\n",
    "#on test data\n",
    "regr.fit(titanic_master[predictors], titanic_master['Survived'])\n",
    "predicts = regr.predict(test_data[predictors])\n",
    "\n",
    "predicts[predicts > 0.5] = int(1)\n",
    "predicts[predicts <= 0.5] = int(0)\n",
    "\n",
    "final_pred = []\n",
    "for element in predicts:\n",
    "    final_pred.append(int(element))\n",
    "\n",
    "#now make a submission dataframe for Kaggle\n",
    "submission = pd.DataFrame({'PassengerId': test_data['PassengerId'], 'Survived':final_pred})\n",
    "\n",
    "# print submission\n",
    "submission.to_csv('kaggle_v2_decisiontree.csv', index=False)"
   ]
  },
  {
   "cell_type": "markdown",
   "metadata": {
    "collapsed": true
   },
   "source": [
    "This decision tree implementation recieved a scores of 0.77512. Not bad, but also not an improvement over the Dataquest model. The blog further suggests applying a random forest to the decision trees. Instead, I'm going to try an ensemble of a gradient, logistic, and decision tree in my last attempt at betterng the Dataquest model. This is largely driven by the idea that the decision tree gives some flexibility in a model which performs relatively well."
   ]
  },
  {
   "cell_type": "code",
   "execution_count": 354,
   "metadata": {
    "collapsed": false
   },
   "outputs": [
    {
     "name": "stdout",
     "output_type": "stream",
     "text": [
      "0.827160493827\n"
     ]
    },
    {
     "name": "stderr",
     "output_type": "stream",
     "text": [
      "/home/vpreston/anaconda2/lib/python2.7/site-packages/ipykernel/__main__.py:21: FutureWarning: in the future, boolean array-likes will be handled as a boolean array index\n"
     ]
    }
   ],
   "source": [
    "dtr_pred = best_predictors\n",
    "grad_pred = ['Pclass','Sex', 'Age', 'Fare', 'Embarked', 'Title', 'Familyid', 'Famsize', 'ClassSex', 'AgeSex']\n",
    "log_pred = ['Pclass', 'Sex', 'Fare', 'Title', 'Famsize', 'Age', 'Embarked', 'ClassSex', 'AgeSex']\n",
    "algos = [[DecisionTreeRegressor(max_depth=3),dtr_pred], [GradientBoostingClassifier(random_state=1, n_estimators=25, max_depth=3), grad_pred],[LogisticRegression(random_state=1), log_pred]]\n",
    "kf = cross_validation.KFold(titanic_master.shape[0], n_folds=3, random_state=1)\n",
    "\n",
    "preds = []\n",
    "for train, test in kf:\n",
    "    train_tar = titanic_master['Survived'].iloc[train]\n",
    "    full_test_pred = []\n",
    "    for alg, predictors in algos:\n",
    "        alg.fit(titanic_master[predictors].iloc[train,:], train_tar)\n",
    "        test_preds = alg.predict(titanic_master[predictors].iloc[test,:].astype(float))\n",
    "        full_test_pred.append(test_preds)\n",
    "    test_preds = (full_test_pred[0]*2 + full_test_pred[1] + full_test_pred[2]) / 4\n",
    "    test_preds[test_preds <= 0.5] = 0\n",
    "    test_preds[test_preds >0.5] = 1\n",
    "    preds.append(test_preds)\n",
    "\n",
    "predictions = np.concatenate(preds,axis=0)\n",
    "accuracy = sum(predictions[predictions == titanic_master['Survived']])/len(predictions)\n",
    "print accuracy\n",
    "\n",
    "#on test data\n",
    "final_predictions = []\n",
    "for alg, predictors in algos:\n",
    "    alg.fit(titanic_master[predictors], titanic_master['Survived'])\n",
    "    predictions = alg.predict(test_data[predictors].astype(float))\n",
    "    final_predictions.append(predictions)\n",
    "\n",
    "predictions = (final_predictions[0] * 2 + final_predictions[1] + final_predictions[2]) / 4\n",
    "predictions[predictions <= 0.5] = 0\n",
    "predictions[predictions > 0.5] = 1\n",
    "\n",
    "final_pred = []\n",
    "for element in predictions:\n",
    "    final_pred.append(int(element))\n",
    "\n",
    "#now make a submission dataframe for Kaggle\n",
    "submission = pd.DataFrame({'PassengerId': test_data['PassengerId'], 'Survived':final_pred})\n",
    "\n",
    "# print submission\n",
    "submission.to_csv('kaggle_v2_decisiontreeensemble.csv', index=False)"
   ]
  },
  {
   "cell_type": "markdown",
   "metadata": {},
   "source": [
    "This final submission bought me a score of 0.80383. This implies to me that the addition of the decision tree to my previous ensemble was valuable. My theory on this matter is that the decision tree offers some amount of implicit weighting to individuals based upon the factors given. This both allows for more variance in the accuracy (which I consider to be good in this case because at about 0.799 it is really only a few values which need to be flipped) and also means that overfitting to the data can be easy. To avoid the overfitting data, I aimed to keep my fold accuracy at about the point which seems to yield the best results on the testing data (just over 80%). More than this number seems to get me data that matches well with the training but poorly with the testing, whereas less gets me...less. "
   ]
  },
  {
   "cell_type": "markdown",
   "metadata": {},
   "source": [
    "At the conclusion of this warmup project, I feel that I've had a chance to practice and read more on data cleaning, data mining, formulaic approaches to fitting data, and built-in data fitting packages in scikitlearn. I am also left with a few questions: how does one detext overfitting? is there a way to predict testing accuracy without crossreferncing the answers? what ethodical approach to data scientists typically take to finding and fitting a model to data? how much of data science is being clever (not necessarily being analytical)? "
   ]
  },
  {
   "cell_type": "markdown",
   "metadata": {},
   "source": [
    "I enjoyed in this last iteration the ability to explore the concept of ensembles more, and to apply a new technique listed in a class resource on decision trees. The resource expounded on the concept using a programming language R which I abstracted using scikitlearn. I would be curious to see how similar the underlying algorithms are for these two fitting techniques. "
   ]
  },
  {
   "cell_type": "code",
   "execution_count": null,
   "metadata": {
    "collapsed": true
   },
   "outputs": [],
   "source": []
  }
 ],
 "metadata": {
  "kernelspec": {
   "display_name": "Python 2",
   "language": "python",
   "name": "python2"
  },
  "language_info": {
   "codemirror_mode": {
    "name": "ipython",
    "version": 2
   },
   "file_extension": ".py",
   "mimetype": "text/x-python",
   "name": "python",
   "nbconvert_exporter": "python",
   "pygments_lexer": "ipython2",
   "version": "2.7.11"
  }
 },
 "nbformat": 4,
 "nbformat_minor": 0
}

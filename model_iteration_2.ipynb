{
 "cells": [
  {
   "cell_type": "markdown",
   "metadata": {},
   "source": [
    "# Source of Inspiration\n",
    "For this iteration of my project, I was intersted in different ways that others pre-processed the data. My intuition in the first iteration of the project didn't actually lead to an improvement of performance for my model. As a result, I wanted to look at what other people had done in terms of pre-processing the data and adding new features. \n",
    "\n",
    "One script that I found in the Kaggle scripts section was this [Random Forest Script](https://www.kaggle.com/amoyakd/titanic/randomforest-method-v1-0). In this script, the author does quite a bit of pre-processing. This script, however, was written in R, so I'm going to try to replicate this pre-processing work in Python. \n",
    "\n",
    "Although they used random forrests in this script to do the learning, I wanted to use linear regression. The reason that I'm doing this is that I didn't want to use a model that I didn't quite understand -- this wouldn't tell me if my score improvements (or declines) were a result of the model or the new features I created. "
   ]
  },
  {
   "cell_type": "code",
   "execution_count": 32,
   "metadata": {
    "collapsed": true
   },
   "outputs": [],
   "source": [
    "% matplotlib inline\n",
    "import pandas as pd\n",
    "import numpy as np\n",
    "import matplotlib.pyplot as plt\n",
    "import re\n",
    "from sklearn.linear_model import LinearRegression\n",
    "from sklearn.cross_validation import train_test_split"
   ]
  },
  {
   "cell_type": "markdown",
   "metadata": {},
   "source": [
    "First, they read in the data."
   ]
  },
  {
   "cell_type": "code",
   "execution_count": 2,
   "metadata": {
    "collapsed": false
   },
   "outputs": [],
   "source": [
    "train = pd.read_csv('./Data/train.csv')\n",
    "test = pd.read_csv('./Data/test.csv')"
   ]
  },
  {
   "cell_type": "markdown",
   "metadata": {},
   "source": [
    "Next is cleaning the data. In this particular script, the author mostly does something very similar to what we did in the previous tutorial for the sex and embarked and fare columns."
   ]
  },
  {
   "cell_type": "code",
   "execution_count": 3,
   "metadata": {
    "collapsed": false
   },
   "outputs": [],
   "source": [
    "# Recode Sex data\n",
    "test.loc[test[\"Sex\"] == \"male\", \"Sex\"] = 0\n",
    "test.loc[test[\"Sex\"] == \"female\", \"Sex\"] = 1\n",
    "train.loc[train[\"Sex\"] == \"male\", \"Sex\"] = 0\n",
    "train.loc[train[\"Sex\"] == \"female\", \"Sex\"] = 1\n",
    "\n",
    "# Recode Embarked Data\n",
    "test[\"Embarked\"] = test[\"Embarked\"].fillna(\"S\")\n",
    "test.loc[test[\"Embarked\"] == \"S\", \"Embarked\"] = 0\n",
    "test.loc[test[\"Embarked\"] == \"C\", \"Embarked\"] = 1\n",
    "test.loc[test[\"Embarked\"] == \"Q\", \"Embarked\"] = 2\n",
    "\n",
    "train[\"Embarked\"] = train[\"Embarked\"].fillna(\"S\")\n",
    "train.loc[train[\"Embarked\"] == \"S\", \"Embarked\"] = 0\n",
    "train.loc[train[\"Embarked\"] == \"C\", \"Embarked\"] = 1\n",
    "train.loc[train[\"Embarked\"] == \"Q\", \"Embarked\"] = 2\n",
    "\n",
    "#Replace one missing fare data\n",
    "test[\"Fare\"] = test[\"Fare\"].fillna(train[\"Fare\"].median())\n"
   ]
  },
  {
   "cell_type": "markdown",
   "metadata": {},
   "source": [
    "Now, in this script, we also extract the title from the name of the person. "
   ]
  },
  {
   "cell_type": "code",
   "execution_count": 4,
   "metadata": {
    "collapsed": true
   },
   "outputs": [],
   "source": [
    "def extractTitle (name):\n",
    "    title = re.findall(r', \\w+\\s?\\w*\\.', name)[0][2:-1]\n",
    "    if (title in ['Don','Lady','the Countess', 'Jonkheer']):\n",
    "        return 'Lady'\n",
    "    elif (title in ['Capt', 'Don', 'Major', 'Sir']):\n",
    "        return 'Sir'\n",
    "    \n",
    "    return title "
   ]
  },
  {
   "cell_type": "code",
   "execution_count": 5,
   "metadata": {
    "collapsed": false
   },
   "outputs": [],
   "source": [
    "train[\"Title\"] = train['Name'].apply(lambda x: extractTitle(x))\n",
    "test[\"Title\"] = test['Name'].apply(lambda x: extractTitle(x))\n",
    "\n",
    "titles = train[\"Title\"].unique()\n",
    "\n",
    "titleColumns = []\n",
    "for title in titles:\n",
    "    train[\"Title\" + title] = train[\"Title\"].apply(lambda x: int(x == title))\n",
    "    test[\"Title\" + title] = test[\"Title\"].apply(lambda x: int(x == title))\n",
    "    titleColumns.append(\"Title\" + title)"
   ]
  },
  {
   "cell_type": "markdown",
   "metadata": {},
   "source": [
    "Now, using the title, class, sex, sibsp, parch, and fare data, we run a regression to predict the age. I thought that this was a particularly interesting method of filling in missing age values. We had briefly talked about other methods for filling in missing age values other than just adding in the median value for age. I was really curious about other methods, so I'm very interested in trying this method. \n",
    "\n",
    "In this particular script, they used both the training and the testing data to fit a regression for age. I wasn't sure about whether it's okay to use the testing set to also fit a regression for age. Is that okay? To be safe, I just used the training set. "
   ]
  },
  {
   "cell_type": "code",
   "execution_count": 6,
   "metadata": {
    "collapsed": false
   },
   "outputs": [
    {
     "name": "stderr",
     "output_type": "stream",
     "text": [
      "/Users/Sophia/anaconda/lib/python2.7/site-packages/ipykernel/__main__.py:15: SettingWithCopyWarning: \n",
      "A value is trying to be set on a copy of a slice from a DataFrame.\n",
      "Try using .loc[row_indexer,col_indexer] = value instead\n",
      "\n",
      "See the caveats in the documentation: http://pandas.pydata.org/pandas-docs/stable/indexing.html#indexing-view-versus-copy\n",
      "/Users/Sophia/anaconda/lib/python2.7/site-packages/ipykernel/__main__.py:17: SettingWithCopyWarning: \n",
      "A value is trying to be set on a copy of a slice from a DataFrame.\n",
      "Try using .loc[row_indexer,col_indexer] = value instead\n",
      "\n",
      "See the caveats in the documentation: http://pandas.pydata.org/pandas-docs/stable/indexing.html#indexing-view-versus-copy\n"
     ]
    }
   ],
   "source": [
    "#First, we want to select all of the non-null training values so that we can run our regression\n",
    "ageFilledTrain = train.dropna(subset = titleColumns + ['Age', 'Pclass', 'Sex', 'SibSp', 'Parch', 'Fare'])\n",
    "ageXTrain = ageFilledTrain[titleColumns + ['Pclass', 'Sex', 'SibSp', 'Parch', 'Fare']]\n",
    "ageYTrain = ageFilledTrain['Age']\n",
    "\n",
    "#Also extract the filled test data (we'll use this for later)\n",
    "ageFilledTest = test.dropna(subset = titleColumns + ['Age', 'Pclass', 'Sex', 'SibSp', 'Parch', 'Fare'])\n",
    "\n",
    "#Now, we fit a linear regression\n",
    "regr = LinearRegression()\n",
    "regr.fit(ageXTrain, ageYTrain)\n",
    "\n",
    "#Now, we want to predict the missing ages\n",
    "nullAgesTrain = train[train['Age'].isnull()]\n",
    "nullAgesTrain['Age'] = regr.predict(nullAgesTrain[titleColumns + ['Pclass', 'Sex', 'SibSp', 'Parch', 'Fare']])\n",
    "nullAgesTest = test[test['Age'].isnull()]\n",
    "nullAgesTest['Age'] = regr.predict(nullAgesTest[titleColumns + ['Pclass', 'Sex', 'SibSp', 'Parch', 'Fare']])\n",
    "\n",
    "\n",
    "#Now, we want to add these back in to the dataframe. (I'm sure that there is a better way to do this!)\n",
    "#I am not proud of concatening these back together... How do I do this better?\n",
    "train = pd.concat([ageFilledTrain, nullAgesTrain])\n",
    "test = pd.concat([ageFilledTest, nullAgesTest])"
   ]
  },
  {
   "cell_type": "markdown",
   "metadata": {},
   "source": [
    "Now, to continue cleaning the data and recoding fields, we also add a family size and a mother/child  field."
   ]
  },
  {
   "cell_type": "code",
   "execution_count": 7,
   "metadata": {
    "collapsed": false
   },
   "outputs": [],
   "source": [
    "#Family size\n",
    "train['FamilySize'] = train['SibSp'] + train['Parch'] + 1\n",
    "test['FamilySize'] = test['SibSp'] + test['Parch'] + 1\n",
    "\n",
    "#Adding a mother flag\n",
    "train['Mother'] = ((train['Sex'] == 1) \n",
    "                   & (train['Parch'] > 0) \n",
    "                   & (train['Age'] > 18)\n",
    "                   & (train['Title'] != 'Miss'))\n",
    "test['Mother'] = ((test['Sex'] == 1) \n",
    "                   & (test['Parch'] > 0) \n",
    "                   & (test['Age'] > 18)\n",
    "                   & (test['Title'] != 'Miss'))\n",
    "\n",
    "#Adding a child flag\n",
    "train['Child'] = ((train['Parch'] > 0) \n",
    "                   & (train['Age'] < 18))\n",
    "\n",
    "test['Child'] = ((test['Parch'] > 0) \n",
    "                   & (test['Age'] < 18))"
   ]
  },
  {
   "cell_type": "markdown",
   "metadata": {},
   "source": [
    "This model also created a family ID field. I wasn't sure about this -- it seems like this field would divide the data up too much, and it doesn't really make sense to have the id encoded as something linear. Also, I wonder how much of this information can be encoded within the fields that have the number of family memebers on board. As a result, I didn't replicate this field in my iteration two. \n",
    "\n",
    "Next, this author also extracted the cabin number as well as deck from the data. I will do that as well. "
   ]
  },
  {
   "cell_type": "code",
   "execution_count": 8,
   "metadata": {
    "collapsed": true
   },
   "outputs": [],
   "source": [
    "def recodeCabinToDeck(cabin):\n",
    "    if isinstance(cabin, str):\n",
    "        if (cabin[0] == 'A'):\n",
    "            return 1\n",
    "        elif (cabin[0] == 'B'):\n",
    "            return 2\n",
    "        elif (cabin[0] == 'C'):\n",
    "            return 3\n",
    "        elif (cabin[0] == 'D'):\n",
    "            return 4\n",
    "        elif (cabin[0] == 'E'):\n",
    "            return 5\n",
    "        elif (cabin[0] == 'F'):\n",
    "            return 6\n",
    "        elif (cabin[0] == 'G'):\n",
    "            return 7\n",
    "        else:\n",
    "            return 0\n",
    "    else:\n",
    "        return 0\n",
    "            \n",
    "\n",
    "def extractCabinNumber(cabin):\n",
    "    if isinstance(cabin, str):\n",
    "        cabinNum = re.findall(r'\\d+',cabin)\n",
    "        if len(cabinNum) > 0:\n",
    "            return int(cabinNum[0])\n",
    "        else:\n",
    "            return 0\n",
    "    else:\n",
    "        return 0\n",
    "    "
   ]
  },
  {
   "cell_type": "code",
   "execution_count": 9,
   "metadata": {
    "collapsed": false
   },
   "outputs": [],
   "source": [
    "train['DeckRecode'] = train.Cabin.apply(lambda x: recodeCabinToDeck(x))\n",
    "test['DeckRecode'] = test.Cabin.apply(lambda x: recodeCabinToDeck(x))\n",
    "\n",
    "train['CabinNumber'] = train.Cabin.apply(lambda x: extractCabinNumber(x))\n",
    "test['CabinNumber'] = test.Cabin.apply(lambda x: extractCabinNumber(x))"
   ]
  },
  {
   "cell_type": "markdown",
   "metadata": {},
   "source": [
    "Now, we need to split our train data into a testing/training set. "
   ]
  },
  {
   "cell_type": "code",
   "execution_count": 42,
   "metadata": {
    "collapsed": false
   },
   "outputs": [],
   "source": [
    "useColumns = ['Pclass', 'Sex', 'Age', 'SibSp', 'Parch', 'Fare', 'Mother', 'Child', \n",
    "              'FamilySize', 'DeckRecode', 'CabinNumber', 'Embarked'] + titleColumns\n",
    "X_train, X_test, y_train, y_test = train_test_split(train[useColumns], train['Survived'], test_size = 0.5)"
   ]
  },
  {
   "cell_type": "markdown",
   "metadata": {},
   "source": [
    "Now, we want to create our linear regression. "
   ]
  },
  {
   "cell_type": "code",
   "execution_count": 43,
   "metadata": {
    "collapsed": false
   },
   "outputs": [
    {
     "name": "stdout",
     "output_type": "stream",
     "text": [
      "0.854260089686\n"
     ]
    }
   ],
   "source": [
    "model = LinearRegression()\n",
    "model.fit(X_train, y_train)\n",
    "\n",
    "y_predict = model.predict(X_test)\n",
    "y_predict[y_predict > .5] = 1\n",
    "y_predict[y_predict <=.5] = 0\n",
    "\n",
    "accuracy = sum([y_predict[i] == y_test.tolist()[i] for i in range(len(y_predict))])/float(len(y_predict))\n",
    "print accuracy"
   ]
  },
  {
   "cell_type": "markdown",
   "metadata": {},
   "source": [
    "Hey, that's not so bad! I'm going to use this to generate another submission to Kaggle"
   ]
  },
  {
   "cell_type": "code",
   "execution_count": 44,
   "metadata": {
    "collapsed": true
   },
   "outputs": [],
   "source": [
    "submissionModel = LinearRegression()\n",
    "submissionModel.fit(train[useColumns], train['Survived'])\n",
    "\n",
    "predictions = submissionModel.predict(test[useColumns])\n",
    "\n",
    "predictions[predictions > .5] = 1\n",
    "predictions[predictions <=.5] = 0\n",
    "\n",
    "# Create a new dataframe with only the columns Kaggle wants from the dataset.\n",
    "submission = pd.DataFrame({\n",
    "        \"PassengerId\": test[\"PassengerId\"],\n",
    "        \"Survived\": predictions.astype(int)\n",
    "    })\n",
    "\n",
    "submission.to_csv(\"kaggle_it2_0.csv\", index=False)"
   ]
  },
  {
   "cell_type": "markdown",
   "metadata": {},
   "source": [
    "With this model, I scored a 0.78947, which improved my best score! Yay!"
   ]
  },
  {
   "cell_type": "markdown",
   "metadata": {},
   "source": [
    "# What actually happened? Why is this model better?\n",
    "So, it does seem that this method of adding new features is an improvment. Now, I'm curious -- which features are the most predicive, and which just serve to confuse the model further?\n",
    "\n",
    "First, let's just plot the weights of the features"
   ]
  },
  {
   "cell_type": "code",
   "execution_count": 45,
   "metadata": {
    "collapsed": false
   },
   "outputs": [
    {
     "data": {
      "text/plain": [
       "(-1, 25)"
      ]
     },
     "execution_count": 45,
     "metadata": {},
     "output_type": "execute_result"
    },
    {
     "data": {
      "image/png": "[encoded data removed]",
      "text/plain": [
       "<matplotlib.figure.Figure at 0x10ed53350>"
      ]
     },
     "metadata": {},
     "output_type": "display_data"
    }
   ],
   "source": [
    "coefs = submissionModel.coef_\n",
    "plt.figure(figsize=(20,10))\n",
    "plt.bar([x - 0.5 for x in range(len(coefs))],coefs, width = 1)\n",
    "plt.xticks(range(len(coefs)), useColumns, rotation='vertical')\n",
    "plt.xlim(-1, len(coefs) + 1)"
   ]
  },
  {
   "cell_type": "markdown",
   "metadata": {},
   "source": [
    "Interesting... So, it seems like sex is, unsurprisingly, thge biggest predictor of survival. But, after this, I was surprised by the weights that the model learned. I was expecting age to receive a fairly high magnitude weight, and it does not appear that that actually happened. \n",
    "\n",
    "In fact, it appears that the 'Title Master' column is the next best predictor of survival. I looked more into the title itself, and according to [wikipedia](https://en.wikipedia.org/wiki/Master_(form_of_address)), \"Master is an English honorific for boys and young men.\". So, it appears that the model didn't pick up on age, but did pick up that boys and young men were more likely to survive. Similarly, it appears that younger girls (who have the title \"Miss\") were less likely to survive. It is interesting to me that this model appears to pick up age (and to some extent class) more in the titles than it does in the actual passenger age and class columns. This is interesting to me because I wasn't actually expecting to have the titles really affect the model that much. \n",
    "\n",
    "It appears, however, that the deck recode and the cabin number don't have that much affect. "
   ]
  },
  {
   "cell_type": "markdown",
   "metadata": {},
   "source": [
    "# Future Work\n",
    "\n",
    "If I were going to improve this model, I'd go through and pull out only the most informative features, and then run the model again, seeing if this improved the score. The idea is that we likely have some features that are distracting the model so that we should use only the most informative features for this model, maybe by selecting only the features that are above some threshold. \n",
    "\n",
    "I also would be curious whether implementing the family id field actually boosts performance. \n",
    "\n",
    "One thing that I've wondered about for datasets like this: does it ever really make sense to split the dataset and learn two separate models. For example, I imagine that you might be able to learn a separate model, with different weights for women and men. Is this ever beneficial, or is it always better to have as much data as possible?\n",
    "\n",
    "I'm also curious: how much does using a different kind of model (logistic vs linear regresssion vs random forrest) affect the score? Are there certain models that are particularly good at solving certain problems. (Why?) So, another thing tha"
   ]
  },
  {
   "cell_type": "code",
   "execution_count": null,
   "metadata": {
    "collapsed": true
   },
   "outputs": [],
   "source": []
  }
 ],
 "metadata": {
  "kernelspec": {
   "display_name": "Python 2",
   "language": "python",
   "name": "python2"
  },
  "language_info": {
   "codemirror_mode": {
    "name": "ipython",
    "version": 2
   },
   "file_extension": ".py",
   "mimetype": "text/x-python",
   "name": "python",
   "nbconvert_exporter": "python",
   "pygments_lexer": "ipython2",
   "version": "2.7.11"
  }
 },
 "nbformat": 4,
 "nbformat_minor": 0
}

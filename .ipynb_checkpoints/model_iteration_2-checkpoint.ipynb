{
 "cells": [
  {
   "cell_type": "markdown",
   "metadata": {},
   "source": [
    "# Model Iteration 2\n",
    "Building off the work we have accomplished previously, we are now looking to improve our score and see how to better analyze the data in our dataset. I really like the inclusion of family from previous work, so I am going to continue with that idea. The main steps that we plan on taking are shown below:"
   ]
  },
  {
   "cell_type": "markdown",
   "metadata": {},
   "source": [
    "I am initially going to start with Kaggle's own method to improving a submission (https://www.dataquest.io/mission/75/improving-your-submission), then will proceed from there."
   ]
  },
  {
   "cell_type": "code",
   "execution_count": 13,
   "metadata": {
    "collapsed": true
   },
   "outputs": [],
   "source": [
    "# importing modules and data\n",
    "import pandas\n",
    "from sklearn.linear_model import LinearRegression\n",
    "from sklearn.cross_validation import KFold\n",
    "import numpy as np\n",
    "from sklearn import cross_validation\n",
    "from sklearn.ensemble import RandomForestClassifier\n",
    "from sklearn.linear_model import LogisticRegression\n",
    "import re\n",
    "import operator\n",
    "from sklearn.feature_selection import SelectKBest, f_classif\n",
    "\n",
    "titanic = pandas.read_csv('train.csv')"
   ]
  },
  {
   "cell_type": "code",
   "execution_count": 14,
   "metadata": {
    "collapsed": false
   },
   "outputs": [],
   "source": [
    "# fixing age column and standardizing sex and embarked column\n",
    "titanic[\"Age\"] = titanic[\"Age\"].fillna(titanic[\"Age\"].median())\n",
    "titanic.loc[titanic[\"Sex\"] == \"male\", \"Sex\"] = 0\n",
    "titanic.loc[titanic[\"Sex\"] == \"female\", \"Sex\"] = 1\n",
    "titanic[\"Embarked\"] = titanic[\"Embarked\"].fillna(\"S\")\n",
    "titanic.loc[titanic[\"Embarked\"] == \"S\", \"Embarked\"] = 0\n",
    "titanic.loc[titanic[\"Embarked\"] == \"C\", \"Embarked\"] = 1\n",
    "titanic.loc[titanic[\"Embarked\"] == \"Q\", \"Embarked\"] = 2\n",
    "titanic[\"Family\"] = titanic[\"SibSp\"] + titanic[\"Parch\"]"
   ]
  },
  {
   "cell_type": "code",
   "execution_count": 15,
   "metadata": {
    "collapsed": false
   },
   "outputs": [],
   "source": [
    "# interest in title length (and assumed wealth with such) (using dataquest tutorial)\n",
    "titanic[\"NameLength\"] = titanic[\"Name\"].apply(lambda x: len(x))\n",
    "\n",
    "def get_title(name):\n",
    "    title_search = re.search(' ([A-Za-z]+)\\.', name)\n",
    "    if title_search:\n",
    "        return title_search.group(1)\n",
    "    return \"\"\n",
    "\n",
    "titles = titanic[\"Name\"].apply(get_title)\n",
    "\n",
    "title_mapping = {\"Mr\": 1, \"Miss\": 2, \"Mrs\": 3, \"Master\": 4, \"Dr\": 5, \"Rev\": 6, \"Major\": 7, \"Col\": 7, \"Mlle\": 8, \"Mme\": 8, \"Don\": 9, \"Lady\": 10, \"Countess\": 10, \"Jonkheer\": 10, \"Sir\": 9, \"Capt\": 7, \"Ms\": 2}\n",
    "for k,v in title_mapping.items():\n",
    "    titles[titles == k] = v\n",
    "\n",
    "titanic[\"Title\"] = titles"
   ]
  },
  {
   "cell_type": "code",
   "execution_count": 16,
   "metadata": {
    "collapsed": false
   },
   "outputs": [
    {
     "name": "stdout",
     "output_type": "stream",
     "text": [
      "0.838383838384\n"
     ]
    }
   ],
   "source": [
    "# linear regression step\n",
    "predictors = [\"Pclass\", \"Sex\", \"Age\", \"Fare\", \n",
    "              \"Embarked\", \"Family\", \"Title\"]\n",
    "\n",
    "alg = RandomForestClassifier(random_state=1, n_estimators=150, \n",
    "                             min_samples_split=8, min_samples_leaf=4)\n",
    "\n",
    "scores = cross_validation.cross_val_score(alg, titanic[predictors], \n",
    "                                          titanic[\"Survived\"], cv=3)\n",
    "\n",
    "print scores.mean()"
   ]
  },
  {
   "cell_type": "markdown",
   "metadata": {},
   "source": [
    "Holy machine learning, Batman! We just jumped from 0.78 to a solid 0.83 from previous work by switching algorithm, along with checking titles."
   ]
  },
  {
   "cell_type": "code",
   "execution_count": 17,
   "metadata": {
    "collapsed": false
   },
   "outputs": [],
   "source": [
    "# code to compute information for submission\n",
    "titanic_test = pandas.read_csv(\"test.csv\")\n",
    "\n",
    "titanic_test[\"Age\"] = titanic_test[\"Age\"].fillna(titanic_test[\"Age\"].median())\n",
    "titanic_test[\"Fare\"] = titanic_test[\"Fare\"].fillna(titanic_test[\"Fare\"].median())\n",
    "titanic_test.loc[titanic_test[\"Sex\"] == \"male\", \"Sex\"] = 0\n",
    "titanic_test.loc[titanic_test[\"Sex\"] == \"female\", \"Sex\"] = 1\n",
    "titanic_test[\"Embarked\"] = titanic_test[\"Embarked\"].fillna(\"S\")\n",
    "titanic_test.loc[titanic_test[\"Embarked\"] == \"S\", \"Embarked\"] = 0\n",
    "titanic_test.loc[titanic_test[\"Embarked\"] == \"C\", \"Embarked\"] = 1\n",
    "titanic_test.loc[titanic_test[\"Embarked\"] == \"Q\", \"Embarked\"] = 2\n",
    "titanic_test[\"Family\"] = titanic_test[\"SibSp\"] + titanic_test[\"Parch\"]\n",
    "\n",
    "# getting info for titles (sort of involved)\n",
    "titles_test = titanic_test[\"Name\"].apply(get_title)\n",
    "title_mapping_test = {\"Mr\": 1, \"Miss\": 2, \"Mrs\": 3, \n",
    "                      \"Master\": 4, \"Dr\": 5, \"Rev\": 6, \n",
    "                      \"Major\": 7, \"Col\": 7, \"Mlle\": 8, \n",
    "                      \"Mme\": 8, \"Don\": 9, \"Lady\": 10, \n",
    "                      \"Countess\": 10, \"Jonkheer\": 10, \n",
    "                      \"Sir\": 9, \"Capt\": 7, \"Ms\": 2,\n",
    "                      \"Dona\": 10}\n",
    "for k,v in title_mapping_test.items():\n",
    "    titles_test[titles_test == k] = v\n",
    "    \n",
    "titanic_test[\"Title\"] = titles_test\n",
    "\n",
    "predictors = [\"Pclass\", \"Sex\", \"Age\", \"Fare\", \n",
    "              \"Embarked\", \"Family\", \"Title\"]\n",
    "\n",
    "alg = RandomForestClassifier(random_state=1, n_estimators=150, \n",
    "                             min_samples_split=8, min_samples_leaf=4)\n",
    "\n",
    "alg.fit(titanic[predictors], titanic[\"Survived\"])\n",
    "\n",
    "predictions = alg.predict(titanic_test[predictors])\n",
    "\n",
    "submission = pandas.DataFrame({\n",
    "        \"PassengerId\": titanic_test[\"PassengerId\"],\n",
    "        \"Survived\": predictions\n",
    "    })\n",
    "submission.to_csv(\"results_improved.csv\", index=False)"
   ]
  },
  {
   "cell_type": "markdown",
   "metadata": {},
   "source": [
    "Now I chose to ignore a couple things from the optimization tutorial, and change some things around. For one, having family name and linking the number of siblings/spouses and such does not provide an increase in score. Along with that, you might have notices our `predictions` containing `[\"Pclass\", \"Sex\", \"Age\", \"Fare\", \"Embarked\", \"Family\", \"Title\"]`. This does not include `SibSp` and `Parch`, as those values only brought the score down as well. "
   ]
  },
  {
   "cell_type": "markdown",
   "metadata": {},
   "source": [
    "With all this in mind, when I submitted the score to Kaggle I received a score of: `0.79426`. This seems to follow closely with the prediction, however being more rigorous with the `RandomForestClassifier` (going to `n_estimators=1000` or even higher) may help with results. Along with that, I did not modify how data scaled much. For example, taking the log of age could probably result in a more even score throughout, without skewing other results. Continuing forward, it might be best to start exploring other algorithms that may favor balancing data, and possibly stepping away from the `RandomForestClassifier` for `RandomForestRegressor` or other similar ensemble methods of sorting and classifying our data. On top of that, more interest might be needed in the relation of age, class, and other attributes of the dataset, without pruning data or generalizing mean results."
   ]
  }
 ],
 "metadata": {
  "kernelspec": {
   "display_name": "Python 2",
   "language": "python",
   "name": "python2"
  },
  "language_info": {
   "codemirror_mode": {
    "name": "ipython",
    "version": 2
   },
   "file_extension": ".py",
   "mimetype": "text/x-python",
   "name": "python",
   "nbconvert_exporter": "python",
   "pygments_lexer": "ipython2",
   "version": "2.7.11"
  }
 },
 "nbformat": 4,
 "nbformat_minor": 0
}

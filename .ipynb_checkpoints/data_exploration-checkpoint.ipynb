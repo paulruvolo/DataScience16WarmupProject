{
 "cells": [
  {
   "cell_type": "markdown",
   "metadata": {},
   "source": [
    "# Exploring the Kaggle Titanic Dataset"
   ]
  },
  {
   "cell_type": "markdown",
   "metadata": {},
   "source": [
    "For this exploration, I will explore various attributes of the titanic dataset provided by kaggle. The \"codebook\" for this dataset can be found [here](https://www.kaggle.com/c/titanic/data?train.csv)."
   ]
  },
  {
   "cell_type": "code",
   "execution_count": 190,
   "metadata": {
    "collapsed": false
   },
   "outputs": [
    {
     "name": "stdout",
     "output_type": "stream",
     "text": [
      "Data from the Titanic CSV\n",
      "<class 'pandas.core.frame.DataFrame'>\n",
      "Int64Index: 891 entries, 0 to 890\n",
      "Data columns (total 12 columns):\n",
      "PassengerId    891 non-null int64\n",
      "Survived       891 non-null int64\n",
      "Pclass         891 non-null int64\n",
      "Name           891 non-null object\n",
      "Sex            891 non-null object\n",
      "Age            714 non-null float64\n",
      "SibSp          891 non-null int64\n",
      "Parch          891 non-null int64\n",
      "Ticket         891 non-null object\n",
      "Fare           891 non-null float64\n",
      "Cabin          204 non-null object\n",
      "Embarked       889 non-null object\n",
      "dtypes: float64(2), int64(5), object(5)\n",
      "memory usage: 90.5+ KB\n",
      "----------------------\n",
      "Data from the Test CSV\n",
      "<class 'pandas.core.frame.DataFrame'>\n",
      "Int64Index: 418 entries, 0 to 417\n",
      "Data columns (total 11 columns):\n",
      "PassengerId    418 non-null int64\n",
      "Pclass         418 non-null int64\n",
      "Name           418 non-null object\n",
      "Sex            418 non-null object\n",
      "Age            332 non-null float64\n",
      "SibSp          418 non-null int64\n",
      "Parch          418 non-null int64\n",
      "Ticket         418 non-null object\n",
      "Fare           417 non-null float64\n",
      "Cabin          91 non-null object\n",
      "Embarked       418 non-null object\n",
      "dtypes: float64(2), int64(4), object(5)\n",
      "memory usage: 39.2+ KB\n"
     ]
    }
   ],
   "source": [
    "#getting setup for the exploration\n",
    "\n",
    "import pandas as pd\n",
    "from pandas import Series,DataFrame\n",
    "import numpy as np\n",
    "import matplotlib.pyplot as plt\n",
    "%matplotlib inline\n",
    "\n",
    "titanic_data = pd.read_csv('data/train.csv', dtype={'Age':np.float64})\n",
    "test_data = pd.read_csv('data/test.csv', dtype={'Age':np.float64})\n",
    "\n",
    "# titanic_data.head()\n",
    "# test_data.head()\n",
    "\n",
    "print 'Data from the Titanic CSV'\n",
    "titanic_data.info()\n",
    "print '----------------------'\n",
    "print 'Data from the Test CSV'\n",
    "test_data.info()"
   ]
  },
  {
   "cell_type": "markdown",
   "metadata": {},
   "source": [
    "The train (titanic) data set includes information about whether an individual survived. The test data set does not (this is the data set that we should be running prediction models on later). For the purposes of this exercise, I will focus primarily on analyzing the titanic data set to best compare survivability with a variety of factors."
   ]
  },
  {
   "cell_type": "code",
   "execution_count": 191,
   "metadata": {
    "collapsed": false
   },
   "outputs": [],
   "source": [
    "#for now, let's drop the two unknown embarkees in the dataset just \n",
    "#so that we only look at people that there is a clear boarding record of\n",
    "titanic_data = titanic_data.dropna(subset=['Embarked'])\n",
    "\n",
    "#now I'm going to create a dataset primarily for folks we know the\n",
    "#cabin status of\n",
    "cabin_data = titanic_data.dropna(subset=['Cabin'])\n",
    "\n",
    "#and now just a dataset primarily for folks we know the age of\n",
    "age_data = titanic_data.dropna(subset=['Age'])\n",
    "\n",
    "#and for cabin and age\n",
    "completely_known_persons = titanic_data.dropna(subset=['Age','Cabin'])\n",
    "    "
   ]
  },
  {
   "cell_type": "markdown",
   "metadata": {},
   "source": [
    "Let's explore! First I want to just look at the breakdown of numbers in each of the variables. Simple table outputs will suffice for this  step. PassengerID, Name, and Ticket will not be looked over because\n",
    "these are non-determinant of surviving (unless a bigger conspiracy is going down with people with the letter c in their names...)."
   ]
  },
  {
   "cell_type": "code",
   "execution_count": 192,
   "metadata": {
    "collapsed": false
   },
   "outputs": [
    {
     "name": "stdout",
     "output_type": "stream",
     "text": [
      "PClass\n",
      "Class Total\n",
      "First | 214\n",
      "Second | 184\n",
      "Third | 491\n",
      "Total | 889\n",
      "-----------\n",
      "Sex\n",
      "Sex Total\n",
      "Female | 312\n",
      "Male | 577\n",
      "Total | 889\n",
      "-----------\n",
      "Age\n",
      "Years Total\n",
      "Youth 0-10 | 64\n",
      "Teens 11-20 | 115\n",
      "Young Adults 21-30 | 230\n",
      "Adults 31-60 | 282\n",
      "Seniors 61-100 | 21\n",
      "Total | 712\n",
      "-----------\n",
      "SibSp\n",
      "Number Frequency\n",
      "0 | 606\n",
      "1 | 209\n",
      "2 or more | 74\n",
      "Total | 889\n",
      "-----------\n",
      "Parch\n",
      "Number Frequency\n",
      "0 | 676\n",
      "1 | 118\n",
      "2 | 80\n",
      "3 or more | 15\n",
      "Total | 889\n",
      "-----------\n",
      "Fare\n",
      "Price Frequency\n",
      "0-15 | 458\n",
      "16-35 | 235\n",
      "greater than 35 | 196\n",
      "Total | 889\n",
      "-----------\n",
      "Cabin\n",
      "Location Frequency\n",
      "A | 15\n",
      "B | 45\n",
      "C | 59\n",
      "D | 33\n",
      "E | 32\n",
      "F | 13\n",
      "G | 4\n",
      "T | 1\n",
      "Total | 202\n",
      "-----------\n",
      "Embarked From\n",
      "Location Frequency\n",
      "Cherbourg | 168\n",
      "Queenstown | 77\n",
      "Southampton | 644\n",
      "Total | 889\n"
     ]
    }
   ],
   "source": [
    "#I'll use the base dataset for this, titanic_data, to capture the most\n",
    "#number of folks represented in the dataset\n",
    "\n",
    "#pclass, where 1 = first class, 2 = second class, and 3 = third class\n",
    "print 'PClass'\n",
    "print 'Class','Total'\n",
    "print 'First |', len(titanic_data[titanic_data.Pclass == 1])\n",
    "print 'Second |', len(titanic_data[titanic_data.Pclass == 2])\n",
    "print 'Third |', len(titanic_data[titanic_data.Pclass == 3])\n",
    "print 'Total |', len(titanic_data)\n",
    "print '-----------'\n",
    "\n",
    "#sex, where they are noted in strings 'male' and 'female'\n",
    "print 'Sex'\n",
    "print 'Sex', 'Total'\n",
    "print 'Female |', len(titanic_data[titanic_data.Sex == 'female'])\n",
    "print 'Male |', len(titanic_data[titanic_data.Sex == 'male'])\n",
    "print 'Total |', len(titanic_data)\n",
    "print '-----------'\n",
    "\n",
    "#age, where they are noted in years, fractional ages imply \n",
    "#estimation, fractional if less than one year old\n",
    "print 'Age'\n",
    "print 'Years', 'Total'\n",
    "print 'Youth 0-10 |', len(age_data[(age_data.Age > 0) & (age_data.Age <= 10)])\n",
    "print 'Teens 11-20 |', len(age_data[(age_data.Age > 10) & (age_data.Age <= 20)])\n",
    "print 'Young Adults 21-30 |', len(age_data[(age_data.Age > 20) & (age_data.Age <= 30)])\n",
    "print 'Adults 31-60 |', len(age_data[(age_data.Age > 30) & (age_data.Age <= 60)])\n",
    "print 'Seniors 61-100 |', len(age_data[(age_data.Age > 60)])\n",
    "print 'Total |', len(age_data)\n",
    "print '-----------'\n",
    "\n",
    "#sibsp the number of sblings or spouses aboard\n",
    "print 'SibSp'\n",
    "print 'Number', 'Frequency'\n",
    "print '0 |', len(titanic_data[(titanic_data.SibSp == 0)])\n",
    "print '1 |', len(titanic_data[(titanic_data.SibSp == 1)])\n",
    "print '2 or more |', len(titanic_data[(titanic_data.SibSp > 1)])\n",
    "print 'Total |', len(titanic_data)\n",
    "print '-----------'\n",
    "\n",
    "#parch the number of parents or children aboard\n",
    "print 'Parch'\n",
    "print 'Number', 'Frequency'\n",
    "print '0 |', len(titanic_data[(titanic_data.Parch == 0)])\n",
    "print '1 |', len(titanic_data[(titanic_data.Parch == 1)])\n",
    "print '2 |', len(titanic_data[(titanic_data.Parch == 2)])\n",
    "print '3 or more |', len(titanic_data[(titanic_data.Parch > 2)])\n",
    "print 'Total |', len(titanic_data)\n",
    "print '-----------'\n",
    "\n",
    "#fare\n",
    "print 'Fare'\n",
    "print 'Price', 'Frequency'\n",
    "print '0-15 |', len(titanic_data[(titanic_data.Fare >= 0) & (titanic_data.Fare <= 15)])\n",
    "print '16-35 |', len(titanic_data[(titanic_data.Fare > 15) & (titanic_data.Fare <= 35)])\n",
    "print 'greater than 35 |', len(titanic_data[(titanic_data.Fare > 35)])\n",
    "print 'Total |', len(titanic_data)\n",
    "print '-----------'\n",
    "\n",
    "#cabin, these will be sorted by letter section\n",
    "print 'Cabin'\n",
    "print 'Location', 'Frequency'\n",
    "cabin = []\n",
    "for element in cabin_data.Cabin:\n",
    "    cabin.append(element[0])\n",
    "print 'A |', cabin.count('A')\n",
    "print 'B |', cabin.count('B')\n",
    "print 'C |', cabin.count('C')\n",
    "print 'D |', cabin.count('D')\n",
    "print 'E |', cabin.count('E')\n",
    "print 'F |', cabin.count('F')\n",
    "print 'G |', cabin.count('G')\n",
    "print 'T |', cabin.count('T')\n",
    "print 'Total |', len(cabin)\n",
    "print '-----------'\n",
    "\n",
    "#embarkation from one of three places Cherbourg, Queenstown, and Southampton\n",
    "print 'Embarked From'\n",
    "print 'Location', 'Frequency'\n",
    "print 'Cherbourg |', len(titanic_data[(titanic_data.Embarked == 'C')])\n",
    "print 'Queenstown |', len(titanic_data[(titanic_data.Embarked == 'Q')])\n",
    "print 'Southampton |', len(titanic_data[(titanic_data.Embarked == 'S')])\n",
    "print 'Total |', len(titanic_data)\n"
   ]
  },
  {
   "cell_type": "markdown",
   "metadata": {},
   "source": [
    "This gave me a good sense of the typical passenger: most were traveling alone, were in a lower class, male, embarked from Southampton, and were aged between 20 and 40 years. Now, let's compare these factors with those who survived. "
   ]
  },
  {
   "cell_type": "code",
   "execution_count": 193,
   "metadata": {
    "collapsed": false
   },
   "outputs": [
    {
     "name": "stdout",
     "output_type": "stream",
     "text": [
      "Female: 231 Male: 109\n",
      "First class: 134 Second class: 87 Third class: 119\n",
      "Youth: 38 Teens: 44 Young Adult: 84 Adult: 118 Senior: 4\n",
      "No SibSp: 208 1 SibSp 112 2 SibSp 13 More than 2 SibSp 7\n",
      "No Parch: 231 1 Parch 65 2 Parch 40 More than 2 Parch 4\n",
      "CabinA: 7 CabinB: 33 CabinC: 35 CabinD: 25 CabinE: 24 CabinF: 8 CabinG: 2 CabinT: 0\n",
      "Cherbourg: 93 Queenstown: 30 Southampton: 217\n",
      "0-15 fare: 114 16-35 fare: 105 Greater than 35 fare: 121\n"
     ]
    }
   ],
   "source": [
    "#I create variables for those that survived and those that did not\n",
    "survivors = titanic_data[(titanic_data.Survived == 1)]\n",
    "others = titanic_data[(titanic_data.Survived == 0)]\n",
    "\n",
    "surv_cabin = []\n",
    "survive_cabin = survivors.dropna(subset=['Cabin'])\n",
    "for element in survive_cabin.Cabin:\n",
    "    surv_cabin.append(element[0])\n",
    "\n",
    "#now, let's see who survived based on single features\n",
    "print 'Female:', len(survivors[survivors.Sex == 'female']), 'Male:', len(survivors[survivors.Sex == 'male'])\n",
    "print 'First class:', len(survivors[survivors.Pclass == 1]), 'Second class:', len(survivors[survivors.Pclass == 2]), 'Third class:', len(survivors[survivors.Pclass == 3])\n",
    "print 'Youth:', len(survivors[(survivors.Age <= 10)]), 'Teens:', len(survivors[(survivors.Age > 10) & (survivors.Age <= 20)]), 'Young Adult:', len(survivors[(survivors.Age > 20) & (survivors.Age <= 30)]), 'Adult:', len(survivors[(survivors.Age > 30) & (survivors.Age <= 60)]), 'Senior:', len(survivors[(survivors.Age > 60)])\n",
    "print 'No SibSp:', len(survivors[(survivors.SibSp == 0)]), '1 SibSp', len(survivors[survivors.SibSp == 1]), '2 SibSp', len(survivors[survivors.SibSp == 2]), 'More than 2 SibSp', len(survivors[survivors.SibSp >= 3])\n",
    "print 'No Parch:', len(survivors[(survivors.Parch == 0)]), '1 Parch', len(survivors[survivors.Parch == 1]), '2 Parch', len(survivors[survivors.Parch == 2]), 'More than 2 Parch', len(survivors[survivors.Parch >= 3])\n",
    "print 'CabinA:', surv_cabin.count('A'), 'CabinB:', surv_cabin.count('B'), 'CabinC:', surv_cabin.count('C'), 'CabinD:', surv_cabin.count('D'), 'CabinE:', surv_cabin.count('E'), 'CabinF:', surv_cabin.count('F'), 'CabinG:', surv_cabin.count('G'), 'CabinT:', surv_cabin.count('T')\n",
    "print 'Cherbourg:', len(survivors[(survivors.Embarked == 'C')]), 'Queenstown:', len(survivors[survivors.Embarked == 'Q']), 'Southampton:', len(survivors[survivors.Embarked == 'S'])\n",
    "print '0-15 fare:', len(survivors[(survivors.Fare >= 0) & (survivors.Fare <= 15)]), '16-35 fare:', len(survivors[(survivors.Fare > 15) & (survivors.Fare <= 35)]), 'Greater than 35 fare:', len(survivors[(survivors.Fare > 35)])"
   ]
  },
  {
   "cell_type": "markdown",
   "metadata": {},
   "source": [
    "This form is ok, but it doesn't tell us a lot about the proportions of people. To get a better sense of these who survived based on a single factor, I display them graphically."
   ]
  },
  {
   "cell_type": "code",
   "execution_count": 194,
   "metadata": {
    "collapsed": false
   },
   "outputs": [
    {
     "data": {
      "image/png": "[encoded data removed]",
      "text/plain": [
       "<matplotlib.figure.Figure at 0x7fc4745a9b10>"
      ]
     },
     "metadata": {},
     "output_type": "display_data"
    },
    {
     "data": {
      "image/png": "[encoded data removed]",
      "text/plain": [
       "<matplotlib.figure.Figure at 0x7fc4746498d0>"
      ]
     },
     "metadata": {},
     "output_type": "display_data"
    },
    {
     "data": {
      "image/png": "[encoded data removed]",
      "text/plain": [
       "<matplotlib.figure.Figure at 0x7fc473f51690>"
      ]
     },
     "metadata": {},
     "output_type": "display_data"
    },
    {
     "data": {
      "image/png": "[encoded data removed]",
      "text/plain": [
       "<matplotlib.figure.Figure at 0x7fc473fb3e10>"
      ]
     },
     "metadata": {},
     "output_type": "display_data"
    },
    {
     "data": {
      "image/png": "[encoded data removed]",
      "text/plain": [
       "<matplotlib.figure.Figure at 0x7fc473b81350>"
      ]
     },
     "metadata": {},
     "output_type": "display_data"
    }
   ],
   "source": [
    "import seaborn as sns\n",
    "\n",
    "#for sex,embark place,class\n",
    "fig, (axis1, axis2,axis3) = plt.subplots(1,3,figsize =(15,5))\n",
    "\n",
    "sex_perc = titanic_data[['Survived', 'Sex']].groupby(['Sex'],as_index=False).mean()\n",
    "sns.barplot(x='Sex',y='Survived', data = sex_perc, order=['female','male'],ax=axis1)\n",
    "\n",
    "embark_perc = titanic_data[['Embarked', 'Survived']].groupby(['Embarked'],as_index=False).mean()\n",
    "sns.barplot(x='Embarked',y='Survived', data = embark_perc,ax=axis2)\n",
    "\n",
    "class_perc = titanic_data[['Pclass', 'Survived']].groupby(['Pclass'],as_index=False).mean()\n",
    "sns.barplot(x='Pclass',y='Survived', data = class_perc,ax=axis3)\n",
    "\n",
    "#for cabins\n",
    "a_survived = surv_cabin.count('A') / float(cabin.count('A')) \n",
    "b_survived = surv_cabin.count('B') / float(cabin.count('B')) \n",
    "c_survived = surv_cabin.count('C') / float(cabin.count('C'))\n",
    "d_survived = surv_cabin.count('D') / float(cabin.count('D')) \n",
    "e_survived = surv_cabin.count('E') / float(cabin.count('E')) \n",
    "f_survived = surv_cabin.count('F') / float(cabin.count('F')) \n",
    "g_survived = surv_cabin.count('G') / float(cabin.count('G')) \n",
    "t_survived = surv_cabin.count('T') / float(cabin.count('T')) \n",
    "\n",
    "loc_perc = (a_survived, b_survived, c_survived, d_survived, e_survived, f_survived, g_survived, t_survived)\n",
    "N=8\n",
    "ind=np.arange(N)\n",
    "width=0.35\n",
    "fig,ax = plt.subplots()\n",
    "ax.set_xticks(ind)\n",
    "ax.set_xticklabels(('A','B','C','D','E','F','G','T'))\n",
    "rects = ax.bar(ind, loc_perc, width,align='center')\n",
    "plt.xlabel('Cabin Location')\n",
    "plt.ylabel('Percentage Survived')\n",
    "plt.title('Cabin and Survival')\n",
    "plt.ylim([0, 1])\n",
    "plt.show()\n",
    "\n",
    "#and now for age\n",
    "plt.hist(survivors.Age,bins=np.arange(0,100,5),alpha=0.5)\n",
    "plt.hist(titanic_data.Age, bins=np.arange(0,100,5),alpha=0.5)\n",
    "plt.xlabel('Age (years)')\n",
    "plt.ylabel('Frequency')\n",
    "plt.title('Age and Survival')\n",
    "plt.legend('Survivors','All')\n",
    "plt.show()\n",
    "\n",
    "#for those that didn't travel alone\n",
    "plt.hist(survivors.SibSp,bins=np.arange(0,10,1),alpha=0.5)\n",
    "plt.hist(titanic_data.SibSp, bins=np.arange(0,10,1),alpha=0.5)\n",
    "plt.xlabel('Number Spouses/Siblings Traveled With')\n",
    "plt.ylabel('Frequency')\n",
    "plt.title('Spouse/Sibling Travel and Survival')\n",
    "plt.legend(['Survivors','All'])\n",
    "plt.show()\n",
    "\n",
    "plt.hist(survivors.Parch,bins=np.arange(0,10,1),alpha=0.5)\n",
    "plt.hist(titanic_data.Parch, bins=np.arange(0,10,1),alpha=0.5)\n",
    "plt.xlabel('Number Parents/Children Traveled With')\n",
    "plt.ylabel('Frequency')\n",
    "plt.title('Parent/Child Travel and Survival')\n",
    "plt.legend(['Survivors','All'])\n",
    "plt.show()"
   ]
  },
  {
   "cell_type": "markdown",
   "metadata": {},
   "source": [
    "Now let's try using grouby to simply look at the survival rates between a combination of different groups."
   ]
  },
  {
   "cell_type": "code",
   "execution_count": 195,
   "metadata": {
    "collapsed": false
   },
   "outputs": [
    {
     "name": "stderr",
     "output_type": "stream",
     "text": [
      "/home/vpreston/anaconda2/lib/python2.7/site-packages/ipykernel/__main__.py:27: SettingWithCopyWarning: \n",
      "A value is trying to be set on a copy of a slice from a DataFrame.\n",
      "Try using .loc[row_indexer,col_indexer] = value instead\n",
      "\n",
      "See the caveats in the documentation: http://pandas.pydata.org/pandas-docs/stable/indexing.html#indexing-view-versus-copy\n",
      "/home/vpreston/anaconda2/lib/python2.7/site-packages/ipykernel/__main__.py:28: SettingWithCopyWarning: \n",
      "A value is trying to be set on a copy of a slice from a DataFrame.\n",
      "Try using .loc[row_indexer,col_indexer] = value instead\n",
      "\n",
      "See the caveats in the documentation: http://pandas.pydata.org/pandas-docs/stable/indexing.html#indexing-view-versus-copy\n"
     ]
    }
   ],
   "source": [
    "#first, I might as well create a recode that associates someone as young, old and inbetween since this seems to be useful\n",
    "def parse_age(num):\n",
    "    \"\"\" convert a given age into a string indicator of relative age \"\"\"\n",
    "    if num <= 10:\n",
    "        return 'Youth'\n",
    "    elif num > 10 and num <= 20:\n",
    "        return 'Teen'\n",
    "    elif num > 20 and num <= 30:\n",
    "        return 'Young Adult'\n",
    "    elif num > 30 and num <= 60:\n",
    "        return 'Adult'\n",
    "    else:\n",
    "        return 'Senior'\n",
    "\n",
    "#let's apply that and add a column\n",
    "rel_age_ind = []\n",
    "for age in titanic_data.Age:\n",
    "    rel_age = parse_age(age)\n",
    "    rel_age_ind.append(rel_age)\n",
    "titanic_data['Relage'] = rel_age_ind\n",
    "\n",
    "#something I've also been doing a workaround on is relative cabin location on the boat, so recode time!\n",
    "rel_age_ind_cabin = []\n",
    "for age in cabin_data.Age:\n",
    "    rel_age = parse_age(age)\n",
    "    rel_age_ind_cabin.append(rel_age)\n",
    "cabin_data['Relage'] = rel_age_ind_cabin\n",
    "cabin_data['Relloc'] = cabin"
   ]
  },
  {
   "cell_type": "code",
   "execution_count": 196,
   "metadata": {
    "collapsed": false
   },
   "outputs": [
    {
     "name": "stdout",
     "output_type": "stream",
     "text": [
      "               Survived\n",
      "Sex    Pclass          \n",
      "female 1       0.967391\n",
      "       2       0.921053\n",
      "       3       0.500000\n",
      "male   1       0.368852\n",
      "       2       0.157407\n",
      "       3       0.135447\n",
      "--------------\n",
      "                    Survived\n",
      "Sex    Relage               \n",
      "female Adult        0.797980\n",
      "       Senior       0.690909\n",
      "       Teen         0.739130\n",
      "       Young Adult  0.753086\n",
      "       Youth        0.612903\n",
      "male   Adult        0.213115\n",
      "       Senior       0.125874\n",
      "       Teen         0.144928\n",
      "       Young Adult  0.154362\n",
      "       Youth        0.575758\n",
      "--------------\n",
      "                    Survived\n",
      "Pclass Relage               \n",
      "1      Adult        0.654545\n",
      "       Senior       0.372093\n",
      "       Teen         0.833333\n",
      "       Young Adult  0.725000\n",
      "       Youth        0.666667\n",
      "2      Adult        0.418919\n",
      "       Senior       0.357143\n",
      "       Teen         0.500000\n",
      "       Young Adult  0.409836\n",
      "       Youth        1.000000\n",
      "3      Adult        0.153061\n",
      "       Senior       0.248227\n",
      "       Teen         0.253165\n",
      "       Young Adult  0.232558\n",
      "       Youth        0.431818\n",
      "--------------\n",
      "               Survived\n",
      "Sex    Relloc          \n",
      "female A       1.000000\n",
      "       B       1.000000\n",
      "       C       0.888889\n",
      "       D       1.000000\n",
      "       E       0.933333\n",
      "       F       1.000000\n",
      "       G       0.500000\n",
      "male   A       0.428571\n",
      "       B       0.400000\n",
      "       C       0.343750\n",
      "       D       0.466667\n",
      "       E       0.588235\n",
      "       F       0.375000\n",
      "       T       0.000000\n",
      "--------------\n",
      "              Survived\n",
      "Sex    SibSp          \n",
      "female 0      0.784884\n",
      "       1      0.754717\n",
      "       2      0.769231\n",
      "       3      0.363636\n",
      "       4      0.333333\n",
      "       5      0.000000\n",
      "       8      0.000000\n",
      "male   0      0.168203\n",
      "       1      0.310680\n",
      "       2      0.200000\n",
      "       3      0.000000\n",
      "       4      0.083333\n",
      "       5      0.000000\n",
      "       8      0.000000\n",
      "--------------\n",
      "              Survived\n",
      "Sex    Parch          \n",
      "female 0      0.786458\n",
      "       1      0.766667\n",
      "       2      0.612245\n",
      "       3      0.750000\n",
      "       4      0.000000\n",
      "       5      0.250000\n",
      "       6      0.000000\n",
      "male   0      0.165289\n",
      "       1      0.327586\n",
      "       2      0.322581\n",
      "       3      0.000000\n",
      "       4      0.000000\n",
      "       5      0.000000\n",
      "--------------\n"
     ]
    }
   ],
   "source": [
    "#let's start with looking at wealth and sex\n",
    "print titanic_data[['Survived', 'Sex','Pclass']].groupby(['Sex','Pclass'],as_index=True).mean()\n",
    "\n",
    "print '--------------'\n",
    "\n",
    "#that last one was pretty telling, now, what about age and sex?\n",
    "print titanic_data[['Survived', 'Sex','Relage']].groupby(['Sex','Relage'],as_index=True).mean()\n",
    "\n",
    "print '--------------'\n",
    "\n",
    "#interesting...what about age and wealth?\n",
    "print titanic_data[['Survived', 'Pclass','Relage']].groupby(['Pclass','Relage'],as_index=True).mean()\n",
    "\n",
    "print '--------------'\n",
    "\n",
    "#perhaps sex and location might have impacted whether they survived?\n",
    "print cabin_data[['Survived', 'Sex','Relloc']].groupby(['Sex','Relloc'],as_index=True).mean()\n",
    "\n",
    "print '--------------'\n",
    "\n",
    "#did women traveling with a sibling or spouse survive?\n",
    "print titanic_data[['Survived', 'Sex','SibSp']].groupby(['Sex','SibSp'],as_index=True).mean()\n",
    "\n",
    "print '--------------'\n",
    "\n",
    "#did men traveling with a parent or child survive?\n",
    "print titanic_data[['Survived', 'Sex','Parch']].groupby(['Sex','Parch'],as_index=True).mean()\n",
    "\n",
    "print '--------------'"
   ]
  },
  {
   "cell_type": "markdown",
   "metadata": {},
   "source": [
    "These are some pretty interesting comparisons here. Its clear that women and children had the best chances of surviving, especially if they were wealthy. Males traveling with someone seemed to have faired better than those traveling alone or with a large group. All of these check out with the anecdotes one here's about how things went down on that fateful night. \n",
    "\n",
    "Just to start getting a sense of some correlations I'll make a few scatter plots (as prompted by the warm-up assignment)."
   ]
  },
  {
   "cell_type": "code",
   "execution_count": 197,
   "metadata": {
    "collapsed": false
   },
   "outputs": [
    {
     "data": {
      "image/png": "[encoded data removed]",
      "text/plain": [
       "<matplotlib.figure.Figure at 0x7fc474646790>"
      ]
     },
     "metadata": {},
     "output_type": "display_data"
    }
   ],
   "source": [
    "#here is one which looks at age and average survival\n",
    "# age_surv = titanic_data[['Survived', 'Age']].groupby(['Age'],as_index=True).mean()\n",
    "\n",
    "ax = sns.regplot(x='Survived',y='Age',data=survivors, x_jitter=0.1)\n",
    "#I feel like scatterplots are not the best way to view any of the data provided, but as prompted by the warmup \n",
    "#assignment, here we go. It's a little silly."
   ]
  },
  {
   "cell_type": "code",
   "execution_count": null,
   "metadata": {
    "collapsed": true
   },
   "outputs": [],
   "source": []
  }
 ],
 "metadata": {
  "kernelspec": {
   "display_name": "Python 2",
   "language": "python",
   "name": "python2"
  },
  "language_info": {
   "codemirror_mode": {
    "name": "ipython",
    "version": 2
   },
   "file_extension": ".py",
   "mimetype": "text/x-python",
   "name": "python",
   "nbconvert_exporter": "python",
   "pygments_lexer": "ipython2",
   "version": "2.7.11"
  }
 },
 "nbformat": 4,
 "nbformat_minor": 0
}

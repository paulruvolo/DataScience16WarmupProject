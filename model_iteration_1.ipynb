{
 "cells": [
  {
   "cell_type": "markdown",
   "metadata": {},
   "source": [
    "In this notebook, I begin with a model that is dervied from experience using [DataQuest](https://www.dataquest.io/mission/74/getting-started-with-kaggle), and then annotate a variety of revisions tried since. Accuracies are also reported."
   ]
  },
  {
   "cell_type": "code",
   "execution_count": 294,
   "metadata": {
    "collapsed": false
   },
   "outputs": [
    {
     "name": "stdout",
     "output_type": "stream",
     "text": [
      "Data from the Titanic CSV\n",
      "<class 'pandas.core.frame.DataFrame'>\n",
      "Int64Index: 891 entries, 0 to 890\n",
      "Data columns (total 12 columns):\n",
      "PassengerId    891 non-null int64\n",
      "Survived       891 non-null int64\n",
      "Pclass         891 non-null int64\n",
      "Name           891 non-null object\n",
      "Sex            891 non-null object\n",
      "Age            714 non-null float64\n",
      "SibSp          891 non-null int64\n",
      "Parch          891 non-null int64\n",
      "Ticket         891 non-null object\n",
      "Fare           891 non-null float64\n",
      "Cabin          204 non-null object\n",
      "Embarked       889 non-null object\n",
      "dtypes: float64(2), int64(5), object(5)\n",
      "memory usage: 90.5+ KB\n",
      "----------------------\n",
      "Data from the Test CSV\n",
      "<class 'pandas.core.frame.DataFrame'>\n",
      "Int64Index: 418 entries, 0 to 417\n",
      "Data columns (total 11 columns):\n",
      "PassengerId    418 non-null int64\n",
      "Pclass         418 non-null int64\n",
      "Name           418 non-null object\n",
      "Sex            418 non-null object\n",
      "Age            332 non-null float64\n",
      "SibSp          418 non-null int64\n",
      "Parch          418 non-null int64\n",
      "Ticket         418 non-null object\n",
      "Fare           417 non-null float64\n",
      "Cabin          91 non-null object\n",
      "Embarked       418 non-null object\n",
      "dtypes: float64(2), int64(4), object(5)\n",
      "memory usage: 39.2+ KB\n"
     ]
    }
   ],
   "source": [
    "#importing and setting up my dataframes\n",
    "import pandas as pd\n",
    "from pandas import Series,DataFrame\n",
    "import numpy as np\n",
    "import matplotlib.pyplot as plt\n",
    "%matplotlib inline\n",
    "\n",
    "titanic_data = pd.read_csv('data/train.csv', dtype={'Age':np.float64})\n",
    "test_data = pd.read_csv('data/test.csv', dtype={'Age':np.float64})\n",
    "\n",
    "# titanic_data.head()\n",
    "# test_data.head()\n",
    "\n",
    "print 'Data from the Titanic CSV'\n",
    "titanic_data.info()\n",
    "print '----------------------'\n",
    "print 'Data from the Test CSV'\n",
    "test_data.info()"
   ]
  },
  {
   "cell_type": "markdown",
   "metadata": {},
   "source": [
    "First, we want to start with our titanic_data set and clean it up, filling in the missing values with either the mean or median values. In the event of categories, we'll fill in the mode of the data. For this example, I'll fill it in with the median values (in the event that some of these distributions are skewed or huge outliers are present)."
   ]
  },
  {
   "cell_type": "code",
   "execution_count": 295,
   "metadata": {
    "collapsed": false
   },
   "outputs": [
    {
     "name": "stdout",
     "output_type": "stream",
     "text": [
      "<class 'pandas.core.frame.DataFrame'>\n",
      "Int64Index: 891 entries, 0 to 890\n",
      "Data columns (total 12 columns):\n",
      "PassengerId    891 non-null int64\n",
      "Survived       891 non-null int64\n",
      "Pclass         891 non-null int64\n",
      "Name           891 non-null object\n",
      "Sex            891 non-null object\n",
      "Age            891 non-null float64\n",
      "SibSp          891 non-null int64\n",
      "Parch          891 non-null int64\n",
      "Ticket         891 non-null object\n",
      "Fare           891 non-null float64\n",
      "Cabin          204 non-null object\n",
      "Embarked       891 non-null object\n",
      "dtypes: float64(2), int64(5), object(5)\n",
      "memory usage: 90.5+ KB\n",
      "None\n"
     ]
    }
   ],
   "source": [
    "for name in titanic_data.describe():\n",
    "    titanic_data[name] = titanic_data[name].fillna(titanic_data[name].median()) #this works for numeric columns\n",
    "\n",
    "#now for categories that we care about like embarked\n",
    "\n",
    "titanic_data['Embarked'] = titanic_data['Embarked'].fillna('S') #this is the most frequent value\n",
    "    \n",
    "print titanic_data.info()"
   ]
  },
  {
   "cell_type": "markdown",
   "metadata": {},
   "source": [
    "Further, we'll make all our categories into numeric entities (sex, embarked)..."
   ]
  },
  {
   "cell_type": "code",
   "execution_count": 296,
   "metadata": {
    "collapsed": true
   },
   "outputs": [],
   "source": [
    "titanic_data.loc[titanic_data['Sex'] == 'male', 'Sex'] = 0\n",
    "titanic_data.loc[titanic_data['Sex'] == 'female', 'Sex'] = 1\n",
    "\n",
    "titanic_data.loc[titanic_data['Embarked'] == 'S', 'Embarked'] = 0\n",
    "titanic_data.loc[titanic_data['Embarked'] == 'C', 'Embarked'] = 1\n",
    "titanic_data.loc[titanic_data['Embarked'] == 'Q', 'Embarked'] = 2"
   ]
  },
  {
   "cell_type": "markdown",
   "metadata": {},
   "source": [
    "Let's predict some things! We'll try out a linear regression first."
   ]
  },
  {
   "cell_type": "code",
   "execution_count": 297,
   "metadata": {
    "collapsed": false,
    "scrolled": true
   },
   "outputs": [
    {
     "name": "stdout",
     "output_type": "stream",
     "text": [
      "0.783389450056\n"
     ]
    },
    {
     "name": "stderr",
     "output_type": "stream",
     "text": [
      "/home/vpreston/anaconda2/lib/python2.7/site-packages/ipykernel/__main__.py:25: FutureWarning: in the future, boolean array-likes will be handled as a boolean array index\n"
     ]
    }
   ],
   "source": [
    "from sklearn.linear_model import LinearRegression\n",
    "from sklearn.cross_validation import KFold\n",
    "\n",
    "predictors = ['Pclass', 'Sex', 'Age', 'SibSp', 'Parch', 'Fare', 'Embarked'] #the only things we care about for this one\n",
    "\n",
    "#initialize algorithm type\n",
    "algorith = LinearRegression()\n",
    "\n",
    "#let's generate some cross validation folds \n",
    "kf = KFold(titanic_data.shape[0], n_folds=3, random_state=1)\n",
    "\n",
    "#generate a list of predictions\n",
    "pred = []\n",
    "for train, test in kf:\n",
    "    train_predictors = (titanic_data[predictors].iloc[train,:])\n",
    "    train_target = titanic_data['Survived'].iloc[train]\n",
    "    algorith.fit(train_predictors, train_target)\n",
    "    test_predictions = algorith.predict(titanic_data[predictors].iloc[test,:])\n",
    "    pred.append(test_predictions)\n",
    "    \n",
    "#assess our training\n",
    "pred = np.concatenate(pred, axis=0)\n",
    "pred[pred > 0.5] = 1\n",
    "pred[pred <= 0.5] = 0\n",
    "accuracy = sum(pred[pred == titanic_data['Survived']] / len(pred))\n",
    "print accuracy"
   ]
  },
  {
   "cell_type": "markdown",
   "metadata": {},
   "source": [
    "In an attempt to be better than this, I will give a logistic regression a shot."
   ]
  },
  {
   "cell_type": "code",
   "execution_count": 298,
   "metadata": {
    "collapsed": false,
    "scrolled": true
   },
   "outputs": [
    {
     "name": "stdout",
     "output_type": "stream",
     "text": [
      "0.787878787879\n"
     ]
    }
   ],
   "source": [
    "from sklearn.linear_model import LogisticRegression\n",
    "from sklearn import cross_validation\n",
    "\n",
    "log_alg = LogisticRegression(random_state=1)\n",
    "scores = cross_validation.cross_val_score(log_alg, titanic_data[predictors], titanic_data['Survived'], cv=3)\n",
    "print scores.mean()"
   ]
  },
  {
   "cell_type": "markdown",
   "metadata": {},
   "source": [
    "At this point, I will now perform some analysis on the test data provided by kaggle directly, then make my first submission."
   ]
  },
  {
   "cell_type": "code",
   "execution_count": 299,
   "metadata": {
    "collapsed": false
   },
   "outputs": [
    {
     "name": "stdout",
     "output_type": "stream",
     "text": [
      "[0 0 0 0 1 0 1 0 1 0 0 0 1 0 1 1 0 0 1 1 0 0 1 1 1 0 1 0 0 0 0 0 0 1 0 0 1\n",
      " 1 0 0 0 0 0 1 1 0 0 0 1 1 0 0 1 1 0 0 0 0 0 1 0 0 0 1 1 1 1 0 1 1 1 0 1 1\n",
      " 1 1 0 1 0 1 0 0 0 0 0 0 1 1 1 0 1 0 1 0 1 0 1 0 1 0 1 0 0 0 1 0 0 0 0 0 0\n",
      " 1 1 1 1 0 0 1 0 1 1 0 1 0 0 1 0 1 0 0 0 0 1 0 0 0 0 0 1 0 0 1 0 0 0 0 0 0\n",
      " 0 0 1 0 0 1 0 0 1 1 0 1 1 0 1 0 0 1 0 0 1 1 0 0 0 0 0 1 1 0 1 1 0 0 1 0 1\n",
      " 0 1 0 0 0 0 0 0 0 0 0 1 1 0 1 1 0 0 1 0 1 1 0 1 0 0 0 0 1 0 0 1 0 1 0 1 0\n",
      " 1 0 1 1 0 1 0 0 0 1 0 0 0 0 0 0 1 1 1 1 0 0 0 0 1 0 1 1 1 0 1 0 0 0 0 0 1\n",
      " 0 0 0 1 1 0 0 0 0 1 0 0 0 1 1 0 1 0 0 0 0 1 0 1 1 1 0 0 0 0 0 0 1 0 0 0 0\n",
      " 1 0 0 0 0 0 0 0 1 1 0 0 0 0 0 0 0 1 1 1 0 0 0 0 0 0 0 0 1 0 1 0 0 0 1 0 0\n",
      " 1 0 0 0 0 0 0 0 0 0 1 0 1 0 1 0 1 1 0 0 0 1 0 1 0 0 1 0 1 1 0 1 0 0 1 1 0\n",
      " 0 1 0 0 1 1 1 0 0 0 0 0 1 1 0 1 0 0 0 0 1 1 0 0 0 1 0 1 0 0 1 0 1 1 0 0 0\n",
      " 0 1 1 1 1 1 0 1 0 0 0]\n"
     ]
    }
   ],
   "source": [
    "#I've already imported this data earlier, so that's nice.\n",
    "test_data['Age'] = test_data['Age'].fillna(titanic_data['Age'].median())\n",
    "test_data['Fare'] = test_data['Fare'].fillna(test_data['Fare'].median())\n",
    "\n",
    "test_data.loc[test_data['Sex'] == 'male', 'Sex'] = 0\n",
    "test_data.loc[test_data['Sex'] == 'female', 'Sex'] = 1\n",
    "\n",
    "test_data['Embarked'] = test_data['Embarked'].fillna('S')\n",
    "test_data.loc[test_data['Embarked'] == 'S', 'Embarked'] = 0\n",
    "test_data.loc[test_data['Embarked'] == 'C', 'Embarked'] = 1\n",
    "test_data.loc[test_data['Embarked'] == 'Q', 'Embarked'] = 2\n",
    "\n",
    "#apply an algorithm\n",
    "algo = LogisticRegression(random_state=1)\n",
    "algo.fit(titanic_data[predictors], titanic_data['Survived'])\n",
    "predicts = algo.predict(test_data[predictors])\n",
    "\n",
    "print predicts\n",
    "\n",
    "#now make a submission dataframe for Kaggle\n",
    "submission = pd.DataFrame({'PassengerId': test_data['PassengerId'], 'Survived':predicts})\n",
    "submission.to_csv('kaggle.csv', index=False)"
   ]
  },
  {
   "cell_type": "markdown",
   "metadata": {},
   "source": [
    "After submitting, I was told the accuracy of the above model was: 0.75120 (along with my other classmates - what fun!)"
   ]
  },
  {
   "cell_type": "markdown",
   "metadata": {},
   "source": [
    "Now, I would like to start making revisions to this model. From my exploration earlier, I have some assumptions about the relationships between a variety of variables. I want to use these assumed relationships to add robust predicting to my model. I start with a fresh set of training folds:"
   ]
  },
  {
   "cell_type": "code",
   "execution_count": 300,
   "metadata": {
    "collapsed": false
   },
   "outputs": [
    {
     "name": "stdout",
     "output_type": "stream",
     "text": [
      "Optimization terminated successfully.\n",
      "         Current function value: 0.421738\n",
      "         Iterations 7\n",
      "0.824915824916\n"
     ]
    },
    {
     "name": "stderr",
     "output_type": "stream",
     "text": [
      "/home/vpreston/anaconda2/lib/python2.7/site-packages/ipykernel/__main__.py:34: FutureWarning: in the future, boolean array-likes will be handled as a boolean array index\n"
     ]
    }
   ],
   "source": [
    "from sklearn.linear_model import LinearRegression\n",
    "from sklearn.cross_validation import KFold\n",
    "import statsmodels.formula.api as smf\n",
    "\n",
    "titanic = pd.read_csv('data/train.csv', dtype={'Age':np.float64})\n",
    "test = pd.read_csv('data/test.csv', dtype={'Age':np.float64})\n",
    "\n",
    "for name in titanic.describe():\n",
    "    titanic[name] = titanic[name].fillna(titanic[name].median()) #this works for numeric columns\n",
    "#now for categories that we care about like embarked\n",
    "titanic['Embarked'] = titanic['Embarked'].fillna('S') #this is the most frequent value\n",
    "titanic.loc[titanic['Sex'] == 'male', 'Sex'] = 0\n",
    "titanic.loc[titanic['Sex'] == 'female', 'Sex'] = 1\n",
    "titanic.loc[titanic['Embarked'] == 'S', 'Embarked'] = 0\n",
    "titanic.loc[titanic['Embarked'] == 'C', 'Embarked'] = 1\n",
    "titanic.loc[titanic['Embarked'] == 'Q', 'Embarked'] = 2 \n",
    "\n",
    "#now, I'm going to create a few factors which weigh some of these elements more than others (like being a young rich woman)\n",
    "\n",
    "predictors = ['Pclass', 'Sex', 'Age', 'SibSp', 'Parch', 'Fare', 'Embarked'] #the only things we care about for this one\n",
    "\n",
    "#initialize algorithm type\n",
    "# formula = 'Survived ~ C(Sex) + Age + C(Pclass) + Fare' #80%\n",
    "# formula = 'Survived ~ C(Sex) + SibSp + C(Pclass)' #80%\n",
    "# formula = 'Survived ~ Embarked * Fare + Sex * Pclass + Age * Sex + Pclass * Sex + Sex * SibSp' #82% \n",
    "formula = 'Survived ~ Sex * Pclass + Sex * Age + SibSp * Sex + Parch * Age + Pclass * Age' #83%\n",
    "model = smf.logit(formula, data=titanic)\n",
    "results = model.fit()\n",
    "\n",
    "#assess our training\n",
    "pred = results.predict()\n",
    "pred[pred > 0.5] = 1\n",
    "pred[pred <= 0.5] = 0\n",
    "accuracy = sum(pred[pred == titanic['Survived']] / len(pred))\n",
    "print accuracy\n",
    "\n",
    "#well...let's try it on the test data and submit to kaggle!\n",
    "test['Age'] = test['Age'].fillna(titanic['Age'].median())\n",
    "test['Fare'] = test['Fare'].fillna(test['Fare'].median())\n",
    "\n",
    "test.loc[test['Sex'] == 'male', 'Sex'] = 0\n",
    "test.loc[test['Sex'] == 'female', 'Sex'] = 1\n",
    "\n",
    "test['Embarked'] = test['Embarked'].fillna('S')\n",
    "test.loc[test['Embarked'] == 'S', 'Embarked'] = 0\n",
    "test.loc[test['Embarked'] == 'C', 'Embarked'] = 1\n",
    "test.loc[test['Embarked'] == 'Q', 'Embarked'] = 2\n",
    "\n",
    "#apply an algorithm\n",
    "# test_formula = 'Sex * Pclass + Sex * Age + SibSp * Sex + Parch * Age + Pclass * Age' #83%\n",
    "\n",
    "# test_model = smf.logit(test_formula, data=test)\n",
    "new = test\n",
    "predicts = results.predict(new)\n",
    "\n",
    "predicts[predicts > 0.5] = int(1)\n",
    "predicts[predicts <= 0.5] = int(0)\n",
    "\n",
    "final_pred = []\n",
    "for element in predicts:\n",
    "    final_pred.append(int(element))\n",
    "\n",
    "# print final_pred #had to do this for some random readon in which predicts was floating point...?\n",
    "\n",
    "#now make a submission dataframe for Kaggle\n",
    "submission = pd.DataFrame({'PassengerId': test['PassengerId'], 'Survived':final_pred})\n",
    "# print submission\n",
    "submission.to_csv('kaggle_rev1.csv', index=False)"
   ]
  },
  {
   "cell_type": "markdown",
   "metadata": {},
   "source": [
    "This first revision scored me a 0.78469 on the scoreboard (it informs me this is an improvement of 0.03349 and launched me 1,357 positions on the leaderboard sitting my comfy at 2,003). For this next revision, I'll push a little harder on the sibling/spouse and parch relationship which I thought was powerful in my exploration but didn't maximize here."
   ]
  },
  {
   "cell_type": "code",
   "execution_count": 301,
   "metadata": {
    "collapsed": false
   },
   "outputs": [
    {
     "name": "stdout",
     "output_type": "stream",
     "text": [
      "Optimization terminated successfully.\n",
      "         Current function value: 0.395759\n",
      "         Iterations 8\n",
      "0.83950617284\n"
     ]
    },
    {
     "name": "stderr",
     "output_type": "stream",
     "text": [
      "/home/vpreston/anaconda2/lib/python2.7/site-packages/ipykernel/__main__.py:13: FutureWarning: in the future, boolean array-likes will be handled as a boolean array index\n"
     ]
    }
   ],
   "source": [
    "# predictors = ['Pclass', 'Sex', 'Age', 'SibSp', 'Parch', 'Fare', 'Embarked'] #the only things we care about for this one\n",
    "\n",
    "# formula = 'Survived ~ (Pclass + Age + SibSp) * Sex + (Parch + Pclass) * Age + (Parch + SibSp + Fare + Sex) * Embarked + (Pclass + Parch + Fare + Age) * SibSp' #84% but the convergence was no good (0.77033)\n",
    "formula = 'Survived ~ (Pclass + SibSp + Parch + Embarked + Fare) * (Sex + Age + Pclass + SibSp + Fare)' #84% with score only of 0.77512\n",
    "\n",
    "model = smf.logit(formula, data=titanic)\n",
    "results = model.fit()\n",
    "\n",
    "#assess our training\n",
    "pred = results.predict()\n",
    "pred[pred > 0.5] = 1\n",
    "pred[pred <= 0.5] = 0\n",
    "accuracy = sum(pred[pred == titanic['Survived']] / len(pred))\n",
    "print accuracy\n",
    "\n",
    "#let's give it a shot\n",
    "new = test\n",
    "predicts = results.predict(new)\n",
    "\n",
    "predicts[predicts >= 0.5] = int(1)\n",
    "predicts[predicts < 0.5] = int(0)\n",
    "\n",
    "final_pred = []\n",
    "for element in predicts:\n",
    "    final_pred.append(int(element))\n",
    "\n",
    "#now make a submission dataframe for Kaggle\n",
    "submission = pd.DataFrame({'PassengerId': test['PassengerId'], 'Survived':final_pred})\n",
    "# print submission\n",
    "submission.to_csv('kaggle_rev2.csv', index=False)"
   ]
  },
  {
   "cell_type": "markdown",
   "metadata": {},
   "source": [
    "This revision did not perform better than the original (0.77512, which is close), however I believe this implies there is something interesting going on in the data. The test data is a little bit different than the training data, so the more specific the training formula, the less useful it is for the test data. I look forward to learning more on how to build intuition about data manipulation. I wonder if creating a recode metric might be interesting."
   ]
  },
  {
   "cell_type": "code",
   "execution_count": 302,
   "metadata": {
    "collapsed": false,
    "scrolled": true
   },
   "outputs": [
    {
     "name": "stdout",
     "output_type": "stream",
     "text": [
      "Optimization terminated successfully.\n",
      "         Current function value: 0.432147\n",
      "         Iterations 7\n",
      "0.813692480359\n"
     ]
    },
    {
     "name": "stderr",
     "output_type": "stream",
     "text": [
      "/home/vpreston/anaconda2/lib/python2.7/site-packages/ipykernel/__main__.py:13: FutureWarning: in the future, boolean array-likes will be handled as a boolean array index\n"
     ]
    }
   ],
   "source": [
    "test['Age_Recode'] = np.log10(test.Age)\n",
    "titanic['Age_Recode'] = np.log10(titanic.Age)\n",
    "\n",
    "formula = 'Survived ~ Sex * Pclass + Sex * Age + Parch * Sex' #82%\n",
    "\n",
    "model = smf.logit(formula, data=titanic)\n",
    "results = model.fit()\n",
    "\n",
    "#assess our training\n",
    "pred = results.predict()\n",
    "pred[pred > 0.5] = 1\n",
    "pred[pred <= 0.5] = 0\n",
    "accuracy = sum(pred[pred == titanic['Survived']] / len(pred))\n",
    "print accuracy\n",
    "\n",
    "#let's give it a shot\n",
    "new = test\n",
    "predicts = results.predict(new)\n",
    "\n",
    "predicts[predicts > 0.5] = int(1)\n",
    "predicts[predicts <= 0.5] = int(0)\n",
    "\n",
    "final_pred = []\n",
    "for element in predicts:\n",
    "    final_pred.append(int(element))\n",
    "\n",
    "#now make a submission dataframe for Kaggle\n",
    "submission = pd.DataFrame({'PassengerId': test['PassengerId'], 'Survived':final_pred})\n",
    "# print submission\n",
    "submission.to_csv('kaggle_rev3.csv', index=False)"
   ]
  },
  {
   "cell_type": "markdown",
   "metadata": {},
   "source": [
    "The recode didn't work, and neither did trying to up the current function value (this script scored a 0.76077) so clearly this is a balance between function value and accuracy measure. "
   ]
  },
  {
   "cell_type": "code",
   "execution_count": 303,
   "metadata": {
    "collapsed": false
   },
   "outputs": [
    {
     "name": "stdout",
     "output_type": "stream",
     "text": [
      "Optimization terminated successfully.\n",
      "         Current function value: 0.407647\n",
      "         Iterations 7\n",
      "0.828282828283\n"
     ]
    },
    {
     "name": "stderr",
     "output_type": "stream",
     "text": [
      "/home/vpreston/anaconda2/lib/python2.7/site-packages/ipykernel/__main__.py:13: FutureWarning: in the future, boolean array-likes will be handled as a boolean array index\n"
     ]
    }
   ],
   "source": [
    "test['Age_Recode'] = np.log10(test.Age)\n",
    "titanic['Age_Recode'] = np.log10(titanic.Age)\n",
    "\n",
    "formula = 'Survived ~ Sex * Pclass + Sex * Age_Recode + Parch * Sex + Age_Recode * Embarked + Age_Recode * SibSp' #82%\n",
    "\n",
    "model = smf.logit(formula, data=titanic)\n",
    "results = model.fit()\n",
    "\n",
    "#assess our training\n",
    "pred = results.predict()\n",
    "pred[pred > 0.5] = 1\n",
    "pred[pred <= 0.5] = 0\n",
    "accuracy = sum(pred[pred == titanic['Survived']] / len(pred))\n",
    "print accuracy\n",
    "\n",
    "#let's give it a shot\n",
    "new = test\n",
    "predicts = results.predict(new)\n",
    "\n",
    "predicts[predicts > 0.5] = int(1)\n",
    "predicts[predicts <= 0.5] = int(0)\n",
    "\n",
    "final_pred = []\n",
    "for element in predicts:\n",
    "    final_pred.append(int(element))\n",
    "\n",
    "#now make a submission dataframe for Kaggle\n",
    "submission = pd.DataFrame({'PassengerId': test['PassengerId'], 'Survived':final_pred})\n",
    "# print submission\n",
    "submission.to_csv('kaggle_rev4.csv', index=False)"
   ]
  },
  {
   "cell_type": "markdown",
   "metadata": {},
   "source": [
    "This was my last first revision model with score of 0.77512, not bad, but not an improvement. I'm excited to learn about more data mapping techniques to improve my current model!"
   ]
  },
  {
   "cell_type": "code",
   "execution_count": null,
   "metadata": {
    "collapsed": true
   },
   "outputs": [],
   "source": []
  }
 ],
 "metadata": {
  "kernelspec": {
   "display_name": "Python 2",
   "language": "python",
   "name": "python2"
  },
  "language_info": {
   "codemirror_mode": {
    "name": "ipython",
    "version": 2
   },
   "file_extension": ".py",
   "mimetype": "text/x-python",
   "name": "python",
   "nbconvert_exporter": "python",
   "pygments_lexer": "ipython2",
   "version": "2.7.11"
  }
 },
 "nbformat": 4,
 "nbformat_minor": 0
}

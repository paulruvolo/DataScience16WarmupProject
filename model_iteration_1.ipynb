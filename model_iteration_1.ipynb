{
 "cells": [
  {
   "cell_type": "markdown",
   "metadata": {},
   "source": [
    "In this notebook, I begin with a model that is dervied from experience using [DataQuest](https://www.dataquest.io/mission/74/getting-started-with-kaggle), and then annotate a variety of revisions tried since. Accuracies are also reported."
   ]
  },
  {
   "cell_type": "code",
   "execution_count": 51,
   "metadata": {
    "collapsed": false
   },
   "outputs": [
    {
     "name": "stdout",
     "output_type": "stream",
     "text": [
      "Data from the Titanic CSV\n",
      "<class 'pandas.core.frame.DataFrame'>\n",
      "Int64Index: 891 entries, 0 to 890\n",
      "Data columns (total 12 columns):\n",
      "PassengerId    891 non-null int64\n",
      "Survived       891 non-null int64\n",
      "Pclass         891 non-null int64\n",
      "Name           891 non-null object\n",
      "Sex            891 non-null object\n",
      "Age            714 non-null float64\n",
      "SibSp          891 non-null int64\n",
      "Parch          891 non-null int64\n",
      "Ticket         891 non-null object\n",
      "Fare           891 non-null float64\n",
      "Cabin          204 non-null object\n",
      "Embarked       889 non-null object\n",
      "dtypes: float64(2), int64(5), object(5)\n",
      "memory usage: 90.5+ KB\n",
      "----------------------\n",
      "Data from the Test CSV\n",
      "<class 'pandas.core.frame.DataFrame'>\n",
      "Int64Index: 418 entries, 0 to 417\n",
      "Data columns (total 11 columns):\n",
      "PassengerId    418 non-null int64\n",
      "Pclass         418 non-null int64\n",
      "Name           418 non-null object\n",
      "Sex            418 non-null object\n",
      "Age            332 non-null float64\n",
      "SibSp          418 non-null int64\n",
      "Parch          418 non-null int64\n",
      "Ticket         418 non-null object\n",
      "Fare           417 non-null float64\n",
      "Cabin          91 non-null object\n",
      "Embarked       418 non-null object\n",
      "dtypes: float64(2), int64(4), object(5)\n",
      "memory usage: 39.2+ KB\n"
     ]
    }
   ],
   "source": [
    "#importing and setting up my dataframes\n",
    "import pandas as pd\n",
    "from pandas import Series,DataFrame\n",
    "import numpy as np\n",
    "import matplotlib.pyplot as plt\n",
    "%matplotlib inline\n",
    "\n",
    "titanic_data = pd.read_csv('data/train.csv', dtype={'Age':np.float64})\n",
    "test_data = pd.read_csv('data/test.csv', dtype={'Age':np.float64})\n",
    "\n",
    "# titanic_data.head()\n",
    "# test_data.head()\n",
    "\n",
    "print 'Data from the Titanic CSV'\n",
    "titanic_data.info()\n",
    "print '----------------------'\n",
    "print 'Data from the Test CSV'\n",
    "test_data.info()"
   ]
  },
  {
   "cell_type": "markdown",
   "metadata": {},
   "source": [
    "First, we want to start with our titanic_data set and clean it up, filling in the missing values with either the mean or median values. In the event of categories, we'll fill in the mode of the data. For this example, I'll fill it in with the median values (in the event that some of these distributions are skewed or huge outliers are present)."
   ]
  },
  {
   "cell_type": "code",
   "execution_count": 52,
   "metadata": {
    "collapsed": false
   },
   "outputs": [
    {
     "name": "stdout",
     "output_type": "stream",
     "text": [
      "<class 'pandas.core.frame.DataFrame'>\n",
      "Int64Index: 891 entries, 0 to 890\n",
      "Data columns (total 12 columns):\n",
      "PassengerId    891 non-null int64\n",
      "Survived       891 non-null int64\n",
      "Pclass         891 non-null int64\n",
      "Name           891 non-null object\n",
      "Sex            891 non-null object\n",
      "Age            891 non-null float64\n",
      "SibSp          891 non-null int64\n",
      "Parch          891 non-null int64\n",
      "Ticket         891 non-null object\n",
      "Fare           891 non-null float64\n",
      "Cabin          204 non-null object\n",
      "Embarked       891 non-null object\n",
      "dtypes: float64(2), int64(5), object(5)\n",
      "memory usage: 90.5+ KB\n",
      "None\n"
     ]
    }
   ],
   "source": [
    "for name in titanic_data.describe():\n",
    "    titanic_data[name] = titanic_data[name].fillna(titanic_data[name].median()) #this works for numeric columns\n",
    "\n",
    "#now for categories that we care about like embarked\n",
    "\n",
    "titanic_data['Embarked'] = titanic_data['Embarked'].fillna('S') #this is the most frequent value\n",
    "    \n",
    "print titanic_data.info()"
   ]
  },
  {
   "cell_type": "markdown",
   "metadata": {},
   "source": [
    "Further, we'll make all our categories into numeric entities (sex, embarked)..."
   ]
  },
  {
   "cell_type": "code",
   "execution_count": 53,
   "metadata": {
    "collapsed": true
   },
   "outputs": [],
   "source": [
    "titanic_data.loc[titanic_data['Sex'] == 'male', 'Sex'] = 0\n",
    "titanic_data.loc[titanic_data['Sex'] == 'female', 'Sex'] = 1\n",
    "\n",
    "titanic_data.loc[titanic_data['Embarked'] == 'S', 'Embarked'] = 0\n",
    "titanic_data.loc[titanic_data['Embarked'] == 'C', 'Embarked'] = 1\n",
    "titanic_data.loc[titanic_data['Embarked'] == 'Q', 'Embarked'] = 2"
   ]
  },
  {
   "cell_type": "markdown",
   "metadata": {},
   "source": [
    "Let's predict some things! We'll try out a linear regression first."
   ]
  },
  {
   "cell_type": "code",
   "execution_count": 54,
   "metadata": {
    "collapsed": false,
    "scrolled": true
   },
   "outputs": [
    {
     "name": "stdout",
     "output_type": "stream",
     "text": [
      "0.783389450056\n"
     ]
    },
    {
     "name": "stderr",
     "output_type": "stream",
     "text": [
      "/home/vpreston/anaconda2/lib/python2.7/site-packages/ipykernel/__main__.py:25: FutureWarning: in the future, boolean array-likes will be handled as a boolean array index\n"
     ]
    }
   ],
   "source": [
    "from sklearn.linear_model import LinearRegression\n",
    "from sklearn.cross_validation import KFold\n",
    "\n",
    "predictors = ['Pclass', 'Sex', 'Age', 'SibSp', 'Parch', 'Fare', 'Embarked'] #the only things we care about for this one\n",
    "\n",
    "#initialize algorithm type\n",
    "algorith = LinearRegression()\n",
    "\n",
    "#let's generate some cross validation folds \n",
    "kf = KFold(titanic_data.shape[0], n_folds=3, random_state=1)\n",
    "\n",
    "#generate a list of predictions\n",
    "pred = []\n",
    "for train, test in kf:\n",
    "    train_predictors = (titanic_data[predictors].iloc[train,:])\n",
    "    train_target = titanic_data['Survived'].iloc[train]\n",
    "    algorith.fit(train_predictors, train_target)\n",
    "    test_predictions = algorith.predict(titanic_data[predictors].iloc[test,:])\n",
    "    pred.append(test_predictions)\n",
    "    \n",
    "#assess our training\n",
    "pred = np.concatenate(pred, axis=0)\n",
    "pred[pred > 0.5] = 1\n",
    "pred[pred <= 0.5] = 0\n",
    "accuracy = sum(pred[pred == titanic_data['Survived']] / len(pred))\n",
    "print accuracy"
   ]
  },
  {
   "cell_type": "markdown",
   "metadata": {},
   "source": [
    "In an attempt to be better than this, I will give a logistic regression a shot."
   ]
  },
  {
   "cell_type": "code",
   "execution_count": 55,
   "metadata": {
    "collapsed": false,
    "scrolled": true
   },
   "outputs": [
    {
     "name": "stdout",
     "output_type": "stream",
     "text": [
      "0.787878787879\n"
     ]
    }
   ],
   "source": [
    "from sklearn.linear_model import LogisticRegression\n",
    "from sklearn import cross_validation\n",
    "\n",
    "log_alg = LogisticRegression(random_state=1)\n",
    "scores = cross_validation.cross_val_score(log_alg, titanic_data[predictors], titanic_data['Survived'], cv=3)\n",
    "print scores.mean()"
   ]
  },
  {
   "cell_type": "markdown",
   "metadata": {},
   "source": [
    "At this point, I will now perform some analysis on the test data provided by kaggle directly, then make my first submission."
   ]
  },
  {
   "cell_type": "code",
   "execution_count": 56,
   "metadata": {
    "collapsed": false
   },
   "outputs": [],
   "source": [
    "#I've already imported this data earlier, so that's nice.\n",
    "test_data['Age'] = test_data['Age'].fillna(titanic_data['Age'].median())\n",
    "test_data['Fare'] = test_data['Fare'].fillna(test_data['Fare'].median())\n",
    "\n",
    "test_data.loc[test_data['Sex'] == 'male', 'Sex'] = 0\n",
    "test_data.loc[test_data['Sex'] == 'female', 'Sex'] = 1\n",
    "\n",
    "test_data['Embarked'] = test_data['Embarked'].fillna('S')\n",
    "test_data.loc[test_data['Embarked'] == 'S', 'Embarked'] = 0\n",
    "test_data.loc[test_data['Embarked'] == 'C', 'Embarked'] = 1\n",
    "test_data.loc[test_data['Embarked'] == 'Q', 'Embarked'] = 2\n",
    "\n",
    "#apply an algorithm\n",
    "algo = LogisticRegression(random_state=1)\n",
    "algo.fit(titanic_data[predictors], titanic_data['Survived'])\n",
    "predicts = algo.predict(test_data[predictors])\n",
    "\n",
    "#now make a submission dataframe for Kaggle\n",
    "submission = pd.DataFrame({'PassengerId': test_data['PassengerId'], 'Survived':predicts})\n",
    "submission.to_csv('kaggle.csv', index=False)"
   ]
  },
  {
   "cell_type": "markdown",
   "metadata": {},
   "source": [
    "After submitting, I was told the accuracy of the above model was: 0.75120 (along with my other classmates - what fun!)"
   ]
  },
  {
   "cell_type": "markdown",
   "metadata": {},
   "source": [
    "Now, I would like to start making revisions to this model..."
   ]
  },
  {
   "cell_type": "code",
   "execution_count": null,
   "metadata": {
    "collapsed": true
   },
   "outputs": [],
   "source": []
  }
 ],
 "metadata": {
  "kernelspec": {
   "display_name": "Python 2",
   "language": "python",
   "name": "python2"
  },
  "language_info": {
   "codemirror_mode": {
    "name": "ipython",
    "version": 2
   },
   "file_extension": ".py",
   "mimetype": "text/x-python",
   "name": "python",
   "nbconvert_exporter": "python",
   "pygments_lexer": "ipython2",
   "version": "2.7.11"
  }
 },
 "nbformat": 4,
 "nbformat_minor": 0
}

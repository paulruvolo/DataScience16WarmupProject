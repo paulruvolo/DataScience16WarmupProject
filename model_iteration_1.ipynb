{
 "cells": [
  {
   "cell_type": "code",
   "execution_count": 2,
   "metadata": {
    "collapsed": false
   },
   "outputs": [],
   "source": [
    "import pandas, math\n",
    "from sklearn.linear_model import LinearRegression, LogisticRegression\n",
    "import sklearn.cross_validation as cv\n",
    "import numpy as np\n",
    "\n",
    "titanic = pandas.read_csv(\"train.csv\")\n",
    "titanic_test = pandas.read_csv('test.csv')\n",
    "\n",
    "titanic['Age'] = titanic['Age'].fillna(titanic['Age'].median())\n",
    "titanic_test['Age'] = titanic_test['Age'].fillna(titanic['Age'].median())\n",
    "\n",
    "# titanic.loc[titanic[\"Sex\"] == \"male\", \"Sex\"] = 0\n",
    "# titanic.loc[titanic['Sex'] == 'female', 'Sex'] = 1\n",
    "titanic.Sex.replace(['male', 'female'], [0, 1], inplace=True)\n",
    "titanic_test.Sex.replace(['male', 'female'], [0, 1], inplace=True)\n",
    "# titanic_test.loc[titanic_test[\"Sex\"] == \"male\", \"Sex\"] = 0\n",
    "# titanic_test.loc[titanic_test['Sex'] == 'female', 'Sex'] = 1\n",
    "\n",
    "\n",
    "titanic.Embarked.fillna('S', inplace=True)\n",
    "titanic_test.Embarked.fillna('S', inplace=True)\n",
    "\n",
    "# titanic.loc[titanic.Embarked == 'S', 'Embarked'] = 0\n",
    "# titanic.loc[titanic.Embarked == 'C', 'Embarked'] = 1\n",
    "# titanic.loc[titanic.Embarked == 'Q', 'Embarked'] = 2\n",
    "titanic['Embarked'].replace(['S', 'C', 'Q'], [0, 1, 2], inplace=True)\n",
    "titanic_test['Embarked'].replace(['S', 'C', 'Q'], [0, 1, 2], inplace=True)\n",
    "# titanic_test.loc[titanic_test.Embarked == 'S', 'Embarked'] = 0\n",
    "# titanic_test.loc[titanic_test.Embarked == 'C', 'Embarked'] = 1\n",
    "# titanic_test.loc[titanic_test.Embarked == 'Q', 'Embarked'] = 2\n",
    "\n",
    "titanic_test['Fare'].fillna(titanic_test['Fare'].median(), inplace=True)"
   ]
  },
  {
   "cell_type": "markdown",
   "metadata": {},
   "source": [
    "Testing and training data has been cleaned. Time to make some changes to the model."
   ]
  },
  {
   "cell_type": "code",
   "execution_count": 3,
   "metadata": {
    "collapsed": false
   },
   "outputs": [],
   "source": [
    "titanic['LogAge'] = [math.log(val) for val in titanic['Age']]\n",
    "titanic_test['LogAge'] = [math.log(val) for val in titanic_test['Age']]\n",
    "\n",
    "titanic['Male'] = titanic.Sex\n",
    "titanic['Female'] = titanic.Male\n",
    "titanic['Female'].replace([0, 1], [0,1], inplace=True)\n",
    "\n",
    "titanic_test['Male'] = titanic_test.Sex\n",
    "titanic_test['Female'] = titanic_test.Male\n",
    "titanic_test['Female'].replace([0, 1], [0,1], inplace=True)"
   ]
  },
  {
   "cell_type": "markdown",
   "metadata": {},
   "source": [
    "Create a LogAge column which records the logarithm of the passenger's age, because a given change in age does not have the same effect across the entire distribution. \n",
    "Ideally, I would create a transformation that gave more resolution/weight to ages 0-20, and also 50-80. Differences in ages in the middle probably have less of an effect on survival.\n",
    "Remove \"ParCh\" from the list of predictors."
   ]
  },
  {
   "cell_type": "code",
   "execution_count": 4,
   "metadata": {
    "collapsed": false
   },
   "outputs": [
    {
     "name": "stdout",
     "output_type": "stream",
     "text": [
      "0.802469135802\n"
     ]
    }
   ],
   "source": [
    "predictors = [\"Pclass\", \"Sex\", \"LogAge\", \"Fare\", \"SibSp\", \"Embarked\"]\n",
    "alg = LogisticRegression(random_state=1)\n",
    "scores = cv.cross_val_score(alg, titanic[predictors], titanic[\"Survived\"], cv=3)\n",
    "print scores.mean()"
   ]
  },
  {
   "cell_type": "code",
   "execution_count": 7,
   "metadata": {
    "collapsed": false
   },
   "outputs": [],
   "source": [
    "alg.fit(titanic[predictors], titanic[\"Survived\"])\n",
    "predictions = alg.predict(titanic_test[predictors])\n",
    "\n",
    "submission = pandas.DataFrame({\n",
    "        \"PassengerId\": titanic_test[\"PassengerId\"],\n",
    "        \"Survived\": predictions\n",
    "    })\n",
    "    \n",
    "submission.to_csv(\"kaggle.csv\", index=False)"
   ]
  },
  {
   "cell_type": "markdown",
   "metadata": {},
   "source": [
    "The new kaggle score is .77033"
   ]
  },
  {
   "cell_type": "code",
   "execution_count": null,
   "metadata": {
    "collapsed": true
   },
   "outputs": [],
   "source": []
  },
  {
   "cell_type": "code",
   "execution_count": null,
   "metadata": {
    "collapsed": true
   },
   "outputs": [],
   "source": []
  }
 ],
 "metadata": {
  "kernelspec": {
   "display_name": "Python 2",
   "language": "python",
   "name": "python2"
  },
  "language_info": {
   "codemirror_mode": {
    "name": "ipython",
    "version": 2
   },
   "file_extension": ".py",
   "mimetype": "text/x-python",
   "name": "python",
   "nbconvert_exporter": "python",
   "pygments_lexer": "ipython2",
   "version": "2.7.11"
  }
 },
 "nbformat": 4,
 "nbformat_minor": 0
}
